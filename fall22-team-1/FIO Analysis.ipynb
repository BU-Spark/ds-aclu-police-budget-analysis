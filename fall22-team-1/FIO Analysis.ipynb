{
 "cells": [
  {
   "cell_type": "code",
   "execution_count": 2,
   "id": "4a494678",
   "metadata": {},
   "outputs": [],
   "source": [
    "import matplotlib.pyplot as plt \n",
    "import numpy as np\n",
    "import pandas as pd\n",
    "import folium\n",
    "\n",
    "from folium import plugins\n",
    "from folium.plugins import HeatMap\n",
    "\n",
    "from matplotlib import font_manager\n",
    "\n",
    "font_dir = ['C:/Users/anton_zwjvzg0/Documents/506Stuff/project/GTAmerica Font']\n",
    "for font in font_manager.findSystemFonts(font_dir):\n",
    "    font_manager.fontManager.addfont(font)\n",
    "\n",
    "font_dir = ['C:/Users/anton_zwjvzg0/Documents/506Stuff/project/GTAmerica Font Bold']\n",
    "for font in font_manager.findSystemFonts(font_dir):\n",
    "    font_manager.fontManager.addfont(font)\n",
    "    \n",
    "plt.rcParams['font.family'] = 'GT America'"
   ]
  },
  {
   "cell_type": "code",
   "execution_count": 3,
   "id": "0d66762a",
   "metadata": {},
   "outputs": [
    {
     "data": {
      "text/html": [
       "<div>\n",
       "<style scoped>\n",
       "    .dataframe tbody tr th:only-of-type {\n",
       "        vertical-align: middle;\n",
       "    }\n",
       "\n",
       "    .dataframe tbody tr th {\n",
       "        vertical-align: top;\n",
       "    }\n",
       "\n",
       "    .dataframe thead th {\n",
       "        text-align: right;\n",
       "    }\n",
       "</style>\n",
       "<table border=\"1\" class=\"dataframe\">\n",
       "  <thead>\n",
       "    <tr style=\"text-align: right;\">\n",
       "      <th></th>\n",
       "      <th>NAME</th>\n",
       "      <th>DEPARTMENT_NAME</th>\n",
       "      <th>TITLE</th>\n",
       "      <th>REGULAR</th>\n",
       "      <th>RETRO</th>\n",
       "      <th>OTHER</th>\n",
       "      <th>OVERTIME</th>\n",
       "      <th>INJURED</th>\n",
       "      <th>DETAIL</th>\n",
       "      <th>QUINN / EDUCATION INCENTIVE</th>\n",
       "      <th>TOTAL EARNINGS</th>\n",
       "      <th>POSTAL</th>\n",
       "    </tr>\n",
       "  </thead>\n",
       "  <tbody>\n",
       "    <tr>\n",
       "      <th>0</th>\n",
       "      <td>Smith,Sean P</td>\n",
       "      <td>Boston Police Department</td>\n",
       "      <td>Police Lieutenant</td>\n",
       "      <td>$145,787.56</td>\n",
       "      <td>NaN</td>\n",
       "      <td>$13,160.94</td>\n",
       "      <td>$124,395.57</td>\n",
       "      <td>NaN</td>\n",
       "      <td>$45,210.00</td>\n",
       "      <td>$36,447.09</td>\n",
       "      <td>$365,001.16</td>\n",
       "      <td>02186</td>\n",
       "    </tr>\n",
       "    <tr>\n",
       "      <th>1</th>\n",
       "      <td>Lee,Waiman</td>\n",
       "      <td>Boston Police Department</td>\n",
       "      <td>Police Detective</td>\n",
       "      <td>$108,803.25</td>\n",
       "      <td>NaN</td>\n",
       "      <td>$16,324.27</td>\n",
       "      <td>$96,126.59</td>\n",
       "      <td>NaN</td>\n",
       "      <td>$111,688.00</td>\n",
       "      <td>$27,200.78</td>\n",
       "      <td>$360,142.89</td>\n",
       "      <td>02134</td>\n",
       "    </tr>\n",
       "    <tr>\n",
       "      <th>2</th>\n",
       "      <td>Brown,John M</td>\n",
       "      <td>Boston Police Department</td>\n",
       "      <td>Police Sergeant (Det)</td>\n",
       "      <td>$132,699.44</td>\n",
       "      <td>NaN</td>\n",
       "      <td>$19,672.83</td>\n",
       "      <td>$155,123.11</td>\n",
       "      <td>NaN</td>\n",
       "      <td>$5,088.00</td>\n",
       "      <td>$33,175.06</td>\n",
       "      <td>$345,758.44</td>\n",
       "      <td>02136</td>\n",
       "    </tr>\n",
       "    <tr>\n",
       "      <th>3</th>\n",
       "      <td>Danilecki,John H</td>\n",
       "      <td>Boston Police Department</td>\n",
       "      <td>Police Captain</td>\n",
       "      <td>$162,770.15</td>\n",
       "      <td>NaN</td>\n",
       "      <td>$24,504.13</td>\n",
       "      <td>$64,326.60</td>\n",
       "      <td>$3,548.13</td>\n",
       "      <td>$43,200.00</td>\n",
       "      <td>$41,579.47</td>\n",
       "      <td>$339,928.48</td>\n",
       "      <td>02081</td>\n",
       "    </tr>\n",
       "    <tr>\n",
       "      <th>4</th>\n",
       "      <td>Barrett,Thomas E.</td>\n",
       "      <td>Boston Police Department</td>\n",
       "      <td>Police Sergeant (Det)</td>\n",
       "      <td>$132,699.44</td>\n",
       "      <td>NaN</td>\n",
       "      <td>$16,723.95</td>\n",
       "      <td>$156,754.23</td>\n",
       "      <td>NaN</td>\n",
       "      <td>NaN</td>\n",
       "      <td>$33,175.06</td>\n",
       "      <td>$339,352.68</td>\n",
       "      <td>02132</td>\n",
       "    </tr>\n",
       "    <tr>\n",
       "      <th>...</th>\n",
       "      <td>...</td>\n",
       "      <td>...</td>\n",
       "      <td>...</td>\n",
       "      <td>...</td>\n",
       "      <td>...</td>\n",
       "      <td>...</td>\n",
       "      <td>...</td>\n",
       "      <td>...</td>\n",
       "      <td>...</td>\n",
       "      <td>...</td>\n",
       "      <td>...</td>\n",
       "      <td>...</td>\n",
       "    </tr>\n",
       "    <tr>\n",
       "      <th>21853</th>\n",
       "      <td>Homan,Paul A</td>\n",
       "      <td>BPS Substitute Teachers/Nurs</td>\n",
       "      <td>Substitute Teacher</td>\n",
       "      <td>$1.52</td>\n",
       "      <td>NaN</td>\n",
       "      <td>NaN</td>\n",
       "      <td>NaN</td>\n",
       "      <td>NaN</td>\n",
       "      <td>NaN</td>\n",
       "      <td>NaN</td>\n",
       "      <td>$1.52</td>\n",
       "      <td>02188</td>\n",
       "    </tr>\n",
       "    <tr>\n",
       "      <th>21854</th>\n",
       "      <td>Lane,Cheryl A</td>\n",
       "      <td>BPS Substitute Teachers/Nurs</td>\n",
       "      <td>Sub Teacher - Retiree</td>\n",
       "      <td>$0.38</td>\n",
       "      <td>NaN</td>\n",
       "      <td>NaN</td>\n",
       "      <td>NaN</td>\n",
       "      <td>NaN</td>\n",
       "      <td>NaN</td>\n",
       "      <td>NaN</td>\n",
       "      <td>$0.38</td>\n",
       "      <td>02346</td>\n",
       "    </tr>\n",
       "    <tr>\n",
       "      <th>21855</th>\n",
       "      <td>Cura,Miguel</td>\n",
       "      <td>BPS Substitute Teachers/Nurs</td>\n",
       "      <td>Substitute Teacher HE</td>\n",
       "      <td>$0.38</td>\n",
       "      <td>NaN</td>\n",
       "      <td>NaN</td>\n",
       "      <td>NaN</td>\n",
       "      <td>NaN</td>\n",
       "      <td>NaN</td>\n",
       "      <td>NaN</td>\n",
       "      <td>$0.38</td>\n",
       "      <td>02067</td>\n",
       "    </tr>\n",
       "    <tr>\n",
       "      <th>21856</th>\n",
       "      <td>Nelson,Philip F</td>\n",
       "      <td>BPS Substitute Teachers/Nurs</td>\n",
       "      <td>Substitute Teacher HE</td>\n",
       "      <td>$0.38</td>\n",
       "      <td>NaN</td>\n",
       "      <td>NaN</td>\n",
       "      <td>NaN</td>\n",
       "      <td>NaN</td>\n",
       "      <td>NaN</td>\n",
       "      <td>NaN</td>\n",
       "      <td>$0.38</td>\n",
       "      <td>02132</td>\n",
       "    </tr>\n",
       "    <tr>\n",
       "      <th>21857</th>\n",
       "      <td>Kravette,Eva</td>\n",
       "      <td>BPS Substitute Teachers/Nurs</td>\n",
       "      <td>Substitute Teacher</td>\n",
       "      <td>$0.38</td>\n",
       "      <td>NaN</td>\n",
       "      <td>NaN</td>\n",
       "      <td>NaN</td>\n",
       "      <td>NaN</td>\n",
       "      <td>NaN</td>\n",
       "      <td>NaN</td>\n",
       "      <td>$0.38</td>\n",
       "      <td>02135</td>\n",
       "    </tr>\n",
       "  </tbody>\n",
       "</table>\n",
       "<p>21858 rows × 12 columns</p>\n",
       "</div>"
      ],
      "text/plain": [
       "                    NAME               DEPARTMENT_NAME                  TITLE  \\\n",
       "0           Smith,Sean P      Boston Police Department      Police Lieutenant   \n",
       "1             Lee,Waiman      Boston Police Department       Police Detective   \n",
       "2           Brown,John M      Boston Police Department  Police Sergeant (Det)   \n",
       "3       Danilecki,John H      Boston Police Department         Police Captain   \n",
       "4      Barrett,Thomas E.      Boston Police Department  Police Sergeant (Det)   \n",
       "...                  ...                           ...                    ...   \n",
       "21853       Homan,Paul A  BPS Substitute Teachers/Nurs     Substitute Teacher   \n",
       "21854      Lane,Cheryl A  BPS Substitute Teachers/Nurs  Sub Teacher - Retiree   \n",
       "21855        Cura,Miguel  BPS Substitute Teachers/Nurs  Substitute Teacher HE   \n",
       "21856    Nelson,Philip F  BPS Substitute Teachers/Nurs  Substitute Teacher HE   \n",
       "21857       Kravette,Eva  BPS Substitute Teachers/Nurs     Substitute Teacher   \n",
       "\n",
       "            REGULAR   RETRO         OTHER       OVERTIME      INJURED   \\\n",
       "0       $145,787.56      NaN   $13,160.94    $124,395.57           NaN   \n",
       "1       $108,803.25      NaN   $16,324.27     $96,126.59           NaN   \n",
       "2       $132,699.44      NaN   $19,672.83    $155,123.11           NaN   \n",
       "3       $162,770.15      NaN   $24,504.13     $64,326.60    $3,548.13    \n",
       "4       $132,699.44      NaN   $16,723.95    $156,754.23           NaN   \n",
       "...              ...     ...           ...            ...          ...   \n",
       "21853         $1.52      NaN           NaN            NaN          NaN   \n",
       "21854         $0.38      NaN           NaN            NaN          NaN   \n",
       "21855         $0.38      NaN           NaN            NaN          NaN   \n",
       "21856         $0.38      NaN           NaN            NaN          NaN   \n",
       "21857         $0.38      NaN           NaN            NaN          NaN   \n",
       "\n",
       "             DETAIL   QUINN / EDUCATION INCENTIVE   TOTAL EARNINGS  POSTAL  \n",
       "0        $45,210.00                    $36,447.09      $365,001.16   02186  \n",
       "1       $111,688.00                    $27,200.78      $360,142.89   02134  \n",
       "2         $5,088.00                    $33,175.06      $345,758.44   02136  \n",
       "3        $43,200.00                    $41,579.47      $339,928.48   02081  \n",
       "4                NaN                   $33,175.06      $339,352.68   02132  \n",
       "...              ...                           ...              ...    ...  \n",
       "21853            NaN                           NaN           $1.52   02188  \n",
       "21854            NaN                           NaN           $0.38   02346  \n",
       "21855            NaN                           NaN           $0.38   02067  \n",
       "21856            NaN                           NaN           $0.38   02132  \n",
       "21857            NaN                           NaN           $0.38   02135  \n",
       "\n",
       "[21858 rows x 12 columns]"
      ]
     },
     "execution_count": 3,
     "metadata": {},
     "output_type": "execute_result"
    }
   ],
   "source": [
    "df = pd.read_csv('employee-earnings-report-2021.csv', encoding = \"ISO-8859-1\")\n",
    "df_2020 = pd.read_csv('city-of-boston-calendar-year-2020-earnings.csv', encoding = \"ISO-8859-1\")\n",
    "df_2019 = pd.read_csv('allemployeescy2019_feb19_20final-all.csv', encoding = \"ISO-8859-1\")\n",
    "df_2018 = pd.read_csv('employeeearningscy18full.csv', encoding = \"ISO-8859-1\")\n",
    "#initial data\n",
    "df_2020\n",
    "\n",
    "nan_name_with_gross = df_2020[df_2020['NAME'].isnull()]\n",
    "\n",
    "nan_name_with_gross\n",
    "\n",
    "nan_name_with_gross = df[df['NAME'].isnull()]\n",
    "\n",
    "nan_name_with_gross\n",
    "\n",
    "#ONLY 2021 HAS NAN RECORDS IN NAMES, SO ONLY HAVE TO CLEAN THAT ONE UP\n",
    "\n",
    "df_2020"
   ]
  },
  {
   "cell_type": "code",
   "execution_count": 4,
   "id": "0bd07fbe",
   "metadata": {},
   "outputs": [],
   "source": [
    "all_officers_2021 = df[df['TITLE'] == 'Police Officer']\n",
    "num_officers_2021 = len(all_officers_2021)\n",
    "\n",
    "all_officers_2020 = df_2020[df_2020['TITLE'] == 'Police Officer']\n",
    "num_officers_2020 = len(all_officers_2020)\n",
    "\n",
    "all_officers_2019 = df_2019[df_2019['TITLE'] == 'Police Officer']\n",
    "num_officers_2019 = len(all_officers_2019)\n",
    "\n",
    "all_officers_2018 = df_2018[df_2018['TITLE'] == 'Police Officer']\n",
    "num_officers_2018 = len(all_officers_2018)\n",
    "\n",
    "all_non_officer_employees_2021 = df[df['TITLE'] != 'Police Officer']\n",
    "num_non_officer_employees_2021 = len(all_non_officer_employees_2021)\n",
    "\n",
    "all_non_officer_employees_2020 = df_2020[df_2020['TITLE'] != 'Police Officer']\n",
    "num_non_officer_employees_2020 = len(all_non_officer_employees_2020)\n",
    "\n",
    "all_non_officer_employees_2019 = df_2019[df_2019['TITLE'] != 'Police Officer']\n",
    "num_non_officer_employees_2019 = len(all_non_officer_employees_2019)\n",
    "\n",
    "all_non_officer_employees_2018 = df_2018[df_2018['TITLE'] != 'Police Officer']\n",
    "num_non_officer_employees_2018 = len(all_non_officer_employees_2018)\n",
    "\n",
    "prop_officers_2021 = num_officers_2021/len(df)\n",
    "\n",
    "prop_officers_2020 = num_officers_2020/len(df_2020)\n",
    "\n",
    "prop_officers_2019 = num_officers_2019/len(df_2019)\n",
    "\n",
    "prop_officers_2018 = num_officers_2018/len(df_2018)\n",
    "\n",
    "prop_non_2021 = num_non_officer_employees_2021/len(df)\n",
    "\n",
    "prop_non_2020 = num_non_officer_employees_2020/len(df_2020)\n",
    "\n",
    "prop_non_2019 = num_non_officer_employees_2019/len(df_2019)\n",
    "\n",
    "prop_non_2018 = num_non_officer_employees_2018/len(df_2018)"
   ]
  },
  {
   "cell_type": "code",
   "execution_count": 5,
   "id": "e98a6a58",
   "metadata": {},
   "outputs": [],
   "source": [
    "fio_21 = pd.read_csv('fio_2021-2.csv', encoding = \"ISO-8859-1\")\n",
    "fio_21 = fio_21[fio_21['zip'].notna()]\n",
    "fio_21 = fio_21[fio_21['zip'] != 0]"
   ]
  },
  {
   "cell_type": "code",
   "execution_count": 6,
   "id": "9d14b634",
   "metadata": {},
   "outputs": [
    {
     "data": {
      "text/plain": [
       "('NICHOLAS', 'POLITSOPOULOS')"
      ]
     },
     "execution_count": 6,
     "metadata": {},
     "output_type": "execute_result"
    }
   ],
   "source": [
    "def get_first_last(string):\n",
    "    temp = string.replace(\",\", \"\")\n",
    "    tempsplit = temp.split()\n",
    "    return tempsplit[1], tempsplit[0]\n",
    "\n",
    "get_first_last(\"POLITSOPOULOS, NICHOLAS\")"
   ]
  },
  {
   "cell_type": "code",
   "execution_count": 7,
   "id": "1a4377d0",
   "metadata": {},
   "outputs": [],
   "source": [
    "fio_21_officers = {}\n",
    "for index, row in fio_21.iterrows():\n",
    "    first, last = get_first_last(row['contact_officer_name'])\n",
    "    if (first, last) in fio_21_officers:\n",
    "        fio_21_officers[(first, last)] += 1\n",
    "    else:\n",
    "        fio_21_officers[(first, last)] = 1"
   ]
  },
  {
   "cell_type": "code",
   "execution_count": 8,
   "id": "cc94e2f2",
   "metadata": {},
   "outputs": [
    {
     "data": {
      "text/plain": [
       "660"
      ]
     },
     "execution_count": 8,
     "metadata": {},
     "output_type": "execute_result"
    }
   ],
   "source": [
    "len(fio_21_officers)"
   ]
  },
  {
   "cell_type": "code",
   "execution_count": 9,
   "id": "362db58a",
   "metadata": {},
   "outputs": [],
   "source": [
    "officers = fio_21.contact_officer_name.tolist()"
   ]
  },
  {
   "cell_type": "code",
   "execution_count": 10,
   "id": "2e1f286a",
   "metadata": {},
   "outputs": [
    {
     "data": {
      "text/plain": [
       "661"
      ]
     },
     "execution_count": 10,
     "metadata": {},
     "output_type": "execute_result"
    }
   ],
   "source": [
    "len(set(officers))"
   ]
  },
  {
   "cell_type": "code",
   "execution_count": 11,
   "id": "20df4a65",
   "metadata": {},
   "outputs": [],
   "source": [
    "def convert_to_normal(name):\n",
    "    first_let = name[0]\n",
    "    rest = name[1:].lower()\n",
    "    return first_let + rest"
   ]
  },
  {
   "cell_type": "code",
   "execution_count": 12,
   "id": "58eecdaf",
   "metadata": {},
   "outputs": [
    {
     "name": "stdout",
     "output_type": "stream",
     "text": [
      "585\n",
      "585\n"
     ]
    }
   ],
   "source": [
    "numfound = 0\n",
    "officer_pay = []\n",
    "officer_FIO = []\n",
    "for officer, num in fio_21_officers.items():\n",
    "    tempdf = df[(df['NAME'].str.contains(convert_to_normal(officer[0])) == True) & (df['NAME'].str.contains(convert_to_normal(officer[1])) == True)]\n",
    "    if len(tempdf) != 0:\n",
    "        officer_pay.append(float(tempdf.iloc[0]['TOTAL_GROSS'].replace(\",\",\"\")))\n",
    "        officer_FIO.append(num)\n",
    "        \n",
    "print(len(officer_pay))\n",
    "print(len(officer_FIO))"
   ]
  },
  {
   "cell_type": "code",
   "execution_count": 13,
   "id": "634c8f01",
   "metadata": {},
   "outputs": [
    {
     "name": "stdout",
     "output_type": "stream",
     "text": [
      "585\n",
      "585\n"
     ]
    }
   ],
   "source": [
    "officer_pay_overtime = []\n",
    "officer_FIO_overtime = []\n",
    "for officer, num in fio_21_officers.items():\n",
    "    tempdf = df[(df['NAME'].str.contains(convert_to_normal(officer[0])) == True) & (df['NAME'].str.contains(convert_to_normal(officer[1])) == True)]\n",
    "    if len(tempdf) != 0:\n",
    "        overt = tempdf.iloc[0]['OVERTIME']\n",
    "        if type(overt) == str:\n",
    "            officer_pay_overtime.append(float(overt.replace(\",\",\"\")))\n",
    "        else:\n",
    "            officer_pay_overtime.append(overt)\n",
    "        officer_FIO_overtime.append(num)\n",
    "        \n",
    "print(len(officer_pay))\n",
    "print(len(officer_FIO))"
   ]
  },
  {
   "cell_type": "code",
   "execution_count": 14,
   "id": "9493b005",
   "metadata": {},
   "outputs": [
    {
     "name": "stdout",
     "output_type": "stream",
     "text": [
      "397444.21\n",
      "1\n"
     ]
    }
   ],
   "source": [
    "print(max(officer_pay))\n",
    "print(min(officer_FIO))"
   ]
  },
  {
   "cell_type": "code",
   "execution_count": 15,
   "id": "f3fbbc72",
   "metadata": {},
   "outputs": [
    {
     "data": {
      "text/plain": [
       "Text(0, 0.5, 'Total Gross Pay')"
      ]
     },
     "execution_count": 15,
     "metadata": {},
     "output_type": "execute_result"
    },
    {
     "data": {
      "image/png": "[encoded data removed]",
      "text/plain": [
       "<Figure size 432x288 with 1 Axes>"
      ]
     },
     "metadata": {
      "needs_background": "light"
     },
     "output_type": "display_data"
    }
   ],
   "source": [
    "plt.scatter(officer_FIO, officer_pay, color = '#0055aa')\n",
    "plt.title(\"# of FIO reports per officer vs Total Gross Pay per officer in 2021\")\n",
    "plt.xlabel(\"# of FIO reports\")\n",
    "plt.ylabel(\"Total Gross Pay\")"
   ]
  },
  {
   "cell_type": "code",
   "execution_count": 16,
   "id": "58e55b0e",
   "metadata": {},
   "outputs": [
    {
     "data": {
      "text/plain": [
       "Text(0, 0.5, 'Total Overtime Pay')"
      ]
     },
     "execution_count": 16,
     "metadata": {},
     "output_type": "execute_result"
    },
    {
     "data": {
      "image/png": "[encoded data removed]",
      "text/plain": [
       "<Figure size 432x288 with 1 Axes>"
      ]
     },
     "metadata": {
      "needs_background": "light"
     },
     "output_type": "display_data"
    }
   ],
   "source": [
    "plt.scatter(officer_FIO_overtime, officer_pay_overtime, color = '#0055aa')\n",
    "plt.title(\"# of FIO reports per officer vs Total Overtime Pay per officer in 2021\")\n",
    "plt.xlabel(\"# of FIO reports\")\n",
    "plt.ylabel(\"Total Overtime Pay\")"
   ]
  },
  {
   "cell_type": "code",
   "execution_count": 17,
   "id": "563d76ac",
   "metadata": {},
   "outputs": [
    {
     "name": "stderr",
     "output_type": "stream",
     "text": [
      "No artists with labels found to put in legend.  Note that artists whose label start with an underscore are ignored when legend() is called with no argument.\n"
     ]
    },
    {
     "data": {
      "image/png": "[encoded data removed]",
      "text/plain": [
       "<Figure size 1008x576 with 1 Axes>"
      ]
     },
     "metadata": {
      "needs_background": "light"
     },
     "output_type": "display_data"
    }
   ],
   "source": [
    "#X_axis = np.arange(len(X))\n",
    "\n",
    "fig, ax = plt.subplots()\n",
    "fig.set_figheight(8)\n",
    "fig.set_figwidth(14)\n",
    "\n",
    "#plt.xticks(fontsize = 12)\n",
    "\n",
    "ax.spines['top'].set_visible(False)\n",
    "ax.spines['right'].set_visible(False)\n",
    "ax.spines['bottom'].set_visible(False)\n",
    "ax.spines['left'].set_visible(False)\n",
    "\n",
    "#csfont = {'fontname':'Century Schoolbook'}\n",
    "  \n",
    "#plt.bar(X_axis - 0.2, num_officers_per_year, 0.4, label = 'Police Officers', color = '#ef404d')\n",
    "#plt.bar(X_axis + 0.2, num_other_employees_per_year, 0.4, label = 'Other Boston Employees', color = '#0055aa')\n",
    "\n",
    "#ax.bar(X_axis - 0.2, num_officers_per_year, 0.4, label = 'Police Officers', color = '#ef404d')\n",
    "#ax.bar(X_axis + 0.2, num_other_employees_per_year, 0.4, label = 'Other Boston Employees', color = '#0055aa')\n",
    "\n",
    "ax.scatter(officer_FIO, officer_pay, color = '#0055aa')\n",
    "\n",
    "plt.grid(linewidth = 1)\n",
    "plt.title(\"There’s no clear trend between # of FIO reports and total gross pay per officer,\\n as many officers who have very few FIO reports earn a lot or a little.\", fontweight=\"bold\", fontsize = 24)\n",
    "#plt.legend(loc='upper center')\n",
    "#plt.xticks(X_axis, X)\n",
    "plt.ylabel('Gross pay', fontsize = 16)\n",
    "plt.xlabel(\"# of FIO reports\", fontsize = 16)\n",
    "leg = ax.legend(loc=(1.005, .9))\n",
    "plt.show()"
   ]
  },
  {
   "cell_type": "code",
   "execution_count": 18,
   "id": "9cc285dd",
   "metadata": {},
   "outputs": [
    {
     "name": "stderr",
     "output_type": "stream",
     "text": [
      "No artists with labels found to put in legend.  Note that artists whose label start with an underscore are ignored when legend() is called with no argument.\n"
     ]
    },
    {
     "data": {
      "image/png": "[encoded data removed]",
      "text/plain": [
       "<Figure size 1008x576 with 1 Axes>"
      ]
     },
     "metadata": {
      "needs_background": "light"
     },
     "output_type": "display_data"
    }
   ],
   "source": [
    "#X_axis = np.arange(len(X))\n",
    "\n",
    "fig, ax = plt.subplots()\n",
    "fig.set_figheight(8)\n",
    "fig.set_figwidth(14)\n",
    "\n",
    "#plt.xticks(fontsize = 12)\n",
    "\n",
    "ax.spines['top'].set_visible(False)\n",
    "ax.spines['right'].set_visible(False)\n",
    "ax.spines['bottom'].set_visible(False)\n",
    "ax.spines['left'].set_visible(False)\n",
    "\n",
    "#csfont = {'fontname':'Century Schoolbook'}\n",
    "  \n",
    "#plt.bar(X_axis - 0.2, num_officers_per_year, 0.4, label = 'Police Officers', color = '#ef404d')\n",
    "#plt.bar(X_axis + 0.2, num_other_employees_per_year, 0.4, label = 'Other Boston Employees', color = '#0055aa')\n",
    "\n",
    "#ax.bar(X_axis - 0.2, num_officers_per_year, 0.4, label = 'Police Officers', color = '#ef404d')\n",
    "#ax.bar(X_axis + 0.2, num_other_employees_per_year, 0.4, label = 'Other Boston Employees', color = '#0055aa')\n",
    "\n",
    "ax.scatter(officer_FIO_overtime, officer_pay_overtime, color = '#0055aa')\n",
    "\n",
    "plt.grid(linewidth = 1)\n",
    "plt.title(\"There’s no clear trend between # of FIO reports and total overtime pay,\\n and some individuals who have a lot of FIO reports assigned to them\\n actually get paid less overtime than many who have very few.\", fontweight=\"bold\", fontsize = 24)\n",
    "#plt.legend(loc='upper center')\n",
    "#plt.xticks(X_axis, X)\n",
    "plt.ylabel('Overtime pay', fontsize = 16)\n",
    "plt.xlabel(\"# of FIO reports\", fontsize = 16)\n",
    "leg = ax.legend(loc=(1.005, .9))\n",
    "plt.show()"
   ]
  },
  {
   "cell_type": "code",
   "execution_count": 19,
   "id": "d7d92f21",
   "metadata": {},
   "outputs": [
    {
     "data": {
      "text/html": [
       "<div>\n",
       "<style scoped>\n",
       "    .dataframe tbody tr th:only-of-type {\n",
       "        vertical-align: middle;\n",
       "    }\n",
       "\n",
       "    .dataframe tbody tr th {\n",
       "        vertical-align: top;\n",
       "    }\n",
       "\n",
       "    .dataframe thead th {\n",
       "        text-align: right;\n",
       "    }\n",
       "</style>\n",
       "<table border=\"1\" class=\"dataframe\">\n",
       "  <thead>\n",
       "    <tr style=\"text-align: right;\">\n",
       "      <th></th>\n",
       "      <th>NAME</th>\n",
       "      <th>DEPARTMENT_NAME</th>\n",
       "      <th>TITLE</th>\n",
       "      <th>REGULAR</th>\n",
       "      <th>RETRO</th>\n",
       "      <th>OTHER</th>\n",
       "      <th>OVERTIME</th>\n",
       "      <th>INJURED</th>\n",
       "      <th>DETAIL</th>\n",
       "      <th>QUINN_EDUCATION_INCENTIVE</th>\n",
       "      <th>TOTAL_GROSS</th>\n",
       "      <th>POSTAL</th>\n",
       "    </tr>\n",
       "  </thead>\n",
       "  <tbody>\n",
       "    <tr>\n",
       "      <th>4</th>\n",
       "      <td>Mosley Jr.,Curtis</td>\n",
       "      <td>Boston Police Department</td>\n",
       "      <td>Police Offc Comm Serv Offc 3$8</td>\n",
       "      <td>109,858.02</td>\n",
       "      <td>NaN</td>\n",
       "      <td>192,097.54</td>\n",
       "      <td>75,938.65</td>\n",
       "      <td>NaN</td>\n",
       "      <td>19,550.00</td>\n",
       "      <td>NaN</td>\n",
       "      <td>397,444.21</td>\n",
       "      <td>02301</td>\n",
       "    </tr>\n",
       "  </tbody>\n",
       "</table>\n",
       "</div>"
      ],
      "text/plain": [
       "                NAME           DEPARTMENT_NAME  \\\n",
       "4  Mosley Jr.,Curtis  Boston Police Department   \n",
       "\n",
       "                            TITLE     REGULAR RETRO       OTHER   OVERTIME  \\\n",
       "4  Police Offc Comm Serv Offc 3$8  109,858.02   NaN  192,097.54  75,938.65   \n",
       "\n",
       "  INJURED     DETAIL QUINN_EDUCATION_INCENTIVE TOTAL_GROSS POSTAL  \n",
       "4     NaN  19,550.00                       NaN  397,444.21  02301  "
      ]
     },
     "execution_count": 19,
     "metadata": {},
     "output_type": "execute_result"
    }
   ],
   "source": [
    "x = df[df['TOTAL_GROSS'] == '397,444.21']\n",
    "x"
   ]
  },
  {
   "cell_type": "code",
   "execution_count": null,
   "id": "7eee8ddd",
   "metadata": {},
   "outputs": [],
   "source": []
  },
  {
   "cell_type": "code",
   "execution_count": 20,
   "id": "87c675fb",
   "metadata": {},
   "outputs": [],
   "source": [
    "def convtostr(row):\n",
    "    try:\n",
    "        curzip = str(row['zip'])\n",
    "        if len(curzip) == 0:\n",
    "            return '00000'\n",
    "        elif len(curzip) == 1:\n",
    "            return '0000' + curzip\n",
    "        elif len(curzip) == 2:\n",
    "            return '000' + curzip\n",
    "        elif len(curzip) == 3:\n",
    "            return '00' + curzip\n",
    "        elif len(curzip) == 4:\n",
    "            return '0' + curzip\n",
    "        else:\n",
    "            return curzip\n",
    "    except:\n",
    "        return None\n",
    "\n",
    "fio_21['POSTAL'] = fio_21.apply(convtostr, axis = 1)"
   ]
  },
  {
   "cell_type": "code",
   "execution_count": 21,
   "id": "d71f9fef",
   "metadata": {},
   "outputs": [
    {
     "name": "stderr",
     "output_type": "stream",
     "text": [
      "C:\\Users\\ANTON_~1\\AppData\\Local\\Temp/ipykernel_14424/1804217324.py:10: SettingWithCopyWarning: \n",
      "A value is trying to be set on a copy of a slice from a DataFrame.\n",
      "Try using .loc[row_indexer,col_indexer] = value instead\n",
      "\n",
      "See the caveats in the documentation: https://pandas.pydata.org/pandas-docs/stable/user_guide/indexing.html#returning-a-view-versus-a-copy\n",
      "  all_officers_2021['TOTAL_GROSS_FLOAT'] = all_officers_2021.apply(convert_to_float, axis = 1)\n"
     ]
    }
   ],
   "source": [
    "def convert_to_float(row):\n",
    "    if pd.isna(row['TOTAL_GROSS']):\n",
    "        return 0\n",
    "    string = row['TOTAL_GROSS']\n",
    "    if type(string) == float:\n",
    "        return string\n",
    "    else:\n",
    "        return float(string.replace(\",\",\"\"))\n",
    "    \n",
    "all_officers_2021['TOTAL_GROSS_FLOAT'] = all_officers_2021.apply(convert_to_float, axis = 1)"
   ]
  },
  {
   "cell_type": "code",
   "execution_count": 35,
   "id": "699f56d2",
   "metadata": {},
   "outputs": [
    {
     "name": "stderr",
     "output_type": "stream",
     "text": [
      "C:\\Users\\ANTON_~1\\AppData\\Local\\Temp/ipykernel_14424/2880495098.py:10: SettingWithCopyWarning: \n",
      "A value is trying to be set on a copy of a slice from a DataFrame.\n",
      "Try using .loc[row_indexer,col_indexer] = value instead\n",
      "\n",
      "See the caveats in the documentation: https://pandas.pydata.org/pandas-docs/stable/user_guide/indexing.html#returning-a-view-versus-a-copy\n",
      "  all_officers_2021['OVERTIME_FLOAT'] = all_officers_2021.apply(convert_to_float_over, axis = 1)\n"
     ]
    }
   ],
   "source": [
    "def convert_to_float_over(row):\n",
    "    if pd.isna(row['OVERTIME']):\n",
    "        return 0\n",
    "    string = row['OVERTIME']\n",
    "    if type(string) == float:\n",
    "        return string\n",
    "    else:\n",
    "        return float(string.replace(\",\",\"\"))\n",
    "\n",
    "all_officers_2021['OVERTIME_FLOAT'] = all_officers_2021.apply(convert_to_float_over, axis = 1)\n",
    "#df['OVERTIME_FLOAT'] = df.apply(convert_to_float_over, axis = 1)"
   ]
  },
  {
   "cell_type": "code",
   "execution_count": 23,
   "id": "0efb53d4",
   "metadata": {},
   "outputs": [
    {
     "data": {
      "text/html": [
       "<div>\n",
       "<style scoped>\n",
       "    .dataframe tbody tr th:only-of-type {\n",
       "        vertical-align: middle;\n",
       "    }\n",
       "\n",
       "    .dataframe tbody tr th {\n",
       "        vertical-align: top;\n",
       "    }\n",
       "\n",
       "    .dataframe thead th {\n",
       "        text-align: right;\n",
       "    }\n",
       "</style>\n",
       "<table border=\"1\" class=\"dataframe\">\n",
       "  <thead>\n",
       "    <tr style=\"text-align: right;\">\n",
       "      <th></th>\n",
       "      <th>NAME</th>\n",
       "      <th>DEPARTMENT_NAME</th>\n",
       "      <th>TITLE</th>\n",
       "      <th>REGULAR</th>\n",
       "      <th>RETRO</th>\n",
       "      <th>OTHER</th>\n",
       "      <th>OVERTIME</th>\n",
       "      <th>INJURED</th>\n",
       "      <th>DETAIL</th>\n",
       "      <th>QUINN_EDUCATION_INCENTIVE</th>\n",
       "      <th>TOTAL_GROSS</th>\n",
       "      <th>POSTAL</th>\n",
       "      <th>OVERTIME_FLOAT</th>\n",
       "    </tr>\n",
       "  </thead>\n",
       "  <tbody>\n",
       "    <tr>\n",
       "      <th>0</th>\n",
       "      <td>Beckers,Richard</td>\n",
       "      <td>Boston Police Department</td>\n",
       "      <td>Police Officer</td>\n",
       "      <td>NaN</td>\n",
       "      <td>NaN</td>\n",
       "      <td>1,264,843.63</td>\n",
       "      <td>NaN</td>\n",
       "      <td>NaN</td>\n",
       "      <td>NaN</td>\n",
       "      <td>NaN</td>\n",
       "      <td>1,264,843.63</td>\n",
       "      <td>02119</td>\n",
       "      <td>0.00</td>\n",
       "    </tr>\n",
       "    <tr>\n",
       "      <th>1</th>\n",
       "      <td>McGowan,Jacqueline M.</td>\n",
       "      <td>Boston Police Department</td>\n",
       "      <td>Police Officer</td>\n",
       "      <td>NaN</td>\n",
       "      <td>NaN</td>\n",
       "      <td>1,252,990.81</td>\n",
       "      <td>NaN</td>\n",
       "      <td>NaN</td>\n",
       "      <td>NaN</td>\n",
       "      <td>NaN</td>\n",
       "      <td>1,252,990.81</td>\n",
       "      <td>02129</td>\n",
       "      <td>0.00</td>\n",
       "    </tr>\n",
       "    <tr>\n",
       "      <th>2</th>\n",
       "      <td>Harris,Shawn N</td>\n",
       "      <td>Boston Police Department</td>\n",
       "      <td>Police Offc Comm Serv Offc 3$8</td>\n",
       "      <td>69,772.10</td>\n",
       "      <td>NaN</td>\n",
       "      <td>212,739.48</td>\n",
       "      <td>82,300.87</td>\n",
       "      <td>30,939.24</td>\n",
       "      <td>12,144.00</td>\n",
       "      <td>25,178.06</td>\n",
       "      <td>433,073.75</td>\n",
       "      <td>02130</td>\n",
       "      <td>82300.87</td>\n",
       "    </tr>\n",
       "    <tr>\n",
       "      <th>3</th>\n",
       "      <td>Washington,Walter</td>\n",
       "      <td>Boston Police Department</td>\n",
       "      <td>Police Officer</td>\n",
       "      <td>100,963.38</td>\n",
       "      <td>NaN</td>\n",
       "      <td>211,900.28</td>\n",
       "      <td>67,849.66</td>\n",
       "      <td>NaN</td>\n",
       "      <td>9,016.00</td>\n",
       "      <td>10,096.55</td>\n",
       "      <td>399,825.87</td>\n",
       "      <td>02368</td>\n",
       "      <td>67849.66</td>\n",
       "    </tr>\n",
       "    <tr>\n",
       "      <th>4</th>\n",
       "      <td>Mosley Jr.,Curtis</td>\n",
       "      <td>Boston Police Department</td>\n",
       "      <td>Police Offc Comm Serv Offc 3$8</td>\n",
       "      <td>109,858.02</td>\n",
       "      <td>NaN</td>\n",
       "      <td>192,097.54</td>\n",
       "      <td>75,938.65</td>\n",
       "      <td>NaN</td>\n",
       "      <td>19,550.00</td>\n",
       "      <td>NaN</td>\n",
       "      <td>397,444.21</td>\n",
       "      <td>02301</td>\n",
       "      <td>75938.65</td>\n",
       "    </tr>\n",
       "    <tr>\n",
       "      <th>...</th>\n",
       "      <td>...</td>\n",
       "      <td>...</td>\n",
       "      <td>...</td>\n",
       "      <td>...</td>\n",
       "      <td>...</td>\n",
       "      <td>...</td>\n",
       "      <td>...</td>\n",
       "      <td>...</td>\n",
       "      <td>...</td>\n",
       "      <td>...</td>\n",
       "      <td>...</td>\n",
       "      <td>...</td>\n",
       "      <td>...</td>\n",
       "    </tr>\n",
       "    <tr>\n",
       "      <th>22547</th>\n",
       "      <td>NaN</td>\n",
       "      <td>NaN</td>\n",
       "      <td>NaN</td>\n",
       "      <td>NaN</td>\n",
       "      <td>NaN</td>\n",
       "      <td>NaN</td>\n",
       "      <td>NaN</td>\n",
       "      <td>NaN</td>\n",
       "      <td>NaN</td>\n",
       "      <td>NaN</td>\n",
       "      <td>NaN</td>\n",
       "      <td>NaN</td>\n",
       "      <td>0.00</td>\n",
       "    </tr>\n",
       "    <tr>\n",
       "      <th>22548</th>\n",
       "      <td>NaN</td>\n",
       "      <td>NaN</td>\n",
       "      <td>NaN</td>\n",
       "      <td>NaN</td>\n",
       "      <td>NaN</td>\n",
       "      <td>NaN</td>\n",
       "      <td>NaN</td>\n",
       "      <td>NaN</td>\n",
       "      <td>NaN</td>\n",
       "      <td>NaN</td>\n",
       "      <td>NaN</td>\n",
       "      <td>NaN</td>\n",
       "      <td>0.00</td>\n",
       "    </tr>\n",
       "    <tr>\n",
       "      <th>22549</th>\n",
       "      <td>NaN</td>\n",
       "      <td>NaN</td>\n",
       "      <td>NaN</td>\n",
       "      <td>NaN</td>\n",
       "      <td>NaN</td>\n",
       "      <td>NaN</td>\n",
       "      <td>NaN</td>\n",
       "      <td>NaN</td>\n",
       "      <td>NaN</td>\n",
       "      <td>NaN</td>\n",
       "      <td>NaN</td>\n",
       "      <td>NaN</td>\n",
       "      <td>0.00</td>\n",
       "    </tr>\n",
       "    <tr>\n",
       "      <th>22550</th>\n",
       "      <td>NaN</td>\n",
       "      <td>NaN</td>\n",
       "      <td>NaN</td>\n",
       "      <td>NaN</td>\n",
       "      <td>NaN</td>\n",
       "      <td>NaN</td>\n",
       "      <td>NaN</td>\n",
       "      <td>NaN</td>\n",
       "      <td>NaN</td>\n",
       "      <td>NaN</td>\n",
       "      <td>NaN</td>\n",
       "      <td>NaN</td>\n",
       "      <td>0.00</td>\n",
       "    </tr>\n",
       "    <tr>\n",
       "      <th>22551</th>\n",
       "      <td>NaN</td>\n",
       "      <td>NaN</td>\n",
       "      <td>NaN</td>\n",
       "      <td>NaN</td>\n",
       "      <td>NaN</td>\n",
       "      <td>NaN</td>\n",
       "      <td>NaN</td>\n",
       "      <td>NaN</td>\n",
       "      <td>NaN</td>\n",
       "      <td>NaN</td>\n",
       "      <td>NaN</td>\n",
       "      <td>NaN</td>\n",
       "      <td>0.00</td>\n",
       "    </tr>\n",
       "  </tbody>\n",
       "</table>\n",
       "<p>22552 rows × 13 columns</p>\n",
       "</div>"
      ],
      "text/plain": [
       "                        NAME           DEPARTMENT_NAME  \\\n",
       "0            Beckers,Richard  Boston Police Department   \n",
       "1      McGowan,Jacqueline M.  Boston Police Department   \n",
       "2             Harris,Shawn N  Boston Police Department   \n",
       "3          Washington,Walter  Boston Police Department   \n",
       "4          Mosley Jr.,Curtis  Boston Police Department   \n",
       "...                      ...                       ...   \n",
       "22547                    NaN                       NaN   \n",
       "22548                    NaN                       NaN   \n",
       "22549                    NaN                       NaN   \n",
       "22550                    NaN                       NaN   \n",
       "22551                    NaN                       NaN   \n",
       "\n",
       "                                TITLE     REGULAR RETRO         OTHER  \\\n",
       "0                      Police Officer         NaN   NaN  1,264,843.63   \n",
       "1                      Police Officer         NaN   NaN  1,252,990.81   \n",
       "2      Police Offc Comm Serv Offc 3$8   69,772.10   NaN    212,739.48   \n",
       "3                      Police Officer  100,963.38   NaN    211,900.28   \n",
       "4      Police Offc Comm Serv Offc 3$8  109,858.02   NaN    192,097.54   \n",
       "...                               ...         ...   ...           ...   \n",
       "22547                             NaN         NaN   NaN           NaN   \n",
       "22548                             NaN         NaN   NaN           NaN   \n",
       "22549                             NaN         NaN   NaN           NaN   \n",
       "22550                             NaN         NaN   NaN           NaN   \n",
       "22551                             NaN         NaN   NaN           NaN   \n",
       "\n",
       "        OVERTIME    INJURED     DETAIL QUINN_EDUCATION_INCENTIVE  \\\n",
       "0            NaN        NaN        NaN                       NaN   \n",
       "1            NaN        NaN        NaN                       NaN   \n",
       "2      82,300.87  30,939.24  12,144.00                 25,178.06   \n",
       "3      67,849.66        NaN   9,016.00                 10,096.55   \n",
       "4      75,938.65        NaN  19,550.00                       NaN   \n",
       "...          ...        ...        ...                       ...   \n",
       "22547        NaN        NaN        NaN                       NaN   \n",
       "22548        NaN        NaN        NaN                       NaN   \n",
       "22549        NaN        NaN        NaN                       NaN   \n",
       "22550        NaN        NaN        NaN                       NaN   \n",
       "22551        NaN        NaN        NaN                       NaN   \n",
       "\n",
       "        TOTAL_GROSS POSTAL  OVERTIME_FLOAT  \n",
       "0      1,264,843.63  02119            0.00  \n",
       "1      1,252,990.81  02129            0.00  \n",
       "2        433,073.75  02130        82300.87  \n",
       "3        399,825.87  02368        67849.66  \n",
       "4        397,444.21  02301        75938.65  \n",
       "...             ...    ...             ...  \n",
       "22547           NaN    NaN            0.00  \n",
       "22548           NaN    NaN            0.00  \n",
       "22549           NaN    NaN            0.00  \n",
       "22550           NaN    NaN            0.00  \n",
       "22551           NaN    NaN            0.00  \n",
       "\n",
       "[22552 rows x 13 columns]"
      ]
     },
     "execution_count": 23,
     "metadata": {},
     "output_type": "execute_result"
    }
   ],
   "source": [
    "df"
   ]
  },
  {
   "cell_type": "code",
   "execution_count": 24,
   "id": "f276b7cd",
   "metadata": {},
   "outputs": [],
   "source": [
    "zipcode_total_ov = {}\n",
    "for index, row in fio_21.iterrows():\n",
    "    officer = get_first_last(row['contact_officer_name'])\n",
    "    tempdf = df[(df['NAME'].str.contains(convert_to_normal(officer[0])) == True) & (df['NAME'].str.contains(convert_to_normal(officer[1])) == True)]\n",
    "    if len(tempdf) != 0:\n",
    "        cursal = tempdf.iloc[0]['OVERTIME_FLOAT']\n",
    "        if row['POSTAL'] not in zipcode_total_ov:\n",
    "            zipcode_total_ov[row['POSTAL']] = [cursal, 1, {officer}]\n",
    "        else:\n",
    "            zipcode_total_ov[row['POSTAL']][1] += 1\n",
    "            if officer not in zipcode_total_ov[row['POSTAL']][2]:\n",
    "                zipcode_total_ov[row['POSTAL']][0] += cursal\n",
    "                zipcode_total_ov[row['POSTAL']][2].add(officer)\n",
    "                \n",
    "lis_ov = []"
   ]
  },
  {
   "cell_type": "code",
   "execution_count": 25,
   "id": "e2070907",
   "metadata": {},
   "outputs": [
    {
     "name": "stdout",
     "output_type": "stream",
     "text": [
      "[('02115', 29005.803272727266, 117), ('02126', 37232.02552238806, 137), ('02130', 30037.472553191492, 157), ('02122', 28984.587230769226, 214), ('02116', 31198.78352272728, 230), ('02125', 38323.011810344826, 294), ('02121', 35604.49586206895, 330), ('02119', 36010.087839999986, 347), ('02124', 29591.663181818167, 398), ('02118', 33057.47749999999, 708)]\n"
     ]
    }
   ],
   "source": [
    "for zipc, sal in zipcode_total_ov.items():\n",
    "    lis_ov.append((zipc, sal[0]/len(sal[2]), sal[1]))\n",
    "\n",
    "lis_ov.sort(key = lambda x: x[2])    \n",
    "\n",
    "print(lis_ov[-10:])"
   ]
  },
  {
   "cell_type": "code",
   "execution_count": 26,
   "id": "34aa2018",
   "metadata": {},
   "outputs": [
    {
     "name": "stdout",
     "output_type": "stream",
     "text": [
      "[('02115', 29005.803272727266, 117), ('02126', 37232.02552238806, 137), ('02130', 30037.472553191492, 157), ('02122', 28984.587230769226, 214), ('02116', 31198.78352272728, 230), ('02125', 38323.011810344826, 294), ('02121', 35604.49586206895, 330), ('02119', 36010.087839999986, 347), ('02124', 29591.663181818167, 398), ('02118', 33057.47749999999, 708)]\n"
     ]
    }
   ],
   "source": [
    "print(lis_ov[-10:])"
   ]
  },
  {
   "cell_type": "code",
   "execution_count": 27,
   "id": "308da3d5",
   "metadata": {},
   "outputs": [],
   "source": [
    "top10FIOavgov = []\n",
    "top10FIOzipov = []\n",
    "top10FIOnumov = []\n",
    "\n",
    "for item in lis_ov[-10:]:\n",
    "    top10FIOavgov.append(item[1])\n",
    "    top10FIOzipov.append(item[0])\n",
    "    top10FIOnumov = [item[2]]"
   ]
  },
  {
   "cell_type": "code",
   "execution_count": 28,
   "id": "2e884ec6",
   "metadata": {},
   "outputs": [
    {
     "data": {
      "text/plain": [
       "'\\nlis = []\\nfor key, val in zipcode_total.items():\\n    lis.append([key, val[0], val[1]])\\n    \\nlis.sort(key = lambda x: x[2])\\n\\nprint(lis[-10:])\\n\\ntop10FIOavgsal = []\\ntop10FIOzip = []\\n\\nfor item in lis[-10:]:\\n    top10FIOavgsal.append(item[1])\\n    top10FIOzip.append(item[0])\\n    \\n#police_per_10k_list = [police_per_10k_2018,police_per_10k_2019,police_per_10k_2020,police_per_10k_2021]\\n\\nX_axis = np.arange(10)\\n\\nplt.bar(X_axis, top10FIOavgsal, 0.4, label = \\'Zip Code\\', color = \\'#0055aa\\')\\n\\nplt.xticks(X_axis, top10FIOzip)\\nplt.xlabel(\"Zip Code\")\\nplt.ylabel(\"Average total gross salary of officers\")\\nplt.title(\"Average total gross salaries of zip codes with top 10 most reported # of FIOs\")\\nplt.legend(loc=\\'upper center\\')\\nplt.show()'"
      ]
     },
     "execution_count": 28,
     "metadata": {},
     "output_type": "execute_result"
    }
   ],
   "source": [
    "zipcode_total = {}\n",
    "for index, row in fio_21.iterrows():\n",
    "    officer = get_first_last(row['contact_officer_name'])\n",
    "    tempdf = df[(df['NAME'].str.contains(convert_to_normal(officer[0])) == True) & (df['NAME'].str.contains(convert_to_normal(officer[1])) == True)]\n",
    "    if len(tempdf) != 0:\n",
    "        cursal = float(tempdf.iloc[0]['TOTAL_GROSS'].replace(\",\",\"\"))\n",
    "        if row['POSTAL'] not in zipcode_total:\n",
    "            zipcode_total[row['POSTAL']] = [cursal, 1, {officer}]\n",
    "        else:\n",
    "            zipcode_total[row['POSTAL']][1] += 1\n",
    "            if officer not in zipcode_total[row['POSTAL']][2]:\n",
    "                zipcode_total[row['POSTAL']][0] += cursal\n",
    "                zipcode_total[row['POSTAL']][2].add(officer)\n",
    "\n",
    "lis = []            \n",
    "\n",
    "\n",
    "            \n",
    "\"\"\"\n",
    "lis = []\n",
    "for key, val in zipcode_total.items():\n",
    "    lis.append([key, val[0], val[1]])\n",
    "    \n",
    "lis.sort(key = lambda x: x[2])\n",
    "\n",
    "print(lis[-10:])\n",
    "\n",
    "top10FIOavgsal = []\n",
    "top10FIOzip = []\n",
    "\n",
    "for item in lis[-10:]:\n",
    "    top10FIOavgsal.append(item[1])\n",
    "    top10FIOzip.append(item[0])\n",
    "    \n",
    "#police_per_10k_list = [police_per_10k_2018,police_per_10k_2019,police_per_10k_2020,police_per_10k_2021]\n",
    "\n",
    "X_axis = np.arange(10)\n",
    "\n",
    "plt.bar(X_axis, top10FIOavgsal, 0.4, label = 'Zip Code', color = '#0055aa')\n",
    "\n",
    "plt.xticks(X_axis, top10FIOzip)\n",
    "plt.xlabel(\"Zip Code\")\n",
    "plt.ylabel(\"Average total gross salary of officers\")\n",
    "plt.title(\"Average total gross salaries of zip codes with top 10 most reported # of FIOs\")\n",
    "plt.legend(loc='upper center')\n",
    "plt.show()\"\"\""
   ]
  },
  {
   "cell_type": "code",
   "execution_count": 29,
   "id": "944dbb55",
   "metadata": {},
   "outputs": [
    {
     "name": "stdout",
     "output_type": "stream",
     "text": [
      "[('02115', 142042.56636363638, 117), ('02126', 155980.88671641782, 137), ('02130', 149304.71127659577, 157), ('02122', 148989.58138461536, 214), ('02116', 144437.4811363636, 230), ('02125', 153463.5806034483, 294), ('02121', 154154.013362069, 330), ('02119', 150873.71992, 347), ('02124', 144986.47257575757, 398), ('02118', 145687.9095833333, 708)]\n"
     ]
    }
   ],
   "source": [
    "for zipc, sal in zipcode_total.items():\n",
    "    lis.append((zipc, sal[0]/len(sal[2]), sal[1]))\n",
    "\n",
    "lis.sort(key = lambda x: x[2])    \n",
    "\n",
    "print(lis[-10:])"
   ]
  },
  {
   "cell_type": "code",
   "execution_count": 30,
   "id": "cc910b5d",
   "metadata": {},
   "outputs": [
    {
     "data": {
      "image/png": "[encoded data removed]",
      "text/plain": [
       "<Figure size 432x288 with 1 Axes>"
      ]
     },
     "metadata": {
      "needs_background": "light"
     },
     "output_type": "display_data"
    }
   ],
   "source": [
    "top10FIOavg = []\n",
    "top10FIOzip = []\n",
    "top10FIOnum = []\n",
    "\n",
    "for item in lis[-10:]:\n",
    "    top10FIOavg.append(item[1])\n",
    "    top10FIOzip.append(item[0])\n",
    "    top10FIOnum = [item[2]]\n",
    "    \n",
    "#police_per_10k_list = [police_per_10k_2018,police_per_10k_2019,police_per_10k_2020,police_per_10k_2021]\n",
    "\n",
    "X_axis = np.arange(10)\n",
    "\n",
    "plt.bar(X_axis, top10FIOavg, 0.4, label = 'Zip Code', color = '#0055aa')\n",
    "\n",
    "plt.xticks(X_axis, top10FIOzip)\n",
    "plt.xlabel(\"Zip Code\")\n",
    "plt.ylabel(\"Average overtime of officers\")\n",
    "plt.title(\"Average overtime salaries of zip codes with top 10 most reported # of FIOs\")\n",
    "plt.legend(loc='upper center')\n",
    "plt.show()"
   ]
  },
  {
   "cell_type": "code",
   "execution_count": 31,
   "id": "425c8aaf",
   "metadata": {},
   "outputs": [
    {
     "data": {
      "text/plain": [
       "[29005.803272727266,\n",
       " 37232.02552238806,\n",
       " 30037.472553191492,\n",
       " 28984.587230769226,\n",
       " 31198.78352272728,\n",
       " 38323.011810344826,\n",
       " 35604.49586206895,\n",
       " 36010.087839999986,\n",
       " 29591.663181818167,\n",
       " 33057.47749999999]"
      ]
     },
     "execution_count": 31,
     "metadata": {},
     "output_type": "execute_result"
    }
   ],
   "source": [
    "top10FIOavgov"
   ]
  },
  {
   "cell_type": "code",
   "execution_count": 32,
   "id": "600041d5",
   "metadata": {},
   "outputs": [],
   "source": [
    "actualov = []\n",
    "for i in range(len(top10FIOavg)):\n",
    "    actualov.append(top10FIOavg[i] - top10FIOavgov[i])"
   ]
  },
  {
   "cell_type": "code",
   "execution_count": 36,
   "id": "055330d9",
   "metadata": {},
   "outputs": [
    {
     "name": "stdout",
     "output_type": "stream",
     "text": [
      "22768.436881150643\n",
      "133232.19042392125\n"
     ]
    }
   ],
   "source": [
    "all_officers_2021_avg_ov = all_officers_2021['OVERTIME_FLOAT'].mean()\n",
    "all_officers_2021_avg_tot = all_officers_2021['TOTAL_GROSS_FLOAT'].mean()\n",
    "print(all_officers_2021_avg_ov)\n",
    "print(all_officers_2021_avg_tot)"
   ]
  },
  {
   "cell_type": "code",
   "execution_count": 37,
   "id": "58572d2f",
   "metadata": {},
   "outputs": [
    {
     "ename": "IndexError",
     "evalue": "list assignment index out of range",
     "output_type": "error",
     "traceback": [
      "\u001b[1;31m---------------------------------------------------------------------------\u001b[0m",
      "\u001b[1;31mIndexError\u001b[0m                                Traceback (most recent call last)",
      "\u001b[1;32mC:\\Users\\ANTON_~1\\AppData\\Local\\Temp/ipykernel_14424/2614700575.py\u001b[0m in \u001b[0;36m<module>\u001b[1;34m\u001b[0m\n\u001b[1;32m----> 1\u001b[1;33m \u001b[1;32mdel\u001b[0m \u001b[0mtop10FIOzip\u001b[0m\u001b[1;33m[\u001b[0m\u001b[1;36m10\u001b[0m\u001b[1;33m]\u001b[0m\u001b[1;33m\u001b[0m\u001b[1;33m\u001b[0m\u001b[0m\n\u001b[0m",
      "\u001b[1;31mIndexError\u001b[0m: list assignment index out of range"
     ]
    }
   ],
   "source": [
    "del top10FIOzip[10]"
   ]
  },
  {
   "cell_type": "code",
   "execution_count": 38,
   "id": "ec7952d5",
   "metadata": {},
   "outputs": [
    {
     "data": {
      "image/png": "[encoded data removed]",
      "text/plain": [
       "<Figure size 1008x576 with 1 Axes>"
      ]
     },
     "metadata": {
      "needs_background": "light"
     },
     "output_type": "display_data"
    }
   ],
   "source": [
    "fig, ax = plt.subplots()\n",
    "fig.set_figheight(8)\n",
    "fig.set_figwidth(14)\n",
    "\n",
    "ax.bar(X_axis, top10FIOavg, color='#EF404E', edgecolor='#EF404E',label='Average Overtime Salary')\n",
    "ax.bar(X_axis, actualov, color='#130F54', edgecolor='#0055aa',label='Average Total Salary')\n",
    "\n",
    "\n",
    "\n",
    "plt.title('Average Overtime and Total Salaries of top 10 Zip Codes by # of FIOs')\n",
    "plt.xlabel('Zip Code')\n",
    "plt.ylabel('Dollars')\n",
    "plt.xticks(X_axis, top10FIOzip)\n",
    "leg = ax.legend(loc=(1.005, .9));\n",
    "fig.savefig('Total_BPD_Budget.png', bbox_inches='tight')"
   ]
  },
  {
   "cell_type": "code",
   "execution_count": 39,
   "id": "fb8d7e8a",
   "metadata": {},
   "outputs": [
    {
     "data": {
      "image/png": "[encoded data removed]",
      "text/plain": [
       "<Figure size 1008x576 with 1 Axes>"
      ]
     },
     "metadata": {
      "needs_background": "light"
     },
     "output_type": "display_data"
    }
   ],
   "source": [
    "top10FIOavg.append(all_officers_2021_avg_tot)\n",
    "actualov.append(all_officers_2021_avg_tot - all_officers_2021_avg_ov)\n",
    "top10FIOzip.append('Average BPD Officer')\n",
    "X_axis = np.arange(11)\n",
    "\n",
    "#X_axis = np.arange(len(X))\n",
    "\n",
    "fig, ax = plt.subplots()\n",
    "fig.set_figheight(8)\n",
    "fig.set_figwidth(14)\n",
    "\n",
    "#plt.xticks(fontsize = 12)\n",
    "\n",
    "\n",
    "\n",
    "#csfont = {'fontname':'Century Schoolbook'}\n",
    "  \n",
    "#plt.bar(X_axis - 0.2, num_officers_per_year, 0.4, label = 'Police Officers', color = '#ef404d')\n",
    "#plt.bar(X_axis + 0.2, num_other_employees_per_year, 0.4, label = 'Other Boston Employees', color = '#0055aa')\n",
    "\n",
    "#ax.bar(X_axis - 0.2, num_officers_per_year, 0.4, label = 'Police Officers', color = '#ef404d')\n",
    "#ax.bar(X_axis + 0.2, num_other_employees_per_year, 0.4, label = 'Other Boston Employees', color = '#0055aa'\n",
    "ax.spines['top'].set_visible(False)\n",
    "ax.spines['right'].set_visible(False)\n",
    "ax.spines['bottom'].set_visible(False)\n",
    "ax.spines['left'].set_visible(False)\n",
    "\n",
    "ax.bar(X_axis, top10FIOavg, color='#EF404E', edgecolor='#EF404E',label='Average Overtime Salary')\n",
    "ax.bar(X_axis, actualov, color='#130F54', edgecolor='#0055aa',label='Average Total Salary')\n",
    "\n",
    "\n",
    "plt.grid(axis = 'y', linewidth = 1)\n",
    "plt.title('The top 10 zip codes based on number of FIO reports in them have higher salaries than the average BPD officer.', fontweight=\"bold\", fontsize = 24)\n",
    "plt.ylabel('Dollars', fontsize = 16)\n",
    "plt.xlabel('Zip Code', fontsize = 16)\n",
    "plt.xticks(X_axis, top10FIOzip)\n",
    "leg = ax.legend(loc=(1.005, .9));\n",
    "fig.savefig('Total_BPD_Budget.png', bbox_inches='tight')"
   ]
  },
  {
   "cell_type": "code",
   "execution_count": 44,
   "id": "def48a70",
   "metadata": {},
   "outputs": [
    {
     "name": "stdout",
     "output_type": "stream",
     "text": [
      "[['02127', 131502.38032258063, 113], ['02126', 147064.57777777777, 158], ['02130', 139767.43777777778, 165], ['02122', 130342.68902654867, 227], ['02116', 36067.87, 271], ['02125', 121917.64976190476, 332], ['02121', 126843.57350000001, 390], ['02119', 127495.87550000001, 427], ['02124', 138738.0343939394, 460], ['02118', 100511.8775, 843]]\n"
     ]
    },
    {
     "data": {
      "image/png": "[encoded data removed]",
      "text/plain": [
       "<Figure size 432x288 with 1 Axes>"
      ]
     },
     "metadata": {
      "needs_background": "light"
     },
     "output_type": "display_data"
    }
   ],
   "source": [
    "zipcode_total_ov = {}\n",
    "for index, row in fio_21.iterrows():\n",
    "    if row['POSTAL'] not in zipcode_total_ov:\n",
    "        temp_df = all_officers_2021[all_officers_2021['POSTAL'] == row['POSTAL']]\n",
    "        temp_df = temp_df[temp_df['OVERTIME'].notna()]\n",
    "        if len(temp_df) == 0:\n",
    "            continue\n",
    "        totalsum = temp_df['OVERTIME_FLOAT'].sum()\n",
    "        #print(totalsum)\n",
    "        zipcode_total_ov[row['POSTAL']] = [totalsum, 1]\n",
    "        zipcode_total_ov[row['POSTAL']][0] /= len(temp_df)\n",
    "    else:\n",
    "        zipcode_total_ov[row['POSTAL']][1] += 1\n",
    "\n",
    "        \n",
    "lis = []\n",
    "for key, val in zipcode_total_ov.items():\n",
    "    lis.append([key, val[0], val[1]])\n",
    "    \n",
    "lis.sort(key = lambda x: x[2])\n",
    "\n",
    "print(lis[-10:])\n",
    "\n",
    "top10FIOavgover = []\n",
    "top10FIOzipov = []\n",
    "\n",
    "for item in lis[-10:]:\n",
    "    top10FIOavgover.append(item[1])\n",
    "    top10FIOzipov.append(item[0])\n",
    "    \n",
    "#police_per_10k_list = [police_per_10k_2018,police_per_10k_2019,police_per_10k_2020,police_per_10k_2021]\n",
    "\n",
    "X_axis = np.arange(10)\n",
    "\n",
    "plt.bar(X_axis, top10FIOavgover, 0.4, label = 'Zip Code', color = '#0055aa')\n",
    "\n",
    "plt.xticks(X_axis, top10FIOzipov)\n",
    "plt.xlabel(\"Zip Code\")\n",
    "plt.ylabel(\"Average overtime of officers\")\n",
    "plt.title(\"Average overtime salaries of zip codes with top 10 most reported # of FIOs\")\n",
    "plt.legend(loc='upper center')\n",
    "plt.show()"
   ]
  },
  {
   "cell_type": "code",
   "execution_count": null,
   "id": "c47cf632",
   "metadata": {},
   "outputs": [],
   "source": []
  }
 ],
 "metadata": {
  "kernelspec": {
   "display_name": "Python 3 (ipykernel)",
   "language": "python",
   "name": "python3"
  },
  "language_info": {
   "codemirror_mode": {
    "name": "ipython",
    "version": 3
   },
   "file_extension": ".py",
   "mimetype": "text/x-python",
   "name": "python",
   "nbconvert_exporter": "python",
   "pygments_lexer": "ipython3",
   "version": "3.10.7"
  }
 },
 "nbformat": 4,
 "nbformat_minor": 5
}
