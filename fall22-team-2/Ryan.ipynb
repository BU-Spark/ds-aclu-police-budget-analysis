{
 "cells": [
  {
   "cell_type": "markdown",
   "metadata": {},
   "source": [
    "QUESTION 1: Total BPD Budget vs. Previous Years\n",
    "\n",
    "FY15 Adopted: $319700081\n",
    "FY15 Approp: $319700081\n",
    "FY15 Exp: $337310895\n",
    "\n",
    "FY16 Adopted: $323509388\n",
    "FY16 Approp: $332544971\n",
    "FY16 Exp: $348887844\n",
    "\n",
    "FY17 Adopted: $356341193\n",
    "FY17 Approp: $364321048\n",
    "FY17 Exp: $364594820\n",
    "\n",
    "FY18 Adopted: $373814105\n",
    "FY18 Approp: $385562872\n",
    "FY18 Exp: $399924493\n",
    "\n",
    "FY19 Adopted: $400425675\n",
    "FY19 Approp: $400435574\n",
    "FY19 Exp: $416762373\n",
    "\n",
    "FY20 Adopted: $414237376\n",
    "FY20 Approp: $414306876\n",
    "FY20 Exp: $425553210\n",
    "\n",
    "FY21 Adopted: $404182025\n",
    "FY21 Approp: $404182025\n",
    "FY21 Exp: $422917499\n",
    "\n",
    "FY22 Adopted: $399871218\n",
    "FY22 Approp: $400451303\n",
    " \n",
    "FY23 Adopted: $395094796"
   ]
  },
  {
   "cell_type": "code",
   "execution_count": 5,
   "metadata": {},
   "outputs": [
    {
     "name": "stdout",
     "output_type": "stream",
     "text": [
      "   year     budget\n",
      "0  FY15  319700081\n",
      "1  FY16  323509388\n",
      "2  FY17  356341193\n",
      "3  FY18  373814105\n",
      "4  FY19  400425675\n",
      "5  FY20  414237376\n",
      "6  FY21  404182025\n",
      "7  FY22  399871218\n",
      "8  FY23  395094796\n"
     ]
    },
    {
     "data": {
      "application/vnd.plotly.v1+json": {
       "config": {
        "plotlyServerURL": "https://plot.ly"
       },
       "data": [
        {
         "alignmentgroup": "True",
         "hovertemplate": "year=%{x}<br>budget=%{y}<extra></extra>",
         "legendgroup": "",
         "marker": {
          "color": "#EF404E",
          "pattern": {
           "shape": ""
          }
         },
         "name": "",
         "offsetgroup": "",
         "orientation": "v",
         "showlegend": false,
         "textposition": "auto",
         "type": "bar",
         "x": [
          "FY15",
          "FY16",
          "FY17",
          "FY18",
          "FY19",
          "FY20",
          "FY21",
          "FY22",
          "FY23"
         ],
         "xaxis": "x",
         "y": [
          319700081,
          323509388,
          356341193,
          373814105,
          400425675,
          414237376,
          404182025,
          399871218,
          395094796
         ],
         "yaxis": "y"
        }
       ],
       "layout": {
        "barmode": "relative",
        "legend": {
         "tracegroupgap": 0
        },
        "plot_bgcolor": "rgba(0,0,0,0)",
        "template": {
         "data": {
          "bar": [
           {
            "error_x": {
             "color": "#2a3f5f"
            },
            "error_y": {
             "color": "#2a3f5f"
            },
            "marker": {
             "line": {
              "color": "#E5ECF6",
              "width": 0.5
             },
             "pattern": {
              "fillmode": "overlay",
              "size": 10,
              "solidity": 0.2
             }
            },
            "type": "bar"
           }
          ],
          "barpolar": [
           {
            "marker": {
             "line": {
              "color": "#E5ECF6",
              "width": 0.5
             },
             "pattern": {
              "fillmode": "overlay",
              "size": 10,
              "solidity": 0.2
             }
            },
            "type": "barpolar"
           }
          ],
          "carpet": [
           {
            "aaxis": {
             "endlinecolor": "#2a3f5f",
             "gridcolor": "white",
             "linecolor": "white",
             "minorgridcolor": "white",
             "startlinecolor": "#2a3f5f"
            },
            "baxis": {
             "endlinecolor": "#2a3f5f",
             "gridcolor": "white",
             "linecolor": "white",
             "minorgridcolor": "white",
             "startlinecolor": "#2a3f5f"
            },
            "type": "carpet"
           }
          ],
          "choropleth": [
           {
            "colorbar": {
             "outlinewidth": 0,
             "ticks": ""
            },
            "type": "choropleth"
           }
          ],
          "contour": [
           {
            "colorbar": {
             "outlinewidth": 0,
             "ticks": ""
            },
            "colorscale": [
             [
              0,
              "#0d0887"
             ],
             [
              0.1111111111111111,
              "#46039f"
             ],
             [
              0.2222222222222222,
              "#7201a8"
             ],
             [
              0.3333333333333333,
              "#9c179e"
             ],
             [
              0.4444444444444444,
              "#bd3786"
             ],
             [
              0.5555555555555556,
              "#d8576b"
             ],
             [
              0.6666666666666666,
              "#ed7953"
             ],
             [
              0.7777777777777778,
              "#fb9f3a"
             ],
             [
              0.8888888888888888,
              "#fdca26"
             ],
             [
              1,
              "#f0f921"
             ]
            ],
            "type": "contour"
           }
          ],
          "contourcarpet": [
           {
            "colorbar": {
             "outlinewidth": 0,
             "ticks": ""
            },
            "type": "contourcarpet"
           }
          ],
          "heatmap": [
           {
            "colorbar": {
             "outlinewidth": 0,
             "ticks": ""
            },
            "colorscale": [
             [
              0,
              "#0d0887"
             ],
             [
              0.1111111111111111,
              "#46039f"
             ],
             [
              0.2222222222222222,
              "#7201a8"
             ],
             [
              0.3333333333333333,
              "#9c179e"
             ],
             [
              0.4444444444444444,
              "#bd3786"
             ],
             [
              0.5555555555555556,
              "#d8576b"
             ],
             [
              0.6666666666666666,
              "#ed7953"
             ],
             [
              0.7777777777777778,
              "#fb9f3a"
             ],
             [
              0.8888888888888888,
              "#fdca26"
             ],
             [
              1,
              "#f0f921"
             ]
            ],
            "type": "heatmap"
           }
          ],
          "heatmapgl": [
           {
            "colorbar": {
             "outlinewidth": 0,
             "ticks": ""
            },
            "colorscale": [
             [
              0,
              "#0d0887"
             ],
             [
              0.1111111111111111,
              "#46039f"
             ],
             [
              0.2222222222222222,
              "#7201a8"
             ],
             [
              0.3333333333333333,
              "#9c179e"
             ],
             [
              0.4444444444444444,
              "#bd3786"
             ],
             [
              0.5555555555555556,
              "#d8576b"
             ],
             [
              0.6666666666666666,
              "#ed7953"
             ],
             [
              0.7777777777777778,
              "#fb9f3a"
             ],
             [
              0.8888888888888888,
              "#fdca26"
             ],
             [
              1,
              "#f0f921"
             ]
            ],
            "type": "heatmapgl"
           }
          ],
          "histogram": [
           {
            "marker": {
             "pattern": {
              "fillmode": "overlay",
              "size": 10,
              "solidity": 0.2
             }
            },
            "type": "histogram"
           }
          ],
          "histogram2d": [
           {
            "colorbar": {
             "outlinewidth": 0,
             "ticks": ""
            },
            "colorscale": [
             [
              0,
              "#0d0887"
             ],
             [
              0.1111111111111111,
              "#46039f"
             ],
             [
              0.2222222222222222,
              "#7201a8"
             ],
             [
              0.3333333333333333,
              "#9c179e"
             ],
             [
              0.4444444444444444,
              "#bd3786"
             ],
             [
              0.5555555555555556,
              "#d8576b"
             ],
             [
              0.6666666666666666,
              "#ed7953"
             ],
             [
              0.7777777777777778,
              "#fb9f3a"
             ],
             [
              0.8888888888888888,
              "#fdca26"
             ],
             [
              1,
              "#f0f921"
             ]
            ],
            "type": "histogram2d"
           }
          ],
          "histogram2dcontour": [
           {
            "colorbar": {
             "outlinewidth": 0,
             "ticks": ""
            },
            "colorscale": [
             [
              0,
              "#0d0887"
             ],
             [
              0.1111111111111111,
              "#46039f"
             ],
             [
              0.2222222222222222,
              "#7201a8"
             ],
             [
              0.3333333333333333,
              "#9c179e"
             ],
             [
              0.4444444444444444,
              "#bd3786"
             ],
             [
              0.5555555555555556,
              "#d8576b"
             ],
             [
              0.6666666666666666,
              "#ed7953"
             ],
             [
              0.7777777777777778,
              "#fb9f3a"
             ],
             [
              0.8888888888888888,
              "#fdca26"
             ],
             [
              1,
              "#f0f921"
             ]
            ],
            "type": "histogram2dcontour"
           }
          ],
          "mesh3d": [
           {
            "colorbar": {
             "outlinewidth": 0,
             "ticks": ""
            },
            "type": "mesh3d"
           }
          ],
          "parcoords": [
           {
            "line": {
             "colorbar": {
              "outlinewidth": 0,
              "ticks": ""
             }
            },
            "type": "parcoords"
           }
          ],
          "pie": [
           {
            "automargin": true,
            "type": "pie"
           }
          ],
          "scatter": [
           {
            "fillpattern": {
             "fillmode": "overlay",
             "size": 10,
             "solidity": 0.2
            },
            "type": "scatter"
           }
          ],
          "scatter3d": [
           {
            "line": {
             "colorbar": {
              "outlinewidth": 0,
              "ticks": ""
             }
            },
            "marker": {
             "colorbar": {
              "outlinewidth": 0,
              "ticks": ""
             }
            },
            "type": "scatter3d"
           }
          ],
          "scattercarpet": [
           {
            "marker": {
             "colorbar": {
              "outlinewidth": 0,
              "ticks": ""
             }
            },
            "type": "scattercarpet"
           }
          ],
          "scattergeo": [
           {
            "marker": {
             "colorbar": {
              "outlinewidth": 0,
              "ticks": ""
             }
            },
            "type": "scattergeo"
           }
          ],
          "scattergl": [
           {
            "marker": {
             "colorbar": {
              "outlinewidth": 0,
              "ticks": ""
             }
            },
            "type": "scattergl"
           }
          ],
          "scattermapbox": [
           {
            "marker": {
             "colorbar": {
              "outlinewidth": 0,
              "ticks": ""
             }
            },
            "type": "scattermapbox"
           }
          ],
          "scatterpolar": [
           {
            "marker": {
             "colorbar": {
              "outlinewidth": 0,
              "ticks": ""
             }
            },
            "type": "scatterpolar"
           }
          ],
          "scatterpolargl": [
           {
            "marker": {
             "colorbar": {
              "outlinewidth": 0,
              "ticks": ""
             }
            },
            "type": "scatterpolargl"
           }
          ],
          "scatterternary": [
           {
            "marker": {
             "colorbar": {
              "outlinewidth": 0,
              "ticks": ""
             }
            },
            "type": "scatterternary"
           }
          ],
          "surface": [
           {
            "colorbar": {
             "outlinewidth": 0,
             "ticks": ""
            },
            "colorscale": [
             [
              0,
              "#0d0887"
             ],
             [
              0.1111111111111111,
              "#46039f"
             ],
             [
              0.2222222222222222,
              "#7201a8"
             ],
             [
              0.3333333333333333,
              "#9c179e"
             ],
             [
              0.4444444444444444,
              "#bd3786"
             ],
             [
              0.5555555555555556,
              "#d8576b"
             ],
             [
              0.6666666666666666,
              "#ed7953"
             ],
             [
              0.7777777777777778,
              "#fb9f3a"
             ],
             [
              0.8888888888888888,
              "#fdca26"
             ],
             [
              1,
              "#f0f921"
             ]
            ],
            "type": "surface"
           }
          ],
          "table": [
           {
            "cells": {
             "fill": {
              "color": "#EBF0F8"
             },
             "line": {
              "color": "white"
             }
            },
            "header": {
             "fill": {
              "color": "#C8D4E3"
             },
             "line": {
              "color": "white"
             }
            },
            "type": "table"
           }
          ]
         },
         "layout": {
          "annotationdefaults": {
           "arrowcolor": "#2a3f5f",
           "arrowhead": 0,
           "arrowwidth": 1
          },
          "autotypenumbers": "strict",
          "coloraxis": {
           "colorbar": {
            "outlinewidth": 0,
            "ticks": ""
           }
          },
          "colorscale": {
           "diverging": [
            [
             0,
             "#8e0152"
            ],
            [
             0.1,
             "#c51b7d"
            ],
            [
             0.2,
             "#de77ae"
            ],
            [
             0.3,
             "#f1b6da"
            ],
            [
             0.4,
             "#fde0ef"
            ],
            [
             0.5,
             "#f7f7f7"
            ],
            [
             0.6,
             "#e6f5d0"
            ],
            [
             0.7,
             "#b8e186"
            ],
            [
             0.8,
             "#7fbc41"
            ],
            [
             0.9,
             "#4d9221"
            ],
            [
             1,
             "#276419"
            ]
           ],
           "sequential": [
            [
             0,
             "#0d0887"
            ],
            [
             0.1111111111111111,
             "#46039f"
            ],
            [
             0.2222222222222222,
             "#7201a8"
            ],
            [
             0.3333333333333333,
             "#9c179e"
            ],
            [
             0.4444444444444444,
             "#bd3786"
            ],
            [
             0.5555555555555556,
             "#d8576b"
            ],
            [
             0.6666666666666666,
             "#ed7953"
            ],
            [
             0.7777777777777778,
             "#fb9f3a"
            ],
            [
             0.8888888888888888,
             "#fdca26"
            ],
            [
             1,
             "#f0f921"
            ]
           ],
           "sequentialminus": [
            [
             0,
             "#0d0887"
            ],
            [
             0.1111111111111111,
             "#46039f"
            ],
            [
             0.2222222222222222,
             "#7201a8"
            ],
            [
             0.3333333333333333,
             "#9c179e"
            ],
            [
             0.4444444444444444,
             "#bd3786"
            ],
            [
             0.5555555555555556,
             "#d8576b"
            ],
            [
             0.6666666666666666,
             "#ed7953"
            ],
            [
             0.7777777777777778,
             "#fb9f3a"
            ],
            [
             0.8888888888888888,
             "#fdca26"
            ],
            [
             1,
             "#f0f921"
            ]
           ]
          },
          "colorway": [
           "#636efa",
           "#EF553B",
           "#00cc96",
           "#ab63fa",
           "#FFA15A",
           "#19d3f3",
           "#FF6692",
           "#B6E880",
           "#FF97FF",
           "#FECB52"
          ],
          "font": {
           "color": "#2a3f5f"
          },
          "geo": {
           "bgcolor": "white",
           "lakecolor": "white",
           "landcolor": "#E5ECF6",
           "showlakes": true,
           "showland": true,
           "subunitcolor": "white"
          },
          "hoverlabel": {
           "align": "left"
          },
          "hovermode": "closest",
          "mapbox": {
           "style": "light"
          },
          "paper_bgcolor": "white",
          "plot_bgcolor": "#E5ECF6",
          "polar": {
           "angularaxis": {
            "gridcolor": "white",
            "linecolor": "white",
            "ticks": ""
           },
           "bgcolor": "#E5ECF6",
           "radialaxis": {
            "gridcolor": "white",
            "linecolor": "white",
            "ticks": ""
           }
          },
          "scene": {
           "xaxis": {
            "backgroundcolor": "#E5ECF6",
            "gridcolor": "white",
            "gridwidth": 2,
            "linecolor": "white",
            "showbackground": true,
            "ticks": "",
            "zerolinecolor": "white"
           },
           "yaxis": {
            "backgroundcolor": "#E5ECF6",
            "gridcolor": "white",
            "gridwidth": 2,
            "linecolor": "white",
            "showbackground": true,
            "ticks": "",
            "zerolinecolor": "white"
           },
           "zaxis": {
            "backgroundcolor": "#E5ECF6",
            "gridcolor": "white",
            "gridwidth": 2,
            "linecolor": "white",
            "showbackground": true,
            "ticks": "",
            "zerolinecolor": "white"
           }
          },
          "shapedefaults": {
           "line": {
            "color": "#2a3f5f"
           }
          },
          "ternary": {
           "aaxis": {
            "gridcolor": "white",
            "linecolor": "white",
            "ticks": ""
           },
           "baxis": {
            "gridcolor": "white",
            "linecolor": "white",
            "ticks": ""
           },
           "bgcolor": "#E5ECF6",
           "caxis": {
            "gridcolor": "white",
            "linecolor": "white",
            "ticks": ""
           }
          },
          "title": {
           "x": 0.05
          },
          "xaxis": {
           "automargin": true,
           "gridcolor": "white",
           "linecolor": "white",
           "ticks": "",
           "title": {
            "standoff": 15
           },
           "zerolinecolor": "white",
           "zerolinewidth": 2
          },
          "yaxis": {
           "automargin": true,
           "gridcolor": "white",
           "linecolor": "white",
           "ticks": "",
           "title": {
            "standoff": 15
           },
           "zerolinecolor": "white",
           "zerolinewidth": 2
          }
         }
        },
        "title": {
         "text": "BPD Budget Each Year"
        },
        "xaxis": {
         "anchor": "y",
         "domain": [
          0,
          1
         ],
         "title": {
          "text": "year"
         }
        },
        "yaxis": {
         "anchor": "x",
         "domain": [
          0,
          1
         ],
         "gridcolor": "LightGray",
         "gridwidth": 0.5,
         "showgrid": true,
         "title": {
          "text": "budget"
         }
        }
       }
      }
     },
     "metadata": {},
     "output_type": "display_data"
    }
   ],
   "source": [
    "import pandas as pd\n",
    "import matplotlib.pyplot as plt\n",
    "\n",
    "file_adopted_operating_budget_fy23 = pd.read_csv('./Data/operating-budget.csv')\n",
    "\n",
    "budget_df_uncut = pd.DataFrame(file_adopted_operating_budget_fy23)\n",
    "\n",
    "budget_df_withNA = budget_df_uncut[['Cabinet', 'Dept', 'Program   ', 'Expense Category',\n",
    "       'FY20 Actual Expense', 'FY21 Actual Expense', 'FY22 Appropriation',\n",
    "       'FY23 Adopted']]\n",
    "\n",
    "budget_df = budget_df_withNA.dropna()\n",
    "\n",
    "# Replace '#Missing' values with '0' so we can type cast the columns to numbers\n",
    "budget_df = budget_df.replace('#Missing', '0')\n",
    "\n",
    "# Convert datatype to strings \n",
    "budget_df['FY20 Actual Expense'] = budget_df['FY20 Actual Expense'].apply(lambda x: float(x.replace(\",\",\"\").replace(\"$\",\"\")) if x != 'TOTAL_GROSS' and str(type(x)) == '<class \\'str\\'>' else x)\n",
    "budget_df['FY21 Actual Expense'] = budget_df['FY21 Actual Expense'].apply(lambda x: float(x.replace(\",\",\"\").replace(\"$\",\"\")) if x != 'TOTAL_GROSS' and str(type(x)) == '<class \\'str\\'>' else x)\n",
    "budget_df['FY22 Appropriation'] = budget_df['FY22 Appropriation'].apply(lambda x: float(x.replace(\",\",\"\").replace(\"$\",\"\")) if x != 'TOTAL_GROSS' and str(type(x)) == '<class \\'str\\'>' else x)\n",
    "budget_df['FY23 Adopted'] = budget_df['FY23 Adopted'].apply(lambda x: float(x.replace(\",\",\"\").replace(\"$\",\"\")) if x != 'TOTAL_GROSS' and str(type(x)) == '<class \\'str\\'>' else x)\n",
    "\n",
    "# Get only data from Police Department\n",
    "bpd_budget_df = budget_df.loc[budget_df['Dept'] == \"Police Department\"]\n",
    "\n",
    "# Compute sums and add to list\n",
    "bpd_budget = []\n",
    "# bpd_budget.append(bpd_budget_df['FY20 Actual Expense'].sum())\n",
    "# bpd_budget.append(bpd_budget_df['FY21 Actual Expense'].sum())\n",
    "# bpd_budget.append(bpd_budget_df['FY22 Appropriation'].sum())  # Appropriated budget = means ?? (GUESS: Proposed budget (Needs approval until adopted!))\n",
    "# bpd_budget.append(bpd_budget_df['FY23 Adopted'].sum())  # Adopted budget = 1 year spending fianncial plan\n",
    "bpd_budget = [319700081, 323509388, 356341193, 373814105, 400425675, 414237376, 404182025, 399871218, 395094796]\n",
    "\n",
    "fig1_dict = {\n",
    "    'year': ['FY15', 'FY16', 'FY17', 'FY18', 'FY19', 'FY20', 'FY21', 'FY22', 'FY23'],\n",
    "    'budget': bpd_budget\n",
    "}\n",
    "\n",
    "pd.options.plotting.backend = \"plotly\"\n",
    "df1 = pd.DataFrame(fig1_dict)\n",
    "print(df1)\n",
    "# using Plotly Express via the Pandas backend\n",
    "fig1 = df1.plot.bar(x='year', y='budget', title='BPD Budget Each Year', color_discrete_sequence=['#EF404E'])\n",
    "fig1.update_layout(plot_bgcolor='rgba(0,0,0,0)')\n",
    "fig1.update_yaxes(showgrid=True, gridwidth=0.5, gridcolor='LightGray')\n",
    "fig1.show()"
   ]
  },
  {
   "cell_type": "markdown",
   "metadata": {},
   "source": [
    "Note: FY 20 & 21 are Expenses, FY 22 and 23 are Budgets \n",
    "Police dept budget slightly decreased in recent years.\n",
    "\n",
    "Improvement:\n",
    "- We could change this to only budgets\n"
   ]
  },
  {
   "cell_type": "markdown",
   "metadata": {},
   "source": [
    "QUESTION 2: BPD Budget vs. other departments budgets + change over time\n",
    "\n",
    "Issues:\n",
    "- Which departments do we include (excluding BPD) ?\n",
    "- I look at Top 4 departments with highest budgets each year + BPD"
   ]
  },
  {
   "cell_type": "code",
   "execution_count": 6,
   "metadata": {},
   "outputs": [
    {
     "name": "stderr",
     "output_type": "stream",
     "text": [
      "/var/folders/15/ngd639_x4tn_n4xh55wvc5lr0000gn/T/ipykernel_76511/1166137425.py:11: FutureWarning:\n",
      "\n",
      "The default value of numeric_only in DataFrameGroupBy.sum is deprecated. In a future version, numeric_only will default to False. Either specify numeric_only or select only columns which should be valid for the function.\n",
      "\n"
     ]
    },
    {
     "data": {
      "application/vnd.plotly.v1+json": {
       "config": {
        "plotlyServerURL": "https://plot.ly"
       },
       "data": [
        {
         "alignmentgroup": "True",
         "hovertemplate": "dept=Boston Public Schools<br>year=%{x}<br>budget=%{y}<extra></extra>",
         "legendgroup": "Boston Public Schools",
         "marker": {
          "color": "#6c8bff",
          "pattern": {
           "shape": ""
          }
         },
         "name": "Boston Public Schools",
         "offsetgroup": "Boston Public Schools",
         "orientation": "v",
         "showlegend": true,
         "textposition": "auto",
         "type": "bar",
         "x": [
          "FY20 Expense",
          "FY21 Expense",
          "FY22 Appropriated Budget",
          "FY23 Adopted Budget"
         ],
         "xaxis": "x",
         "y": [
          1178562373,
          1260465248,
          1294719861,
          1334845508
         ],
         "yaxis": "y"
        },
        {
         "alignmentgroup": "True",
         "hovertemplate": "dept=Police Department<br>year=%{x}<br>budget=%{y}<extra></extra>",
         "legendgroup": "Police Department",
         "marker": {
          "color": "#6cffe0",
          "pattern": {
           "shape": ""
          }
         },
         "name": "Police Department",
         "offsetgroup": "Police Department",
         "orientation": "v",
         "showlegend": true,
         "textposition": "auto",
         "type": "bar",
         "x": [
          "FY20 Expense",
          "FY21 Expense",
          "FY22 Appropriated Budget",
          "FY23 Adopted Budget"
         ],
         "xaxis": "x",
         "y": [
          425553214,
          422917500,
          400306189,
          395094796
         ],
         "yaxis": "y"
        },
        {
         "alignmentgroup": "True",
         "hovertemplate": "dept=Pensions<br>year=%{x}<br>budget=%{y}<extra></extra>",
         "legendgroup": "Pensions",
         "marker": {
          "color": "#ffe06c",
          "pattern": {
           "shape": ""
          }
         },
         "name": "Pensions",
         "offsetgroup": "Pensions",
         "orientation": "v",
         "showlegend": true,
         "textposition": "auto",
         "type": "bar",
         "x": [
          "FY20 Expense",
          "FY21 Expense",
          "FY22 Appropriated Budget",
          "FY23 Adopted Budget"
         ],
         "xaxis": "x",
         "y": [
          280602756,
          292088778,
          323684235,
          353855931
         ],
         "yaxis": "y"
        },
        {
         "alignmentgroup": "True",
         "hovertemplate": "dept=Fire Department<br>year=%{x}<br>budget=%{y}<extra></extra>",
         "legendgroup": "Fire Department",
         "marker": {
          "color": "#ff6c8b",
          "pattern": {
           "shape": ""
          }
         },
         "name": "Fire Department",
         "offsetgroup": "Fire Department",
         "orientation": "v",
         "showlegend": true,
         "textposition": "auto",
         "type": "bar",
         "x": [
          "FY20 Expense",
          "FY21 Expense",
          "FY22 Appropriated Budget",
          "FY23 Adopted Budget"
         ],
         "xaxis": "x",
         "y": [
          277013028,
          268959926,
          275808106,
          276902589
         ],
         "yaxis": "y"
        },
        {
         "alignmentgroup": "True",
         "hovertemplate": "dept=Health Insurance<br>year=%{x}<br>budget=%{y}<extra></extra>",
         "legendgroup": "Health Insurance",
         "marker": {
          "color": "#e586ff",
          "pattern": {
           "shape": ""
          }
         },
         "name": "Health Insurance",
         "offsetgroup": "Health Insurance",
         "orientation": "v",
         "showlegend": true,
         "textposition": "auto",
         "type": "bar",
         "x": [
          "FY20 Expense"
         ],
         "xaxis": "x",
         "y": [
          211341951
         ],
         "yaxis": "y"
        },
        {
         "alignmentgroup": "True",
         "hovertemplate": "dept=Charter School Tuition<br>year=%{x}<br>budget=%{y}<extra></extra>",
         "legendgroup": "Charter School Tuition",
         "marker": {
          "color": "#ff976c",
          "pattern": {
           "shape": ""
          }
         },
         "name": "Charter School Tuition",
         "offsetgroup": "Charter School Tuition",
         "orientation": "v",
         "showlegend": true,
         "textposition": "auto",
         "type": "bar",
         "x": [
          "FY21 Expense",
          "FY22 Appropriated Budget",
          "FY23 Adopted Budget"
         ],
         "xaxis": "x",
         "y": [
          217698388,
          251621487,
          264549478
         ],
         "yaxis": "y"
        }
       ],
       "layout": {
        "barmode": "group",
        "legend": {
         "title": {
          "text": "dept"
         },
         "tracegroupgap": 0
        },
        "plot_bgcolor": "rgba(0,0,0,0)",
        "template": {
         "data": {
          "bar": [
           {
            "error_x": {
             "color": "#2a3f5f"
            },
            "error_y": {
             "color": "#2a3f5f"
            },
            "marker": {
             "line": {
              "color": "#E5ECF6",
              "width": 0.5
             },
             "pattern": {
              "fillmode": "overlay",
              "size": 10,
              "solidity": 0.2
             }
            },
            "type": "bar"
           }
          ],
          "barpolar": [
           {
            "marker": {
             "line": {
              "color": "#E5ECF6",
              "width": 0.5
             },
             "pattern": {
              "fillmode": "overlay",
              "size": 10,
              "solidity": 0.2
             }
            },
            "type": "barpolar"
           }
          ],
          "carpet": [
           {
            "aaxis": {
             "endlinecolor": "#2a3f5f",
             "gridcolor": "white",
             "linecolor": "white",
             "minorgridcolor": "white",
             "startlinecolor": "#2a3f5f"
            },
            "baxis": {
             "endlinecolor": "#2a3f5f",
             "gridcolor": "white",
             "linecolor": "white",
             "minorgridcolor": "white",
             "startlinecolor": "#2a3f5f"
            },
            "type": "carpet"
           }
          ],
          "choropleth": [
           {
            "colorbar": {
             "outlinewidth": 0,
             "ticks": ""
            },
            "type": "choropleth"
           }
          ],
          "contour": [
           {
            "colorbar": {
             "outlinewidth": 0,
             "ticks": ""
            },
            "colorscale": [
             [
              0,
              "#0d0887"
             ],
             [
              0.1111111111111111,
              "#46039f"
             ],
             [
              0.2222222222222222,
              "#7201a8"
             ],
             [
              0.3333333333333333,
              "#9c179e"
             ],
             [
              0.4444444444444444,
              "#bd3786"
             ],
             [
              0.5555555555555556,
              "#d8576b"
             ],
             [
              0.6666666666666666,
              "#ed7953"
             ],
             [
              0.7777777777777778,
              "#fb9f3a"
             ],
             [
              0.8888888888888888,
              "#fdca26"
             ],
             [
              1,
              "#f0f921"
             ]
            ],
            "type": "contour"
           }
          ],
          "contourcarpet": [
           {
            "colorbar": {
             "outlinewidth": 0,
             "ticks": ""
            },
            "type": "contourcarpet"
           }
          ],
          "heatmap": [
           {
            "colorbar": {
             "outlinewidth": 0,
             "ticks": ""
            },
            "colorscale": [
             [
              0,
              "#0d0887"
             ],
             [
              0.1111111111111111,
              "#46039f"
             ],
             [
              0.2222222222222222,
              "#7201a8"
             ],
             [
              0.3333333333333333,
              "#9c179e"
             ],
             [
              0.4444444444444444,
              "#bd3786"
             ],
             [
              0.5555555555555556,
              "#d8576b"
             ],
             [
              0.6666666666666666,
              "#ed7953"
             ],
             [
              0.7777777777777778,
              "#fb9f3a"
             ],
             [
              0.8888888888888888,
              "#fdca26"
             ],
             [
              1,
              "#f0f921"
             ]
            ],
            "type": "heatmap"
           }
          ],
          "heatmapgl": [
           {
            "colorbar": {
             "outlinewidth": 0,
             "ticks": ""
            },
            "colorscale": [
             [
              0,
              "#0d0887"
             ],
             [
              0.1111111111111111,
              "#46039f"
             ],
             [
              0.2222222222222222,
              "#7201a8"
             ],
             [
              0.3333333333333333,
              "#9c179e"
             ],
             [
              0.4444444444444444,
              "#bd3786"
             ],
             [
              0.5555555555555556,
              "#d8576b"
             ],
             [
              0.6666666666666666,
              "#ed7953"
             ],
             [
              0.7777777777777778,
              "#fb9f3a"
             ],
             [
              0.8888888888888888,
              "#fdca26"
             ],
             [
              1,
              "#f0f921"
             ]
            ],
            "type": "heatmapgl"
           }
          ],
          "histogram": [
           {
            "marker": {
             "pattern": {
              "fillmode": "overlay",
              "size": 10,
              "solidity": 0.2
             }
            },
            "type": "histogram"
           }
          ],
          "histogram2d": [
           {
            "colorbar": {
             "outlinewidth": 0,
             "ticks": ""
            },
            "colorscale": [
             [
              0,
              "#0d0887"
             ],
             [
              0.1111111111111111,
              "#46039f"
             ],
             [
              0.2222222222222222,
              "#7201a8"
             ],
             [
              0.3333333333333333,
              "#9c179e"
             ],
             [
              0.4444444444444444,
              "#bd3786"
             ],
             [
              0.5555555555555556,
              "#d8576b"
             ],
             [
              0.6666666666666666,
              "#ed7953"
             ],
             [
              0.7777777777777778,
              "#fb9f3a"
             ],
             [
              0.8888888888888888,
              "#fdca26"
             ],
             [
              1,
              "#f0f921"
             ]
            ],
            "type": "histogram2d"
           }
          ],
          "histogram2dcontour": [
           {
            "colorbar": {
             "outlinewidth": 0,
             "ticks": ""
            },
            "colorscale": [
             [
              0,
              "#0d0887"
             ],
             [
              0.1111111111111111,
              "#46039f"
             ],
             [
              0.2222222222222222,
              "#7201a8"
             ],
             [
              0.3333333333333333,
              "#9c179e"
             ],
             [
              0.4444444444444444,
              "#bd3786"
             ],
             [
              0.5555555555555556,
              "#d8576b"
             ],
             [
              0.6666666666666666,
              "#ed7953"
             ],
             [
              0.7777777777777778,
              "#fb9f3a"
             ],
             [
              0.8888888888888888,
              "#fdca26"
             ],
             [
              1,
              "#f0f921"
             ]
            ],
            "type": "histogram2dcontour"
           }
          ],
          "mesh3d": [
           {
            "colorbar": {
             "outlinewidth": 0,
             "ticks": ""
            },
            "type": "mesh3d"
           }
          ],
          "parcoords": [
           {
            "line": {
             "colorbar": {
              "outlinewidth": 0,
              "ticks": ""
             }
            },
            "type": "parcoords"
           }
          ],
          "pie": [
           {
            "automargin": true,
            "type": "pie"
           }
          ],
          "scatter": [
           {
            "fillpattern": {
             "fillmode": "overlay",
             "size": 10,
             "solidity": 0.2
            },
            "type": "scatter"
           }
          ],
          "scatter3d": [
           {
            "line": {
             "colorbar": {
              "outlinewidth": 0,
              "ticks": ""
             }
            },
            "marker": {
             "colorbar": {
              "outlinewidth": 0,
              "ticks": ""
             }
            },
            "type": "scatter3d"
           }
          ],
          "scattercarpet": [
           {
            "marker": {
             "colorbar": {
              "outlinewidth": 0,
              "ticks": ""
             }
            },
            "type": "scattercarpet"
           }
          ],
          "scattergeo": [
           {
            "marker": {
             "colorbar": {
              "outlinewidth": 0,
              "ticks": ""
             }
            },
            "type": "scattergeo"
           }
          ],
          "scattergl": [
           {
            "marker": {
             "colorbar": {
              "outlinewidth": 0,
              "ticks": ""
             }
            },
            "type": "scattergl"
           }
          ],
          "scattermapbox": [
           {
            "marker": {
             "colorbar": {
              "outlinewidth": 0,
              "ticks": ""
             }
            },
            "type": "scattermapbox"
           }
          ],
          "scatterpolar": [
           {
            "marker": {
             "colorbar": {
              "outlinewidth": 0,
              "ticks": ""
             }
            },
            "type": "scatterpolar"
           }
          ],
          "scatterpolargl": [
           {
            "marker": {
             "colorbar": {
              "outlinewidth": 0,
              "ticks": ""
             }
            },
            "type": "scatterpolargl"
           }
          ],
          "scatterternary": [
           {
            "marker": {
             "colorbar": {
              "outlinewidth": 0,
              "ticks": ""
             }
            },
            "type": "scatterternary"
           }
          ],
          "surface": [
           {
            "colorbar": {
             "outlinewidth": 0,
             "ticks": ""
            },
            "colorscale": [
             [
              0,
              "#0d0887"
             ],
             [
              0.1111111111111111,
              "#46039f"
             ],
             [
              0.2222222222222222,
              "#7201a8"
             ],
             [
              0.3333333333333333,
              "#9c179e"
             ],
             [
              0.4444444444444444,
              "#bd3786"
             ],
             [
              0.5555555555555556,
              "#d8576b"
             ],
             [
              0.6666666666666666,
              "#ed7953"
             ],
             [
              0.7777777777777778,
              "#fb9f3a"
             ],
             [
              0.8888888888888888,
              "#fdca26"
             ],
             [
              1,
              "#f0f921"
             ]
            ],
            "type": "surface"
           }
          ],
          "table": [
           {
            "cells": {
             "fill": {
              "color": "#EBF0F8"
             },
             "line": {
              "color": "white"
             }
            },
            "header": {
             "fill": {
              "color": "#C8D4E3"
             },
             "line": {
              "color": "white"
             }
            },
            "type": "table"
           }
          ]
         },
         "layout": {
          "annotationdefaults": {
           "arrowcolor": "#2a3f5f",
           "arrowhead": 0,
           "arrowwidth": 1
          },
          "autotypenumbers": "strict",
          "coloraxis": {
           "colorbar": {
            "outlinewidth": 0,
            "ticks": ""
           }
          },
          "colorscale": {
           "diverging": [
            [
             0,
             "#8e0152"
            ],
            [
             0.1,
             "#c51b7d"
            ],
            [
             0.2,
             "#de77ae"
            ],
            [
             0.3,
             "#f1b6da"
            ],
            [
             0.4,
             "#fde0ef"
            ],
            [
             0.5,
             "#f7f7f7"
            ],
            [
             0.6,
             "#e6f5d0"
            ],
            [
             0.7,
             "#b8e186"
            ],
            [
             0.8,
             "#7fbc41"
            ],
            [
             0.9,
             "#4d9221"
            ],
            [
             1,
             "#276419"
            ]
           ],
           "sequential": [
            [
             0,
             "#0d0887"
            ],
            [
             0.1111111111111111,
             "#46039f"
            ],
            [
             0.2222222222222222,
             "#7201a8"
            ],
            [
             0.3333333333333333,
             "#9c179e"
            ],
            [
             0.4444444444444444,
             "#bd3786"
            ],
            [
             0.5555555555555556,
             "#d8576b"
            ],
            [
             0.6666666666666666,
             "#ed7953"
            ],
            [
             0.7777777777777778,
             "#fb9f3a"
            ],
            [
             0.8888888888888888,
             "#fdca26"
            ],
            [
             1,
             "#f0f921"
            ]
           ],
           "sequentialminus": [
            [
             0,
             "#0d0887"
            ],
            [
             0.1111111111111111,
             "#46039f"
            ],
            [
             0.2222222222222222,
             "#7201a8"
            ],
            [
             0.3333333333333333,
             "#9c179e"
            ],
            [
             0.4444444444444444,
             "#bd3786"
            ],
            [
             0.5555555555555556,
             "#d8576b"
            ],
            [
             0.6666666666666666,
             "#ed7953"
            ],
            [
             0.7777777777777778,
             "#fb9f3a"
            ],
            [
             0.8888888888888888,
             "#fdca26"
            ],
            [
             1,
             "#f0f921"
            ]
           ]
          },
          "colorway": [
           "#636efa",
           "#EF553B",
           "#00cc96",
           "#ab63fa",
           "#FFA15A",
           "#19d3f3",
           "#FF6692",
           "#B6E880",
           "#FF97FF",
           "#FECB52"
          ],
          "font": {
           "color": "#2a3f5f"
          },
          "geo": {
           "bgcolor": "white",
           "lakecolor": "white",
           "landcolor": "#E5ECF6",
           "showlakes": true,
           "showland": true,
           "subunitcolor": "white"
          },
          "hoverlabel": {
           "align": "left"
          },
          "hovermode": "closest",
          "mapbox": {
           "style": "light"
          },
          "paper_bgcolor": "white",
          "plot_bgcolor": "#E5ECF6",
          "polar": {
           "angularaxis": {
            "gridcolor": "white",
            "linecolor": "white",
            "ticks": ""
           },
           "bgcolor": "#E5ECF6",
           "radialaxis": {
            "gridcolor": "white",
            "linecolor": "white",
            "ticks": ""
           }
          },
          "scene": {
           "xaxis": {
            "backgroundcolor": "#E5ECF6",
            "gridcolor": "white",
            "gridwidth": 2,
            "linecolor": "white",
            "showbackground": true,
            "ticks": "",
            "zerolinecolor": "white"
           },
           "yaxis": {
            "backgroundcolor": "#E5ECF6",
            "gridcolor": "white",
            "gridwidth": 2,
            "linecolor": "white",
            "showbackground": true,
            "ticks": "",
            "zerolinecolor": "white"
           },
           "zaxis": {
            "backgroundcolor": "#E5ECF6",
            "gridcolor": "white",
            "gridwidth": 2,
            "linecolor": "white",
            "showbackground": true,
            "ticks": "",
            "zerolinecolor": "white"
           }
          },
          "shapedefaults": {
           "line": {
            "color": "#2a3f5f"
           }
          },
          "ternary": {
           "aaxis": {
            "gridcolor": "white",
            "linecolor": "white",
            "ticks": ""
           },
           "baxis": {
            "gridcolor": "white",
            "linecolor": "white",
            "ticks": ""
           },
           "bgcolor": "#E5ECF6",
           "caxis": {
            "gridcolor": "white",
            "linecolor": "white",
            "ticks": ""
           }
          },
          "title": {
           "x": 0.05
          },
          "xaxis": {
           "automargin": true,
           "gridcolor": "white",
           "linecolor": "white",
           "ticks": "",
           "title": {
            "standoff": 15
           },
           "zerolinecolor": "white",
           "zerolinewidth": 2
          },
          "yaxis": {
           "automargin": true,
           "gridcolor": "white",
           "linecolor": "white",
           "ticks": "",
           "title": {
            "standoff": 15
           },
           "zerolinecolor": "white",
           "zerolinewidth": 2
          }
         }
        },
        "title": {
         "text": "Top 5 Department Budgets Each Year"
        },
        "xaxis": {
         "anchor": "y",
         "domain": [
          0,
          1
         ],
         "title": {
          "text": "year"
         }
        },
        "yaxis": {
         "anchor": "x",
         "domain": [
          0,
          1
         ],
         "gridcolor": "LightGray",
         "gridwidth": 0.5,
         "showgrid": true,
         "title": {
          "text": "budget"
         }
        }
       }
      }
     },
     "metadata": {},
     "output_type": "display_data"
    }
   ],
   "source": [
    "import numpy as np\n",
    "import plotly_express as px\n",
    "\n",
    "num_depts = 5\n",
    "year = ['FY20 Expense'] * num_depts + ['FY21 Expense'] * num_depts + ['FY22 Appropriated Budget'] * num_depts + ['FY23 Adopted Budget'] * num_depts\n",
    "\n",
    "budget = []\n",
    "dept = []\n",
    "\n",
    "# Sum all budgets\n",
    "summed_budget_df = budget_df.groupby(by=['Dept'], sort=False).sum()\n",
    "\n",
    "# Will set the plot values based on all departments\n",
    "def getTopOverallDepts():\n",
    "    # Sort departments by budget sums\n",
    "    fy20_sorted_df = summed_budget_df.sort_values(by=['FY20 Actual Expense'], ascending=False)\n",
    "    fy21_sorted_df = summed_budget_df.sort_values(by=['FY21 Actual Expense'], ascending=False)\n",
    "    fy22_sorted_df = summed_budget_df.sort_values(by=['FY22 Appropriation'], ascending=False)\n",
    "    fy23_sorted_df = summed_budget_df.sort_values(by=['FY23 Adopted'], ascending=False)\n",
    "\n",
    "    # Get top departments\n",
    "    top_fy20_df = fy20_sorted_df.head(num_depts)\n",
    "    top_fy21_df = fy21_sorted_df.head(num_depts)    \n",
    "    top_fy22_df = fy22_sorted_df.head(num_depts)    \n",
    "    top_fy23_df = fy23_sorted_df.head(num_depts)    \n",
    "\n",
    "    for index, row in top_fy20_df.iterrows():\n",
    "        dept.append(index)\n",
    "        budget.append(row['FY20 Actual Expense'])\n",
    "\n",
    "    for index, row in top_fy21_df.iterrows():\n",
    "        dept.append(index)\n",
    "        budget.append(row['FY21 Actual Expense'])\n",
    "\n",
    "    for index, row in top_fy22_df.iterrows():\n",
    "        dept.append(index)\n",
    "        budget.append(row['FY22 Appropriation'])\n",
    "\n",
    "    for index, row in top_fy23_df.iterrows():\n",
    "        dept.append(index)\n",
    "        budget.append(row['FY23 Adopted'])\n",
    "\n",
    "getTopOverallDepts()\n",
    "\n",
    "fig2_dict = {\n",
    "    'year': year,\n",
    "    'budget': budget,\n",
    "    'dept': dept\n",
    "}\n",
    "\n",
    "df2 = pd.DataFrame(fig2_dict)\n",
    "color_discrete_sequence=['#6c8bff','#6cffe0','#ffe06c','#ff6c8b', \"#e586ff\", \"#ff976c\"]\n",
    "fig2 = px.bar(df2, x='year', y='budget', color='dept', title='Top 5 Department Budgets Each Year', barmode=\"group\", color_discrete_sequence=color_discrete_sequence)\n",
    "fig2.update_layout(plot_bgcolor='rgba(0,0,0,0)')\n",
    "fig2.update_yaxes(showgrid=True, gridwidth=0.5, gridcolor='LightGray')\n",
    "fig2.show()\n",
    "\n"
   ]
  },
  {
   "cell_type": "markdown",
   "metadata": {},
   "source": [
    "Analysis: \n",
    "BPD remained the department with the second highest budget each year, with small decrements over the years. \n",
    "BPS, Pensions, and Charter School Tuition all had budget increases over the years.\n",
    "\n",
    "NOTE: Might be more useful to show percentage of total city budget that BPD takes up per year + change over time"
   ]
  },
  {
   "cell_type": "markdown",
   "metadata": {},
   "source": [
    "QUESTION 3: Number of police officers per 10,000 residents\n",
    "\n",
    "Presentation: \n",
    "- Look at FBI uniform crime reporting average of police officers per 10,000 residents & compare it to boston\n",
    "- FBI data sets here: https://crime-data-explorer.fr.cloud.gov/#\n",
    "- Bar chart where each x-axis represent year and each year there will be 2 bars, 1 for average in nation, 1 for value in boston  \n",
    "OR\n",
    "- Scatter plot, each point is a city\n",
    "- X axis is population\n",
    "- Y axis is officers / 10,000 residents\n",
    "\n",
    "NOTE: Some cities with low populations have 0 officers! (How do we handle this if at all?) "
   ]
  },
  {
   "cell_type": "code",
   "execution_count": 7,
   "metadata": {},
   "outputs": [
    {
     "name": "stdout",
     "output_type": "stream",
     "text": [
      "Total cities measured:2818\n",
      "Total cities with less officers/capita than Boston: 2424\n",
      "Boston has more officers/capita than: 86.02 percent of other city PDs\n",
      "Total cities measured:2701\n",
      "Total cities with less officers/capita than Boston: 2240\n",
      "Boston has more officers/capita than: 82.93 percent of other city PDs\n",
      "Total cities measured:2851\n",
      "Total cities with less officers/capita than Boston: 2387\n",
      "Boston has more officers/capita than: 83.73 percent of other city PDs\n",
      "Total cities measured:619\n",
      "Total cities with less officers/capita than Boston: 424\n",
      "Boston has more officers/capita than: 68.5 percent of other city PDs\n",
      "Total cities measured:555\n",
      "Total cities with less officers/capita than Boston: 385\n",
      "Boston has more officers/capita than: 69.37 percent of other city PDs\n",
      "Total cities measured:419\n",
      "Total cities with less officers/capita than Boston: 249\n",
      "Boston has more officers/capita than: 59.43 percent of other city PDs\n",
      "Total cities measured:346\n",
      "Total cities with less officers/capita than Boston: 209\n",
      "Boston has more officers/capita than: 60.4 percent of other city PDs\n",
      "[32.152939160446024, 31.53380423814329, 32.288626642436775, 30.546746454806794, 30.66067092930591, 30.57406682412598, 30.989360886999506]\n",
      "[27.560430864150657, 30.48646375252761, 28.09017640608657, 28.993403126507168, 29.803901416835096, 32.702720379152915, 34.18413647794076]\n",
      "[19.045823584714604, 20.161290322580648, 20.065882982459076, 24.975024975024972, 24.37403057832927, 27.286257648420705, 27.68167415700203]\n"
     ]
    },
    {
     "data": {
      "application/vnd.plotly.v1+json": {
       "config": {
        "plotlyServerURL": "https://plot.ly"
       },
       "data": [
        {
         "alignmentgroup": "True",
         "hovertemplate": "Key=Median<br>Year=%{x}<br>Officers per 10k Residents=%{y}<extra></extra>",
         "legendgroup": "Median",
         "marker": {
          "color": "#231F20",
          "pattern": {
           "shape": ""
          }
         },
         "name": "Median",
         "offsetgroup": "Median",
         "orientation": "v",
         "showlegend": true,
         "textposition": "auto",
         "type": "bar",
         "x": [
          "2015",
          "2016",
          "2017",
          "2018",
          "2019",
          "2020",
          "2021"
         ],
         "xaxis": "x",
         "y": [
          19.045823584714604,
          20.161290322580648,
          20.065882982459076,
          24.975024975024972,
          24.37403057832927,
          27.286257648420705,
          27.68167415700203
         ],
         "yaxis": "y"
        },
        {
         "alignmentgroup": "True",
         "hovertemplate": "Key=Boston<br>Year=%{x}<br>Officers per 10k Residents=%{y}<extra></extra>",
         "legendgroup": "Boston",
         "marker": {
          "color": "#EF404E",
          "pattern": {
           "shape": ""
          }
         },
         "name": "Boston",
         "offsetgroup": "Boston",
         "orientation": "v",
         "showlegend": true,
         "textposition": "auto",
         "type": "bar",
         "x": [
          "2015",
          "2016",
          "2017",
          "2018",
          "2019",
          "2020",
          "2021"
         ],
         "xaxis": "x",
         "y": [
          32.152939160446024,
          31.53380423814329,
          32.288626642436775,
          30.546746454806794,
          30.66067092930591,
          30.57406682412598,
          30.989360886999506
         ],
         "yaxis": "y"
        }
       ],
       "layout": {
        "barmode": "group",
        "legend": {
         "title": {
          "text": "Key"
         },
         "tracegroupgap": 0
        },
        "plot_bgcolor": "rgba(0,0,0,0)",
        "template": {
         "data": {
          "bar": [
           {
            "error_x": {
             "color": "#2a3f5f"
            },
            "error_y": {
             "color": "#2a3f5f"
            },
            "marker": {
             "line": {
              "color": "#E5ECF6",
              "width": 0.5
             },
             "pattern": {
              "fillmode": "overlay",
              "size": 10,
              "solidity": 0.2
             }
            },
            "type": "bar"
           }
          ],
          "barpolar": [
           {
            "marker": {
             "line": {
              "color": "#E5ECF6",
              "width": 0.5
             },
             "pattern": {
              "fillmode": "overlay",
              "size": 10,
              "solidity": 0.2
             }
            },
            "type": "barpolar"
           }
          ],
          "carpet": [
           {
            "aaxis": {
             "endlinecolor": "#2a3f5f",
             "gridcolor": "white",
             "linecolor": "white",
             "minorgridcolor": "white",
             "startlinecolor": "#2a3f5f"
            },
            "baxis": {
             "endlinecolor": "#2a3f5f",
             "gridcolor": "white",
             "linecolor": "white",
             "minorgridcolor": "white",
             "startlinecolor": "#2a3f5f"
            },
            "type": "carpet"
           }
          ],
          "choropleth": [
           {
            "colorbar": {
             "outlinewidth": 0,
             "ticks": ""
            },
            "type": "choropleth"
           }
          ],
          "contour": [
           {
            "colorbar": {
             "outlinewidth": 0,
             "ticks": ""
            },
            "colorscale": [
             [
              0,
              "#0d0887"
             ],
             [
              0.1111111111111111,
              "#46039f"
             ],
             [
              0.2222222222222222,
              "#7201a8"
             ],
             [
              0.3333333333333333,
              "#9c179e"
             ],
             [
              0.4444444444444444,
              "#bd3786"
             ],
             [
              0.5555555555555556,
              "#d8576b"
             ],
             [
              0.6666666666666666,
              "#ed7953"
             ],
             [
              0.7777777777777778,
              "#fb9f3a"
             ],
             [
              0.8888888888888888,
              "#fdca26"
             ],
             [
              1,
              "#f0f921"
             ]
            ],
            "type": "contour"
           }
          ],
          "contourcarpet": [
           {
            "colorbar": {
             "outlinewidth": 0,
             "ticks": ""
            },
            "type": "contourcarpet"
           }
          ],
          "heatmap": [
           {
            "colorbar": {
             "outlinewidth": 0,
             "ticks": ""
            },
            "colorscale": [
             [
              0,
              "#0d0887"
             ],
             [
              0.1111111111111111,
              "#46039f"
             ],
             [
              0.2222222222222222,
              "#7201a8"
             ],
             [
              0.3333333333333333,
              "#9c179e"
             ],
             [
              0.4444444444444444,
              "#bd3786"
             ],
             [
              0.5555555555555556,
              "#d8576b"
             ],
             [
              0.6666666666666666,
              "#ed7953"
             ],
             [
              0.7777777777777778,
              "#fb9f3a"
             ],
             [
              0.8888888888888888,
              "#fdca26"
             ],
             [
              1,
              "#f0f921"
             ]
            ],
            "type": "heatmap"
           }
          ],
          "heatmapgl": [
           {
            "colorbar": {
             "outlinewidth": 0,
             "ticks": ""
            },
            "colorscale": [
             [
              0,
              "#0d0887"
             ],
             [
              0.1111111111111111,
              "#46039f"
             ],
             [
              0.2222222222222222,
              "#7201a8"
             ],
             [
              0.3333333333333333,
              "#9c179e"
             ],
             [
              0.4444444444444444,
              "#bd3786"
             ],
             [
              0.5555555555555556,
              "#d8576b"
             ],
             [
              0.6666666666666666,
              "#ed7953"
             ],
             [
              0.7777777777777778,
              "#fb9f3a"
             ],
             [
              0.8888888888888888,
              "#fdca26"
             ],
             [
              1,
              "#f0f921"
             ]
            ],
            "type": "heatmapgl"
           }
          ],
          "histogram": [
           {
            "marker": {
             "pattern": {
              "fillmode": "overlay",
              "size": 10,
              "solidity": 0.2
             }
            },
            "type": "histogram"
           }
          ],
          "histogram2d": [
           {
            "colorbar": {
             "outlinewidth": 0,
             "ticks": ""
            },
            "colorscale": [
             [
              0,
              "#0d0887"
             ],
             [
              0.1111111111111111,
              "#46039f"
             ],
             [
              0.2222222222222222,
              "#7201a8"
             ],
             [
              0.3333333333333333,
              "#9c179e"
             ],
             [
              0.4444444444444444,
              "#bd3786"
             ],
             [
              0.5555555555555556,
              "#d8576b"
             ],
             [
              0.6666666666666666,
              "#ed7953"
             ],
             [
              0.7777777777777778,
              "#fb9f3a"
             ],
             [
              0.8888888888888888,
              "#fdca26"
             ],
             [
              1,
              "#f0f921"
             ]
            ],
            "type": "histogram2d"
           }
          ],
          "histogram2dcontour": [
           {
            "colorbar": {
             "outlinewidth": 0,
             "ticks": ""
            },
            "colorscale": [
             [
              0,
              "#0d0887"
             ],
             [
              0.1111111111111111,
              "#46039f"
             ],
             [
              0.2222222222222222,
              "#7201a8"
             ],
             [
              0.3333333333333333,
              "#9c179e"
             ],
             [
              0.4444444444444444,
              "#bd3786"
             ],
             [
              0.5555555555555556,
              "#d8576b"
             ],
             [
              0.6666666666666666,
              "#ed7953"
             ],
             [
              0.7777777777777778,
              "#fb9f3a"
             ],
             [
              0.8888888888888888,
              "#fdca26"
             ],
             [
              1,
              "#f0f921"
             ]
            ],
            "type": "histogram2dcontour"
           }
          ],
          "mesh3d": [
           {
            "colorbar": {
             "outlinewidth": 0,
             "ticks": ""
            },
            "type": "mesh3d"
           }
          ],
          "parcoords": [
           {
            "line": {
             "colorbar": {
              "outlinewidth": 0,
              "ticks": ""
             }
            },
            "type": "parcoords"
           }
          ],
          "pie": [
           {
            "automargin": true,
            "type": "pie"
           }
          ],
          "scatter": [
           {
            "fillpattern": {
             "fillmode": "overlay",
             "size": 10,
             "solidity": 0.2
            },
            "type": "scatter"
           }
          ],
          "scatter3d": [
           {
            "line": {
             "colorbar": {
              "outlinewidth": 0,
              "ticks": ""
             }
            },
            "marker": {
             "colorbar": {
              "outlinewidth": 0,
              "ticks": ""
             }
            },
            "type": "scatter3d"
           }
          ],
          "scattercarpet": [
           {
            "marker": {
             "colorbar": {
              "outlinewidth": 0,
              "ticks": ""
             }
            },
            "type": "scattercarpet"
           }
          ],
          "scattergeo": [
           {
            "marker": {
             "colorbar": {
              "outlinewidth": 0,
              "ticks": ""
             }
            },
            "type": "scattergeo"
           }
          ],
          "scattergl": [
           {
            "marker": {
             "colorbar": {
              "outlinewidth": 0,
              "ticks": ""
             }
            },
            "type": "scattergl"
           }
          ],
          "scattermapbox": [
           {
            "marker": {
             "colorbar": {
              "outlinewidth": 0,
              "ticks": ""
             }
            },
            "type": "scattermapbox"
           }
          ],
          "scatterpolar": [
           {
            "marker": {
             "colorbar": {
              "outlinewidth": 0,
              "ticks": ""
             }
            },
            "type": "scatterpolar"
           }
          ],
          "scatterpolargl": [
           {
            "marker": {
             "colorbar": {
              "outlinewidth": 0,
              "ticks": ""
             }
            },
            "type": "scatterpolargl"
           }
          ],
          "scatterternary": [
           {
            "marker": {
             "colorbar": {
              "outlinewidth": 0,
              "ticks": ""
             }
            },
            "type": "scatterternary"
           }
          ],
          "surface": [
           {
            "colorbar": {
             "outlinewidth": 0,
             "ticks": ""
            },
            "colorscale": [
             [
              0,
              "#0d0887"
             ],
             [
              0.1111111111111111,
              "#46039f"
             ],
             [
              0.2222222222222222,
              "#7201a8"
             ],
             [
              0.3333333333333333,
              "#9c179e"
             ],
             [
              0.4444444444444444,
              "#bd3786"
             ],
             [
              0.5555555555555556,
              "#d8576b"
             ],
             [
              0.6666666666666666,
              "#ed7953"
             ],
             [
              0.7777777777777778,
              "#fb9f3a"
             ],
             [
              0.8888888888888888,
              "#fdca26"
             ],
             [
              1,
              "#f0f921"
             ]
            ],
            "type": "surface"
           }
          ],
          "table": [
           {
            "cells": {
             "fill": {
              "color": "#EBF0F8"
             },
             "line": {
              "color": "white"
             }
            },
            "header": {
             "fill": {
              "color": "#C8D4E3"
             },
             "line": {
              "color": "white"
             }
            },
            "type": "table"
           }
          ]
         },
         "layout": {
          "annotationdefaults": {
           "arrowcolor": "#2a3f5f",
           "arrowhead": 0,
           "arrowwidth": 1
          },
          "autotypenumbers": "strict",
          "coloraxis": {
           "colorbar": {
            "outlinewidth": 0,
            "ticks": ""
           }
          },
          "colorscale": {
           "diverging": [
            [
             0,
             "#8e0152"
            ],
            [
             0.1,
             "#c51b7d"
            ],
            [
             0.2,
             "#de77ae"
            ],
            [
             0.3,
             "#f1b6da"
            ],
            [
             0.4,
             "#fde0ef"
            ],
            [
             0.5,
             "#f7f7f7"
            ],
            [
             0.6,
             "#e6f5d0"
            ],
            [
             0.7,
             "#b8e186"
            ],
            [
             0.8,
             "#7fbc41"
            ],
            [
             0.9,
             "#4d9221"
            ],
            [
             1,
             "#276419"
            ]
           ],
           "sequential": [
            [
             0,
             "#0d0887"
            ],
            [
             0.1111111111111111,
             "#46039f"
            ],
            [
             0.2222222222222222,
             "#7201a8"
            ],
            [
             0.3333333333333333,
             "#9c179e"
            ],
            [
             0.4444444444444444,
             "#bd3786"
            ],
            [
             0.5555555555555556,
             "#d8576b"
            ],
            [
             0.6666666666666666,
             "#ed7953"
            ],
            [
             0.7777777777777778,
             "#fb9f3a"
            ],
            [
             0.8888888888888888,
             "#fdca26"
            ],
            [
             1,
             "#f0f921"
            ]
           ],
           "sequentialminus": [
            [
             0,
             "#0d0887"
            ],
            [
             0.1111111111111111,
             "#46039f"
            ],
            [
             0.2222222222222222,
             "#7201a8"
            ],
            [
             0.3333333333333333,
             "#9c179e"
            ],
            [
             0.4444444444444444,
             "#bd3786"
            ],
            [
             0.5555555555555556,
             "#d8576b"
            ],
            [
             0.6666666666666666,
             "#ed7953"
            ],
            [
             0.7777777777777778,
             "#fb9f3a"
            ],
            [
             0.8888888888888888,
             "#fdca26"
            ],
            [
             1,
             "#f0f921"
            ]
           ]
          },
          "colorway": [
           "#636efa",
           "#EF553B",
           "#00cc96",
           "#ab63fa",
           "#FFA15A",
           "#19d3f3",
           "#FF6692",
           "#B6E880",
           "#FF97FF",
           "#FECB52"
          ],
          "font": {
           "color": "#2a3f5f"
          },
          "geo": {
           "bgcolor": "white",
           "lakecolor": "white",
           "landcolor": "#E5ECF6",
           "showlakes": true,
           "showland": true,
           "subunitcolor": "white"
          },
          "hoverlabel": {
           "align": "left"
          },
          "hovermode": "closest",
          "mapbox": {
           "style": "light"
          },
          "paper_bgcolor": "white",
          "plot_bgcolor": "#E5ECF6",
          "polar": {
           "angularaxis": {
            "gridcolor": "white",
            "linecolor": "white",
            "ticks": ""
           },
           "bgcolor": "#E5ECF6",
           "radialaxis": {
            "gridcolor": "white",
            "linecolor": "white",
            "ticks": ""
           }
          },
          "scene": {
           "xaxis": {
            "backgroundcolor": "#E5ECF6",
            "gridcolor": "white",
            "gridwidth": 2,
            "linecolor": "white",
            "showbackground": true,
            "ticks": "",
            "zerolinecolor": "white"
           },
           "yaxis": {
            "backgroundcolor": "#E5ECF6",
            "gridcolor": "white",
            "gridwidth": 2,
            "linecolor": "white",
            "showbackground": true,
            "ticks": "",
            "zerolinecolor": "white"
           },
           "zaxis": {
            "backgroundcolor": "#E5ECF6",
            "gridcolor": "white",
            "gridwidth": 2,
            "linecolor": "white",
            "showbackground": true,
            "ticks": "",
            "zerolinecolor": "white"
           }
          },
          "shapedefaults": {
           "line": {
            "color": "#2a3f5f"
           }
          },
          "ternary": {
           "aaxis": {
            "gridcolor": "white",
            "linecolor": "white",
            "ticks": ""
           },
           "baxis": {
            "gridcolor": "white",
            "linecolor": "white",
            "ticks": ""
           },
           "bgcolor": "#E5ECF6",
           "caxis": {
            "gridcolor": "white",
            "linecolor": "white",
            "ticks": ""
           }
          },
          "title": {
           "x": 0.05
          },
          "xaxis": {
           "automargin": true,
           "gridcolor": "white",
           "linecolor": "white",
           "ticks": "",
           "title": {
            "standoff": 15
           },
           "zerolinecolor": "white",
           "zerolinewidth": 2
          },
          "yaxis": {
           "automargin": true,
           "gridcolor": "white",
           "linecolor": "white",
           "ticks": "",
           "title": {
            "standoff": 15
           },
           "zerolinecolor": "white",
           "zerolinewidth": 2
          }
         }
        },
        "title": {
         "text": "Officers Per 10,000 Residents (Median of other Departments vs Boston)"
        },
        "xaxis": {
         "anchor": "y",
         "domain": [
          0,
          1
         ],
         "title": {
          "text": "Year"
         }
        },
        "yaxis": {
         "anchor": "x",
         "domain": [
          0,
          1
         ],
         "gridcolor": "LightGray",
         "gridwidth": 0.5,
         "showgrid": true,
         "title": {
          "text": "Officers per 10k Residents"
         }
        }
       }
      }
     },
     "metadata": {},
     "output_type": "display_data"
    },
    {
     "data": {
      "application/vnd.plotly.v1+json": {
       "config": {
        "plotlyServerURL": "https://plot.ly"
       },
       "data": [
        {
         "autobinx": false,
         "histnorm": "probability density",
         "legendgroup": "Density Curve",
         "marker": {
          "color": "#0055AA"
         },
         "name": "Density Curve",
         "opacity": 0.7,
         "type": "histogram",
         "x": [
          35.714285714285715,
          11.765474867638408,
          33.89830508474576,
          31.23373243102551,
          28.416429863084474,
          21.767522855899,
          49.93757802746567,
          41.1522633744856,
          39.27729772191673,
          17.906560312550873,
          26.761819803746654,
          52.01560468140442,
          28.05562332276165,
          61.72839506172839,
          344.8275862068965,
          27.256208358570564,
          33.277870216306155,
          17.561465127947816,
          16.760445348976415,
          18.501387604070306,
          27.700831024930746,
          15.24390243902439,
          46.18689581095596,
          45.95588235294118,
          28.836251287332647,
          20.075282308657467,
          15.059295977913031,
          14.428552463334706,
          30.12048192771084,
          25.60819462227913,
          23.79064234734338,
          28.28643739764776,
          36.36363636363637,
          19.38500133034323,
          20.955802307859784,
          59.171597633136095,
          28.830752802989856,
          29.004189494038027,
          27.23558783477077,
          40.241448692152915,
          9.372071227741332,
          28.832292167227294,
          15.942117849040406,
          27.662517289073307,
          46.728971962616825,
          30.816640986132512,
          36.3410318940372,
          434.7826086956522,
          32.297133629390395,
          21.635655560363478,
          4.809079542175628,
          56.216931216931215,
          83.05647840531562,
          11.641443538998836,
          19.70055161544523,
          13.774104683195592,
          59.9880023995201,
          37.735849056603776,
          29.42174946248727,
          39.682539682539684,
          27.38571729513377,
          25.48459340489613,
          20.889546522760902,
          17.949929145016533,
          24.087316522393678,
          35.83312004095214,
          25.34854245880862,
          23.16500099278576,
          17.774617845716318,
          31.471282454760033,
          28.670208280630742,
          32.34501347708895,
          24.855012427506214,
          32.51151449471688,
          33.040902358436824,
          27.2975432211101,
          21.668472372697725,
          33.617791569692265,
          21.1877821993405,
          32.85870755750274,
          23.551577955723033,
          30.69838833461243,
          61.763054463784385,
          2.276694239963573,
          17.875383043922373,
          17.825311942959,
          38.745249981372474,
          61.12469437652812,
          22.851919561243147,
          21.536252692031585,
          21.144842168856666,
          26.709401709401707,
          17.271157167530223,
          14.453651956060899,
          17.57469244288225,
          26.408450704225352,
          14.273166447079491,
          24.84615606852917,
          12.249897917517353,
          53.191489361702125,
          19.31123270035404,
          21.208907741251327,
          20.629190304280556,
          12.15066828675577,
          38.488453463960816,
          39.75145691019258,
          25.157232704402517,
          61.12469437652812,
          30.22974607013301,
          46.85408299866131,
          26.80965147453083,
          22.42003265749049,
          21.66349373071621,
          66.75567423230974,
          16.129032258064516,
          29.55665024630542,
          47.96839729119639,
          34.0522133938706,
          20.607226267344416,
          26.385224274406333,
          49.75124378109453,
          19.9203187250996,
          45.21963824289406,
          20.768431983385256,
          56.41748942172073,
          41.75365344467641,
          24.115755627009648,
          30.8641975308642,
          11.990407673860911,
          30.54623862002875,
          16.299918500407497,
          51.975051975051976,
          33.55316441050561,
          35.8719646799117,
          23.653819396131905,
          17.9834062206237,
          68.28528072837632,
          20.868113522537563,
          17.271157167530223,
          21.2517267027946,
          53.062126906920184,
          49.23413566739606,
          22.62443438914027,
          26.13430127041742,
          20.89427496865859,
          16.757865937072506,
          30.22974607013301,
          25.54278416347382,
          24.066390041493776,
          43.6442989634479,
          30.581039755351682,
          26.103464641670623,
          21.978021978021978,
          21.942242355605888,
          36.614424921056205,
          39.8936170212766,
          30.25959547698678,
          102.56410256410257,
          30.248033877797944,
          39.33136676499508,
          17.802644964394712,
          47.524752475247524,
          19.31745009658725,
          30.25982716983328,
          29.991002699190243,
          23.798191337458352,
          31.21748178980229,
          7.107320540156361,
          43.516100957354226,
          26.567481402763022,
          19.233509046872772,
          19.708316909735906,
          38.33515881708653,
          48.661800486618006,
          26.980623007113074,
          34.62385898646522,
          42.43119266055046,
          42.00504060487259,
          38.812014849814375,
          38.23178016726404,
          46.728971962616825,
          22.075055187637968,
          18.083182640144667,
          16.320424331032605,
          86.45533141210375,
          22.284122562674096,
          28.846153846153847,
          57.971014492753625,
          16.521123436393673,
          56.022408963585434,
          75.68590350047303,
          36.075036075036074,
          8.183306055646481,
          47.39336492890995,
          20.227939986591764,
          23.161551823972207,
          15.873015873015873,
          55.865921787709496,
          32.65839320705422,
          27.649769585253456,
          34.832651824928064,
          18.142079625158924,
          41.20879120879121,
          26.428807400066074,
          18.897132082307508,
          34.14911781445646,
          42.28329809725159,
          33.65440408494836,
          89.02077151335311,
          46.55803126039242,
          112.5,
          38.272279934390376,
          35.587188612099645,
          20.2020202020202,
          16.25638643752903,
          24.524831391784183,
          47.361299052774015,
          26.56042496679947,
          27.3224043715847,
          15.372790161414297,
          54.274084124830395,
          20.31144211238998,
          35.65970453387672,
          15.743073047858942,
          43.14994606256742,
          22.123893805309734,
          71.68458781362007,
          25.575447570332482,
          58.445353594389246,
          35.546708374804496,
          39.936102236421725,
          22.6533040847635,
          63.775510204081634,
          18.98047722342733,
          23.680178297813065,
          27.17391304347826,
          17.761989342806395,
          25.247491861005912,
          14.164305949008499,
          176.21145374449338,
          56.657223796033996,
          26.036242449489688,
          37.03703703703704,
          20.316226481759564,
          42.50386398763524,
          25.6910903298736,
          14.721502711365371,
          7.457121551081283,
          25.929127052722556,
          159.5744680851064,
          16.58374792703151,
          20.062416406598306,
          28.421907425787243,
          70.92198581560284,
          30.98030537729586,
          24.40016266775112,
          9.514747859181732,
          26.917900403768506,
          16.10305958132045,
          39.37007874015748,
          56.36070853462158,
          32.352941176470594,
          15.011794981771391,
          8.688097306689835,
          32.362459546925564,
          39.745627980922094,
          21.840983548807554,
          26.513297438407573,
          14.5032632342277,
          16.835016835016837,
          37.94037940379404,
          15.19756838905775,
          90.06211180124224,
          26.572187776793623,
          34.45899379738111,
          26.919807310852935,
          30.48780487804878,
          27.100271002710027,
          36.85503685503686,
          38.58024691358025,
          23.21654706627269,
          27.085590465872155,
          43.85964912280702,
          22.77432712215321,
          37.878787878787875,
          22.35850261913888,
          32.102728731942214,
          17.01258931609391,
          25.31645569620253,
          30.581039755351682,
          48.25538233110616,
          60.06006006006006,
          40.089086859688194,
          35.44702638834187,
          28.275212064090482,
          26.21194227611833,
          35.5998576005696,
          22.665457842248415,
          21.386430678466077,
          53.85029617662897,
          30.369134693528377,
          25.057195772960014,
          23.219814241486066,
          21.768425417228155,
          37.13838936669273,
          49.18032786885246,
          47.88507581803671,
          11.1358574610245,
          34.617048896581565,
          37.105751391465674,
          32.59098316132537,
          11.061946902654867,
          31.230480949406623,
          20.954024405275486,
          35.63129357087529,
          65.93406593406593,
          14.204545454545455,
          16.70564650851988,
          29.07344204272532,
          48.148148148148145,
          29.154518950437318,
          31.55996393146979,
          34.26333822809594,
          25.586059055390358,
          27.2108843537415,
          58.351568198395334,
          47.90419161676647,
          30.69838833461243,
          18.323408153916628,
          16.777342375108525,
          19.16932907348243,
          60.851926977687626,
          29.55665024630542,
          22.573363431151243,
          31.3102119460501,
          25.06265664160401,
          29.940119760479043,
          14.234875444839858,
          18.65671641791045,
          28.089887640449437,
          14.005602240896359,
          54.495912806539515,
          18.728073646171296,
          13.470742205040029,
          22.566995768688294,
          17.231045849565476
         ],
         "xaxis": "x",
         "xbins": {
          "end": 434.7826086956522,
          "size": 1,
          "start": 2.276694239963573
         },
         "yaxis": "y"
        },
        {
         "legendgroup": "Density Curve",
         "marker": {
          "color": "#0055AA"
         },
         "mode": "lines",
         "name": "Density Curve",
         "showlegend": false,
         "type": "scatter",
         "x": [
          2.276694239963573,
          3.1417060688749503,
          4.006717897786327,
          4.871729726697705,
          5.736741555609083,
          6.601753384520459,
          7.466765213431836,
          8.331777042343214,
          9.196788871254592,
          10.061800700165968,
          10.926812529077345,
          11.791824357988723,
          12.656836186900101,
          13.521848015811479,
          14.386859844722856,
          15.251871673634232,
          16.11688350254561,
          16.981895331456986,
          17.846907160368364,
          18.711918989279738,
          19.576930818191116,
          20.441942647102493,
          21.30695447601387,
          22.17196630492525,
          23.036978133836627,
          23.901989962748,
          24.767001791659382,
          25.63201362057076,
          26.497025449482138,
          27.362037278393515,
          28.22704910730489,
          29.092060936216267,
          29.957072765127645,
          30.822084594039023,
          31.6870964229504,
          32.552108251861775,
          33.41712008077315,
          34.28213190968454,
          35.14714373859591,
          36.01215556750729,
          36.87716739641866,
          37.74217922533005,
          38.60719105424142,
          39.4722028831528,
          40.337214712064174,
          41.20222654097555,
          42.06723836988693,
          42.93225019879831,
          43.797262027709685,
          44.66227385662106,
          45.52728568553243,
          46.39229751444382,
          47.257309343355196,
          48.122321172266574,
          48.98733300117795,
          49.85234483008932,
          50.71735665900071,
          51.58236848791208,
          52.44738031682346,
          53.31239214573483,
          54.17740397464621,
          55.04241580355759,
          55.907427632468966,
          56.772439461380344,
          57.63745129029172,
          58.50246311920309,
          59.36747494811448,
          60.23248677702585,
          61.09749860593723,
          61.96251043484861,
          62.82752226375998,
          63.692534092671366,
          64.55754592158273,
          65.42255775049412,
          66.2875695794055,
          67.15258140831686,
          68.01759323722824,
          68.88260506613963,
          69.74761689505101,
          70.61262872396237,
          71.47764055287375,
          72.34265238178513,
          73.20766421069652,
          74.07267603960788,
          74.93768786851926,
          75.80269969743064,
          76.66771152634202,
          77.53272335525341,
          78.39773518416477,
          79.26274701307615,
          80.12775884198753,
          80.9927706708989,
          81.85778249981028,
          82.72279432872166,
          83.58780615763304,
          84.45281798654442,
          85.3178298154558,
          86.18284164436717,
          87.04785347327855,
          87.91286530218993,
          88.77787713110129,
          89.64288896001268,
          90.50790078892406,
          91.37291261783544,
          92.23792444674682,
          93.10293627565818,
          93.96794810456957,
          94.83295993348095,
          95.69797176239233,
          96.56298359130369,
          97.42799542021507,
          98.29300724912646,
          99.15801907803784,
          100.0230309069492,
          100.88804273586058,
          101.75305456477196,
          102.61806639368335,
          103.48307822259471,
          104.34809005150609,
          105.21310188041747,
          106.07811370932885,
          106.94312553824024,
          107.8081373671516,
          108.67314919606298,
          109.53816102497436,
          110.40317285388574,
          111.26818468279711,
          112.13319651170849,
          112.99820834061987,
          113.86322016953125,
          114.72823199844261,
          115.593243827354,
          116.45825565626538,
          117.32326748517676,
          118.18827931408812,
          119.0532911429995,
          119.91830297191089,
          120.78331480082227,
          121.64832662973365,
          122.51333845864501,
          123.37835028755639,
          124.24336211646778,
          125.10837394537916,
          125.97338577429052,
          126.8383976032019,
          127.70340943211328,
          128.56842126102467,
          129.43343308993602,
          130.29844491884742,
          131.16345674775877,
          132.02846857667015,
          132.89348040558156,
          133.7584922344929,
          134.6235040634043,
          135.4885158923157,
          136.35352772122707,
          137.21853955013844,
          138.08355137904982,
          138.94856320796117,
          139.81357503687255,
          140.67858686578393,
          141.5435986946953,
          142.40861052360668,
          143.2736223525181,
          144.13863418142947,
          145.00364601034084,
          145.8686578392522,
          146.73366966816357,
          147.59868149707495,
          148.46369332598633,
          149.3287051548977,
          150.19371698380908,
          151.05872881272046,
          151.92374064163187,
          152.78875247054324,
          153.6537642994546,
          154.51877612836597,
          155.38378795727735,
          156.24879978618873,
          157.1138116151001,
          157.97882344401148,
          158.84383527292286,
          159.70884710183424,
          160.57385893074562,
          161.438870759657,
          162.30388258856837,
          163.16889441747975,
          164.03390624639113,
          164.8989180753025,
          165.76392990421388,
          166.62894173312526,
          167.49395356203664,
          168.35896539094801,
          169.2239772198594,
          170.08898904877077,
          170.95400087768215,
          171.81901270659353,
          172.6840245355049,
          173.54903636441628,
          174.41404819332766,
          175.279060022239,
          176.1440718511504,
          177.0090836800618,
          177.87409550897317,
          178.73910733788455,
          179.60411916679593,
          180.4691309957073,
          181.33414282461868,
          182.19915465353006,
          183.0641664824414,
          183.92917831135279,
          184.79419014026416,
          185.65920196917557,
          186.52421379808695,
          187.38922562699832,
          188.2542374559097,
          189.11924928482108,
          189.98426111373243,
          190.8492729426438,
          191.71428477155519,
          192.57929660046656,
          193.44430842937794,
          194.30932025828935,
          195.17433208720072,
          196.0393439161121,
          196.90435574502348,
          197.76936757393483,
          198.6343794028462,
          199.49939123175758,
          200.36440306066896,
          201.22941488958034,
          202.09442671849172,
          202.95943854740312,
          203.8244503763145,
          204.68946220522585,
          205.55447403413723,
          206.4194858630486,
          207.28449769195998,
          208.14950952087136,
          209.01452134978274,
          209.87953317869412,
          210.7445450076055,
          211.6095568365169,
          212.47456866542825,
          213.33958049433963,
          214.204592323251,
          215.06960415216238,
          215.93461598107376,
          216.79962780998514,
          217.66463963889652,
          218.5296514678079,
          219.39466329671924,
          220.25967512563065,
          221.12468695454203,
          221.9896987834534,
          222.85471061236478,
          223.71972244127616,
          224.58473427018754,
          225.44974609909892,
          226.3147579280103,
          227.17976975692164,
          228.04478158583305,
          228.90979341474443,
          229.7748052436558,
          230.63981707256718,
          231.50482890147856,
          232.36984073038994,
          233.23485255930132,
          234.09986438821267,
          234.96487621712404,
          235.82988804603542,
          236.69489987494683,
          237.5599117038582,
          238.42492353276958,
          239.28993536168096,
          240.15494719059234,
          241.01995901950372,
          241.88497084841507,
          242.74998267732644,
          243.61499450623782,
          244.4800063351492,
          245.3450181640606,
          246.21002999297198,
          247.07504182188336,
          247.94005365079474,
          248.8050654797061,
          249.67007730861746,
          250.53508913752884,
          251.40010096644022,
          252.2651127953516,
          253.13012462426298,
          253.99513645317438,
          254.86014828208576,
          255.72516011099714,
          256.5901719399085,
          257.45518376881984,
          258.32019559773124,
          259.1852074266426,
          260.05021925555394,
          260.91523108446535,
          261.7802429133767,
          262.6452547422881,
          263.5102665711995,
          264.37527840011086,
          265.2402902290222,
          266.1053020579336,
          266.970313886845,
          267.83532571575637,
          268.7003375446678,
          269.5653493735791,
          270.43036120249053,
          271.2953730314019,
          272.1603848603133,
          273.02539668922464,
          273.89040851813604,
          274.7554203470474,
          275.62043217595874,
          276.48544400487015,
          277.3504558337815,
          278.2154676626929,
          279.08047949160425,
          279.94549132051566,
          280.810503149427,
          281.6755149783384,
          282.54052680724976,
          283.40553863616117,
          284.2705504650726,
          285.1355622939839,
          286.00057412289533,
          286.8655859518067,
          287.7305977807181,
          288.59560960962943,
          289.4606214385408,
          290.3256332674522,
          291.19064509636354,
          292.05565692527495,
          292.9206687541863,
          293.7856805830977,
          294.65069241200905,
          295.51570424092046,
          296.3807160698318,
          297.24572789874316,
          298.11073972765456,
          298.9757515565659,
          299.8407633854773,
          300.7057752143887,
          301.57078704330013,
          302.4357988722115,
          303.3008107011229,
          304.16582253003423,
          305.0308343589456,
          305.895846187857,
          306.76085801676834,
          307.62586984567974,
          308.4908816745911,
          309.3558935035025,
          310.22090533241385,
          311.08591716132526,
          311.9509289902366,
          312.81594081914795,
          313.68095264805936,
          314.5459644769707,
          315.4109763058821,
          316.27598813479347,
          317.14099996370487,
          318.0060117926163,
          318.8710236215276,
          319.73603545043903,
          320.6010472793504,
          321.4660591082618,
          322.33107093717314,
          323.19608276608454,
          324.0610945949959,
          324.9261064239073,
          325.79111825281865,
          326.65613008173,
          327.5211419106414,
          328.38615373955275,
          329.25116556846416,
          330.1161773973755,
          330.9811892262869,
          331.84620105519826,
          332.71121288410967,
          333.576224713021,
          334.4412365419324,
          335.30624837084383,
          336.1712601997552,
          337.0362720286666,
          337.90128385757794,
          338.76629568648934,
          339.6313075154007,
          340.4963193443121,
          341.36133117322345,
          342.2263430021348,
          343.0913548310462,
          343.95636665995755,
          344.82137848886896,
          345.6863903177803,
          346.5514021466917,
          347.41641397560306,
          348.2814258045144,
          349.1464376334258,
          350.01144946233717,
          350.8764612912486,
          351.74147312016,
          352.6064849490714,
          353.47149677798274,
          354.33650860689414,
          355.2015204358055,
          356.06653226471684,
          356.93154409362825,
          357.7965559225396,
          358.661567751451,
          359.52657958036235,
          360.39159140927376,
          361.2566032381851,
          362.1216150670965,
          362.98662689600786,
          363.8516387249192,
          364.7166505538306,
          365.58166238274197,
          366.4466742116534,
          367.3116860405647,
          368.17669786947613,
          369.04170969838754,
          369.90672152729894,
          370.7717333562103,
          371.63674518512164,
          372.50175701403305,
          373.3667688429444,
          374.2317806718558,
          375.09679250076715,
          375.96180432967856,
          376.8268161585899,
          377.69182798750126,
          378.55683981641266,
          379.421851645324,
          380.2868634742354,
          381.15187530314677,
          382.0168871320582,
          382.8818989609695,
          383.7469107898809,
          384.6119226187923,
          385.4769344477036,
          386.3419462766151,
          387.20695810552644,
          388.07196993443785,
          388.9369817633492,
          389.8019935922606,
          390.66700542117195,
          391.53201725008336,
          392.3970290789947,
          393.26204090790606,
          394.12705273681746,
          394.9920645657288,
          395.8570763946402,
          396.72208822355157,
          397.587100052463,
          398.4521118813743,
          399.3171237102857,
          400.1821355391971,
          401.0471473681084,
          401.91215919701983,
          402.77717102593124,
          403.64218285484264,
          404.507194683754,
          405.3722065126654,
          406.23721834157675,
          407.1022301704881,
          407.9672419993995,
          408.83225382831085,
          409.69726565722226,
          410.5622774861336,
          411.427289315045,
          412.29230114395637,
          413.15731297286777,
          414.0223248017791,
          414.88733663069047,
          415.7523484596019,
          416.6173602885132,
          417.48237211742463,
          418.347383946336,
          419.2123957752474,
          420.0774076041588,
          420.9424194330702,
          421.80743126198155,
          422.6724430908929,
          423.5374549198043,
          424.40246674871565,
          425.26747857762706,
          426.1324904065384,
          426.9975022354498,
          427.86251406436116,
          428.72752589327257,
          429.5925377221839,
          430.45754955109527,
          431.3225613800067,
          432.187573208918,
          433.05258503782943,
          433.9175968667408
         ],
         "xaxis": "x",
         "y": [
          0.0053176216310708594,
          0.005962155938854825,
          0.00665381252233476,
          0.007391346539336542,
          0.008172738787816363,
          0.008995159985369766,
          0.009854951829129354,
          0.010747626838284965,
          0.011667888460998836,
          0.012609672307852381,
          0.01356620867893025,
          0.014530105810439472,
          0.015493452512461777,
          0.01644793813709836,
          0.017384987140829606,
          0.018295904919072292,
          0.01917203112314289,
          0.020004896342651898,
          0.020786377865031798,
          0.02150885021567196,
          0.02216532633590703,
          0.022749585562790792,
          0.02325628501786479,
          0.023681051569689,
          0.024020552179949344,
          0.024272541145930266,
          0.024435883482458638,
          0.024510554414134775,
          0.024497615645949704,
          0.024399169722741417,
          0.02421829435509652,
          0.023958959065760017,
          0.023625926885887737,
          0.023224644099014907,
          0.02276112119150738,
          0.022241808224717597,
          0.021673467802802576,
          0.021063048680691983,
          0.02041756285061971,
          0.019743968675939548,
          0.019049062321350844,
          0.018339379373033732,
          0.017621108164057778,
          0.016900015932533055,
          0.01618138855397333,
          0.015469984215533627,
          0.014770001046952128,
          0.014085058398325448,
          0.013418191163794805,
          0.01277185629673398,
          0.012147950448526249,
          0.011547837490563633,
          0.010972384547616539,
          0.010422005079184393,
          0.009896707492120562,
          0.009396147750511992,
          0.008919684464970662,
          0.008466434990501695,
          0.008035331137241546,
          0.0076251731988930035,
          0.007234681126873311,
          0.006862541821204174,
          0.0065074516689783935,
          0.006168153634521688,
          0.005843468388423658,
          0.005532319151298252,
          0.005233750117872865,
          0.0049469385128629315,
          0.004671200506915752,
          0.004405991383563243,
          0.004150900491733134,
          0.003905641638619157,
          0.0036700396711281803,
          0.0034440140583182483,
          0.0032275603210863268,
          0.0030207301590709245,
          0.0028236110998404386,
          0.002636306444678765,
          0.0024589162123784714,
          0.002291519691831358,
          0.002134160110672143,
          0.0019868318156417474,
          0.0018494702453128822,
          0.0017219448615085158,
          0.0016040550956549985,
          0.0014955292632585573,
          0.0013960263057975146,
          0.0013051401361010258,
          0.0012224062917794857,
          0.0011473105421969925,
          0.0010792990483601639,
          0.001017789642384286,
          0.0009621837743015205,
          0.0009118786692705678,
          0.0008662792480012179,
          0.0008248093874674995,
          0.000786922137437819,
          0.0007521085601872577,
          0.0007199049245500774,
          0.0006898980591160947,
          0.0006617287500957361,
          0.0006350931538063276,
          0.0006097422780624689,
          0.0005854796669692768,
          0.000562157495755794,
          0.0005396713427224797,
          0.0005179539510995158,
          0.0004969683224563949,
          0.0004767004941186081,
          0.00045715234578887643,
          0.0004383347562933484,
          0.00042026139214103845,
          0.0004029433582972746,
          0.00038638488173309754,
          0.0003705801337604802,
          0.0003555112317891164,
          0.0003411473986214464,
          0.0003274452009708911,
          0.0003143497411536175,
          0.0003017966387388624,
          0.0002897146134330087,
          0.00027802846693117286,
          0.00026666225950342605,
          0.0002555424856966512,
          0.00024460107126487383,
          0.00023377803850234058,
          0.0002230237175719882,
          0.00021230041516946533,
          0.0002015834869676863,
          0.00019086179492206205,
          0.000180137563066938,
          0.00016942567454191786,
          0.0001587524771813234,
          0.00014815418430911867,
          0.00013767497093487364,
          0.0001273648731670217,
          0.00011727760044910817,
          0.00010746836653860739,
          0.00009799183656561872,
          0.00008890027479526968,
          0.00008024196177892453,
          0.00007205993141230569,
          0.0000643910590582542,
          0.00005726551235737515,
          0.000050706557594309245,
          0.00004473069735356698,
          0.00003934810038423954,
          0.00003456327262665218,
          0.000030375909586567673,
          0.000026781864847839655,
          0.000023774167503170876,
          0.000021344022524146296,
          0.00001948173234052861,
          0.00001817748482297862,
          0.000017421962070274854,
          0.000017206735459538777,
          0.00001752442486838748,
          0.000018368613345702495,
          0.0000197335223003194,
          0.0000216134659823937,
          0.000024002117115738668,
          0.000026891627443333618,
          0.000030271657098001867,
          0.000034128374530280374,
          0.00003844349366514595,
          0.0000431934165300044,
          0.0000483485474173232,
          0.00005387283849371908,
          0.00005972361662812617,
          0.00006585172732000369,
          0.00007220201447790634,
          0.00007871413522886244,
          0.00008532368799791334,
          0.00009196361107514165,
          0.00009856578922278401,
          0.0001050627890546615,
          0.00011138963136283716,
          0.00011748550149657649,
          0.00012329529822356338,
          0.00012877092770589849,
          0.00013387226228313024,
          0.0001385677031069764,
          0.00014283431021480544,
          0.00014665749177582464,
          0.00015003027403034675,
          0.00015295220266917144,
          0.0001554279528085261,
          0.00015746574617886997,
          0.00015907568885500012,
          0.00016026814948868841,
          0.00016105229585838723,
          0.00016143489661336348,
          0.0001614194760652536,
          0.00016100588413946382,
          0.0001601903130741596,
          0.00015896575948056666,
          0.00015732289749641992,
          0.00015525129850747064,
          0.0001527409075896396,
          0.00014978366832959144,
          0.00014637517733562068,
          0.00014251624820190364,
          0.00013821427187178084,
          0.00013348427550392893,
          0.00012834960371646285,
          0.00012284217263273993,
          0.00011700227634090813,
          0.00011087795495586654,
          0.00010452396126325262,
          0.00009800038700729409,
          0.00009137102872810902,
          0.00008470158562264916,
          0.0000780577877042382,
          0.00007150355162067075,
          0.00006509925441123823,
          0.00005890020320482378,
          0.00005295536265274123,
          0.00004730638319473891,
          0.00004198695356266391,
          0.00003702248164582924,
          0.00003243009020931987,
          0.000028218898951765684,
          0.00002439055269293081,
          0.00002093994745837197,
          0.000017856101938913667,
          0.000015123121038473089,
          0.000012721200559928366,
          0.000010627626936228157,
          0.000008817732625386737,
          0.0000072657756605805456,
          0.000005945720217237054,
          0.000004831903338492252,
          0.000003899580663918883,
          0.0000031253507710811504,
          0.000002487463328858861,
          0.0000019660205597023403,
          0.0000015430845053128051,
          0.000001202704363400424,
          9.308788527323805e-7,
          7.154683511978055e-7,
          5.460706383296465e-7,
          4.138726622930512e-7,
          3.1148903144696983e-7,
          2.3279606866244424e-7,
          1.7276839971870308e-7,
          1.2732328047350973e-7,
          9.317627483472053e-8,
          6.771052177440004e-8,
          4.886069499358483e-8,
          3.501186387619238e-8,
          2.4912794900465466e-8,
          1.7602764685311673e-8,
          1.2350659704883934e-8,
          8.604981658674972e-9,
          5.953330348141016e-9,
          4.0899689402705285e-9,
          2.790164561664601e-9,
          1.890119315232648e-9,
          1.2714463867641838e-9,
          8.492903133455205e-10,
          5.633307415002424e-10,
          3.7103919236770736e-10,
          2.426750222727099e-10,
          1.5760835821449009e-10,
          1.0164410918183026e-10,
          6.509294510893737e-11,
          4.1393706120171196e-11,
          2.6138661048057438e-11,
          1.639007551023924e-11,
          1.0205331745714519e-11,
          6.30989049550855e-12,
          3.8740481348737046e-12,
          2.3618737131952377e-12,
          1.4298707470591737e-12,
          8.595780551565416e-13,
          5.13123932519699e-13,
          3.041638672104095e-13,
          1.7903640875389125e-13,
          1.0464620175612863e-13,
          6.073708539017139e-14,
          3.5005217668128795e-14,
          2.0033644719717308e-14,
          1.1385064529887589e-14,
          6.424796312396229e-15,
          3.600240926444455e-15,
          2.0033281634616626e-15,
          1.1069320500022905e-15,
          6.073488068673349e-16,
          3.309053979063479e-16,
          1.7902692250109327e-16,
          9.617964213619146e-17,
          5.131025288608582e-17,
          2.718344185271523e-17,
          1.4304572771719797e-17,
          7.482943651610925e-18,
          3.903854563353824e-18,
          2.0564153051226025e-18,
          1.143749385535346e-18,
          7.647002721378321e-19,
          7.503809268830035e-19,
          1.0943773031961634e-18,
          1.9500829216277267e-18,
          3.694145783945576e-18,
          7.080158943617816e-18,
          1.3540220040849423e-17,
          2.5745103326662737e-17,
          4.86237843440316e-17,
          9.119814021071947e-17,
          1.6985578979595487e-16,
          3.141414737261435e-16,
          5.769246161503971e-16,
          1.0521103855723002e-15,
          1.9052496124804303e-15,
          3.4260268738678067e-15,
          6.117555957018083e-15,
          1.0847094804437754e-14,
          1.9098410380616732e-14,
          3.3390990793656986e-14,
          5.79708529226226e-14,
          9.993977654617862e-14,
          1.710863486177739e-13,
          2.9083096249643166e-13,
          4.909239536984702e-13,
          8.228792390381056e-13,
          1.3696395462423913e-12,
          2.2637307404353866e-12,
          3.715279996530034e-12,
          6.054895187278667e-12,
          9.79873493470068e-12,
          1.5746414860059392e-11,
          2.5127059517948792e-11,
          3.981529585464721e-11,
          6.264790111485635e-11,
          9.788393124630842e-11,
          1.5186740801491731e-10,
          2.3397316921329243e-10,
          3.579446158895407e-10,
          5.437683305556222e-10,
          8.202765309427067e-10,
          1.228725754474661e-9,
          1.8276706434626464e-9,
          2.699536541364589e-9,
          3.959394582208246e-9,
          5.766557913582825e-9,
          8.339746141691368e-9,
          1.1976703655457426e-8,
          1.7079300352085513e-8,
          2.4185281563446447e-8,
          3.400795514496609e-8,
          4.7485191094511185e-8,
          6.58391416894743e-8,
          9.064804259996875e-8,
          1.2393129855506797e-7,
          1.682487589646798e-7,
          2.268146165482552e-7,
          3.036256842720013e-7,
          4.036028966261518e-7,
          5.327437236854464e-7,
          6.982817778659406e-7,
          9.088482505731716e-7,
          0.0000011746279802743199,
          0.000001507500995137067,
          0.0000019211583946019994,
          0.0000024311795706495497,
          0.000003055056188110038,
          0.0000038121472373725586,
          0.000004723549052456104,
          0.000005811864666260384,
          0.000007100858452588647,
          0.000008614984846173281,
          0.000010378784144848481,
          0.000012416144009056168,
          0.000014749432208249749,
          0.00001739851422858405,
          0.000020379678231239548,
          0.00002370449908864023,
          0.000027378682264618348,
          0.000031400936492397326,
          0.00003576193083703619,
          0.000040443396099660604,
          0.000045417431977210833,
          0.000050646079398295,
          0.000056081211656315196,
          0.0000616647882312371,
          0.00006732950168132824,
          0.00007299983114232796,
          0.00007859349653593197,
          0.00008402328657256885,
          0.00008919921226084502,
          0.00009403091727101817,
          0.00009843025854692799,
          0.00010231395635787994,
          0.00010560620368947469,
          0.00010824112137084409,
          0.00011016494814024214,
          0.00011133786405281237,
          0.000111735360875722,
          0.00011134909360156407,
          0.00011018717175758112,
          0.00010827387630715958,
          0.00010564881594727166,
          0.00010236556374941697,
          0.00009848983968632659,
          0.00009409732513990414,
          0.00008927121080914681,
          0.00008409958872895636,
          0.00007867280200747734,
          0.0000730808624758801,
          0.00006741103722970448,
          0.00006174569090072701,
          0.000056160452590085375,
          0.00005072275605305908,
          0.00004549078035790214,
          0.000040512797210045036,
          0.00003582691166691978,
          0.000031461166081718266,
          0.000027433963552575534,
          0.00002375475736790889,
          0.00002042494708303589,
          0.000017438919817498798,
          0.000014785176772831585,
          0.0000124474893038066,
          0.000010406035481489642,
          0.000008638476257024257,
          0.0000071209393665528785,
          0.000005828888357091802,
          0.000004737862997043831,
          0.000003824085414398119,
          0.0000030649332584500682,
          0.000002439286812465529,
          0.00000192776121884641,
          0.0000015128378407077612,
          0.0000011789103809702504,
          9.122618766718596e-7,
          7.009882818875356e-7,
          5.348832614851726e-7,
          4.0529725087208864e-7,
          3.049819882183453e-7,
          2.2792976376893327e-7,
          1.6921469293870117e-7,
          1.248415100726338e-7,
          9.160577021368635e-8,
          6.696798022532963e-8,
          4.894307692240598e-8,
          3.600582769474829e-8,
          2.7012133150101233e-8,
          2.113583629785524e-8,
          1.7820457415268778e-8,
          1.6745243594845434e-8,
          1.7805011709913384e-8,
          2.110343806329493e-8,
          2.6959672966296122e-8,
          3.592840028551923e-8,
          4.8833687217184246e-8,
          6.681714455993562e-8,
          9.140100822820992e-8,
          1.245667235917192e-7,
          1.6884943008558448e-7,
          2.2744837000813184e-7,
          3.0435265115076104e-7,
          4.044809525706775e-7,
          5.338326610241927e-7,
          6.996465614245556e-7,
          9.105615967743088e-7,
          0.000001176772404427278,
          0.0000015101703982053485,
          0.0000019244592037433103,
          0.0000024352314043892713,
          0.000003059991985228685,
          0.000003818112767484337,
          0.0000047307017155331885,
          0.000005820371488173769,
          0.000007110893194433206,
          0.000008626724167014191,
          0.000010392402790564526,
          0.000012431809043660015,
          0.000014767296357230332,
          0.000017418708464439212,
          0.000020402303796564428,
          0.000023729619218176147,
          0.00002740631393012003,
          0.00003143104254805887,
          0.00003579441298340752,
          0.00004047808910550319,
          0.000045454099597247166,
          0.00005068441239703521,
          0.00005612082829229821,
          0.00006170523747218123,
          0.0000673702693109567,
          0.00007304034878834672,
          0.00007863315350206672,
          0.0000840614442039036,
          0.00008923522042027977,
          0.00009406413236555742,
          0.00009846006242572483,
          0.00010233977531851409,
          0.00010562752678235271,
          0.00010825751718888356,
          0.00011017607932441982,
          0.00011134349883270687
         ],
         "yaxis": "y"
        }
       ],
       "layout": {
        "annotations": [
         {
          "showarrow": false,
          "text": "Boston officers per pop > 60.4% of cities",
          "x": 30.989360886999506,
          "xanchor": "left",
          "xref": "x",
          "y": 1,
          "yanchor": "top",
          "yref": "y domain"
         }
        ],
        "barmode": "overlay",
        "hovermode": "closest",
        "legend": {
         "traceorder": "reversed"
        },
        "plot_bgcolor": "rgba(0,0,0,0)",
        "shapes": [
         {
          "line": {
           "color": "red",
           "dash": "dash",
           "width": 2
          },
          "type": "line",
          "x0": 30.989360886999506,
          "x1": 30.989360886999506,
          "xref": "x",
          "y0": 0,
          "y1": 1,
          "yref": "y domain"
         }
        ],
        "template": {
         "data": {
          "bar": [
           {
            "error_x": {
             "color": "#2a3f5f"
            },
            "error_y": {
             "color": "#2a3f5f"
            },
            "marker": {
             "line": {
              "color": "#E5ECF6",
              "width": 0.5
             },
             "pattern": {
              "fillmode": "overlay",
              "size": 10,
              "solidity": 0.2
             }
            },
            "type": "bar"
           }
          ],
          "barpolar": [
           {
            "marker": {
             "line": {
              "color": "#E5ECF6",
              "width": 0.5
             },
             "pattern": {
              "fillmode": "overlay",
              "size": 10,
              "solidity": 0.2
             }
            },
            "type": "barpolar"
           }
          ],
          "carpet": [
           {
            "aaxis": {
             "endlinecolor": "#2a3f5f",
             "gridcolor": "white",
             "linecolor": "white",
             "minorgridcolor": "white",
             "startlinecolor": "#2a3f5f"
            },
            "baxis": {
             "endlinecolor": "#2a3f5f",
             "gridcolor": "white",
             "linecolor": "white",
             "minorgridcolor": "white",
             "startlinecolor": "#2a3f5f"
            },
            "type": "carpet"
           }
          ],
          "choropleth": [
           {
            "colorbar": {
             "outlinewidth": 0,
             "ticks": ""
            },
            "type": "choropleth"
           }
          ],
          "contour": [
           {
            "colorbar": {
             "outlinewidth": 0,
             "ticks": ""
            },
            "colorscale": [
             [
              0,
              "#0d0887"
             ],
             [
              0.1111111111111111,
              "#46039f"
             ],
             [
              0.2222222222222222,
              "#7201a8"
             ],
             [
              0.3333333333333333,
              "#9c179e"
             ],
             [
              0.4444444444444444,
              "#bd3786"
             ],
             [
              0.5555555555555556,
              "#d8576b"
             ],
             [
              0.6666666666666666,
              "#ed7953"
             ],
             [
              0.7777777777777778,
              "#fb9f3a"
             ],
             [
              0.8888888888888888,
              "#fdca26"
             ],
             [
              1,
              "#f0f921"
             ]
            ],
            "type": "contour"
           }
          ],
          "contourcarpet": [
           {
            "colorbar": {
             "outlinewidth": 0,
             "ticks": ""
            },
            "type": "contourcarpet"
           }
          ],
          "heatmap": [
           {
            "colorbar": {
             "outlinewidth": 0,
             "ticks": ""
            },
            "colorscale": [
             [
              0,
              "#0d0887"
             ],
             [
              0.1111111111111111,
              "#46039f"
             ],
             [
              0.2222222222222222,
              "#7201a8"
             ],
             [
              0.3333333333333333,
              "#9c179e"
             ],
             [
              0.4444444444444444,
              "#bd3786"
             ],
             [
              0.5555555555555556,
              "#d8576b"
             ],
             [
              0.6666666666666666,
              "#ed7953"
             ],
             [
              0.7777777777777778,
              "#fb9f3a"
             ],
             [
              0.8888888888888888,
              "#fdca26"
             ],
             [
              1,
              "#f0f921"
             ]
            ],
            "type": "heatmap"
           }
          ],
          "heatmapgl": [
           {
            "colorbar": {
             "outlinewidth": 0,
             "ticks": ""
            },
            "colorscale": [
             [
              0,
              "#0d0887"
             ],
             [
              0.1111111111111111,
              "#46039f"
             ],
             [
              0.2222222222222222,
              "#7201a8"
             ],
             [
              0.3333333333333333,
              "#9c179e"
             ],
             [
              0.4444444444444444,
              "#bd3786"
             ],
             [
              0.5555555555555556,
              "#d8576b"
             ],
             [
              0.6666666666666666,
              "#ed7953"
             ],
             [
              0.7777777777777778,
              "#fb9f3a"
             ],
             [
              0.8888888888888888,
              "#fdca26"
             ],
             [
              1,
              "#f0f921"
             ]
            ],
            "type": "heatmapgl"
           }
          ],
          "histogram": [
           {
            "marker": {
             "pattern": {
              "fillmode": "overlay",
              "size": 10,
              "solidity": 0.2
             }
            },
            "type": "histogram"
           }
          ],
          "histogram2d": [
           {
            "colorbar": {
             "outlinewidth": 0,
             "ticks": ""
            },
            "colorscale": [
             [
              0,
              "#0d0887"
             ],
             [
              0.1111111111111111,
              "#46039f"
             ],
             [
              0.2222222222222222,
              "#7201a8"
             ],
             [
              0.3333333333333333,
              "#9c179e"
             ],
             [
              0.4444444444444444,
              "#bd3786"
             ],
             [
              0.5555555555555556,
              "#d8576b"
             ],
             [
              0.6666666666666666,
              "#ed7953"
             ],
             [
              0.7777777777777778,
              "#fb9f3a"
             ],
             [
              0.8888888888888888,
              "#fdca26"
             ],
             [
              1,
              "#f0f921"
             ]
            ],
            "type": "histogram2d"
           }
          ],
          "histogram2dcontour": [
           {
            "colorbar": {
             "outlinewidth": 0,
             "ticks": ""
            },
            "colorscale": [
             [
              0,
              "#0d0887"
             ],
             [
              0.1111111111111111,
              "#46039f"
             ],
             [
              0.2222222222222222,
              "#7201a8"
             ],
             [
              0.3333333333333333,
              "#9c179e"
             ],
             [
              0.4444444444444444,
              "#bd3786"
             ],
             [
              0.5555555555555556,
              "#d8576b"
             ],
             [
              0.6666666666666666,
              "#ed7953"
             ],
             [
              0.7777777777777778,
              "#fb9f3a"
             ],
             [
              0.8888888888888888,
              "#fdca26"
             ],
             [
              1,
              "#f0f921"
             ]
            ],
            "type": "histogram2dcontour"
           }
          ],
          "mesh3d": [
           {
            "colorbar": {
             "outlinewidth": 0,
             "ticks": ""
            },
            "type": "mesh3d"
           }
          ],
          "parcoords": [
           {
            "line": {
             "colorbar": {
              "outlinewidth": 0,
              "ticks": ""
             }
            },
            "type": "parcoords"
           }
          ],
          "pie": [
           {
            "automargin": true,
            "type": "pie"
           }
          ],
          "scatter": [
           {
            "fillpattern": {
             "fillmode": "overlay",
             "size": 10,
             "solidity": 0.2
            },
            "type": "scatter"
           }
          ],
          "scatter3d": [
           {
            "line": {
             "colorbar": {
              "outlinewidth": 0,
              "ticks": ""
             }
            },
            "marker": {
             "colorbar": {
              "outlinewidth": 0,
              "ticks": ""
             }
            },
            "type": "scatter3d"
           }
          ],
          "scattercarpet": [
           {
            "marker": {
             "colorbar": {
              "outlinewidth": 0,
              "ticks": ""
             }
            },
            "type": "scattercarpet"
           }
          ],
          "scattergeo": [
           {
            "marker": {
             "colorbar": {
              "outlinewidth": 0,
              "ticks": ""
             }
            },
            "type": "scattergeo"
           }
          ],
          "scattergl": [
           {
            "marker": {
             "colorbar": {
              "outlinewidth": 0,
              "ticks": ""
             }
            },
            "type": "scattergl"
           }
          ],
          "scattermapbox": [
           {
            "marker": {
             "colorbar": {
              "outlinewidth": 0,
              "ticks": ""
             }
            },
            "type": "scattermapbox"
           }
          ],
          "scatterpolar": [
           {
            "marker": {
             "colorbar": {
              "outlinewidth": 0,
              "ticks": ""
             }
            },
            "type": "scatterpolar"
           }
          ],
          "scatterpolargl": [
           {
            "marker": {
             "colorbar": {
              "outlinewidth": 0,
              "ticks": ""
             }
            },
            "type": "scatterpolargl"
           }
          ],
          "scatterternary": [
           {
            "marker": {
             "colorbar": {
              "outlinewidth": 0,
              "ticks": ""
             }
            },
            "type": "scatterternary"
           }
          ],
          "surface": [
           {
            "colorbar": {
             "outlinewidth": 0,
             "ticks": ""
            },
            "colorscale": [
             [
              0,
              "#0d0887"
             ],
             [
              0.1111111111111111,
              "#46039f"
             ],
             [
              0.2222222222222222,
              "#7201a8"
             ],
             [
              0.3333333333333333,
              "#9c179e"
             ],
             [
              0.4444444444444444,
              "#bd3786"
             ],
             [
              0.5555555555555556,
              "#d8576b"
             ],
             [
              0.6666666666666666,
              "#ed7953"
             ],
             [
              0.7777777777777778,
              "#fb9f3a"
             ],
             [
              0.8888888888888888,
              "#fdca26"
             ],
             [
              1,
              "#f0f921"
             ]
            ],
            "type": "surface"
           }
          ],
          "table": [
           {
            "cells": {
             "fill": {
              "color": "#EBF0F8"
             },
             "line": {
              "color": "white"
             }
            },
            "header": {
             "fill": {
              "color": "#C8D4E3"
             },
             "line": {
              "color": "white"
             }
            },
            "type": "table"
           }
          ]
         },
         "layout": {
          "annotationdefaults": {
           "arrowcolor": "#2a3f5f",
           "arrowhead": 0,
           "arrowwidth": 1
          },
          "autotypenumbers": "strict",
          "coloraxis": {
           "colorbar": {
            "outlinewidth": 0,
            "ticks": ""
           }
          },
          "colorscale": {
           "diverging": [
            [
             0,
             "#8e0152"
            ],
            [
             0.1,
             "#c51b7d"
            ],
            [
             0.2,
             "#de77ae"
            ],
            [
             0.3,
             "#f1b6da"
            ],
            [
             0.4,
             "#fde0ef"
            ],
            [
             0.5,
             "#f7f7f7"
            ],
            [
             0.6,
             "#e6f5d0"
            ],
            [
             0.7,
             "#b8e186"
            ],
            [
             0.8,
             "#7fbc41"
            ],
            [
             0.9,
             "#4d9221"
            ],
            [
             1,
             "#276419"
            ]
           ],
           "sequential": [
            [
             0,
             "#0d0887"
            ],
            [
             0.1111111111111111,
             "#46039f"
            ],
            [
             0.2222222222222222,
             "#7201a8"
            ],
            [
             0.3333333333333333,
             "#9c179e"
            ],
            [
             0.4444444444444444,
             "#bd3786"
            ],
            [
             0.5555555555555556,
             "#d8576b"
            ],
            [
             0.6666666666666666,
             "#ed7953"
            ],
            [
             0.7777777777777778,
             "#fb9f3a"
            ],
            [
             0.8888888888888888,
             "#fdca26"
            ],
            [
             1,
             "#f0f921"
            ]
           ],
           "sequentialminus": [
            [
             0,
             "#0d0887"
            ],
            [
             0.1111111111111111,
             "#46039f"
            ],
            [
             0.2222222222222222,
             "#7201a8"
            ],
            [
             0.3333333333333333,
             "#9c179e"
            ],
            [
             0.4444444444444444,
             "#bd3786"
            ],
            [
             0.5555555555555556,
             "#d8576b"
            ],
            [
             0.6666666666666666,
             "#ed7953"
            ],
            [
             0.7777777777777778,
             "#fb9f3a"
            ],
            [
             0.8888888888888888,
             "#fdca26"
            ],
            [
             1,
             "#f0f921"
            ]
           ]
          },
          "colorway": [
           "#636efa",
           "#EF553B",
           "#00cc96",
           "#ab63fa",
           "#FFA15A",
           "#19d3f3",
           "#FF6692",
           "#B6E880",
           "#FF97FF",
           "#FECB52"
          ],
          "font": {
           "color": "#2a3f5f"
          },
          "geo": {
           "bgcolor": "white",
           "lakecolor": "white",
           "landcolor": "#E5ECF6",
           "showlakes": true,
           "showland": true,
           "subunitcolor": "white"
          },
          "hoverlabel": {
           "align": "left"
          },
          "hovermode": "closest",
          "mapbox": {
           "style": "light"
          },
          "paper_bgcolor": "white",
          "plot_bgcolor": "#E5ECF6",
          "polar": {
           "angularaxis": {
            "gridcolor": "white",
            "linecolor": "white",
            "ticks": ""
           },
           "bgcolor": "#E5ECF6",
           "radialaxis": {
            "gridcolor": "white",
            "linecolor": "white",
            "ticks": ""
           }
          },
          "scene": {
           "xaxis": {
            "backgroundcolor": "#E5ECF6",
            "gridcolor": "white",
            "gridwidth": 2,
            "linecolor": "white",
            "showbackground": true,
            "ticks": "",
            "zerolinecolor": "white"
           },
           "yaxis": {
            "backgroundcolor": "#E5ECF6",
            "gridcolor": "white",
            "gridwidth": 2,
            "linecolor": "white",
            "showbackground": true,
            "ticks": "",
            "zerolinecolor": "white"
           },
           "zaxis": {
            "backgroundcolor": "#E5ECF6",
            "gridcolor": "white",
            "gridwidth": 2,
            "linecolor": "white",
            "showbackground": true,
            "ticks": "",
            "zerolinecolor": "white"
           }
          },
          "shapedefaults": {
           "line": {
            "color": "#2a3f5f"
           }
          },
          "ternary": {
           "aaxis": {
            "gridcolor": "white",
            "linecolor": "white",
            "ticks": ""
           },
           "baxis": {
            "gridcolor": "white",
            "linecolor": "white",
            "ticks": ""
           },
           "bgcolor": "#E5ECF6",
           "caxis": {
            "gridcolor": "white",
            "linecolor": "white",
            "ticks": ""
           }
          },
          "title": {
           "x": 0.05
          },
          "xaxis": {
           "automargin": true,
           "gridcolor": "white",
           "linecolor": "white",
           "ticks": "",
           "title": {
            "standoff": 15
           },
           "zerolinecolor": "white",
           "zerolinewidth": 2
          },
          "yaxis": {
           "automargin": true,
           "gridcolor": "white",
           "linecolor": "white",
           "ticks": "",
           "title": {
            "standoff": 15
           },
           "zerolinecolor": "white",
           "zerolinewidth": 2
          }
         }
        },
        "title": {
         "text": "2021 Distribution of Officers Per 10,000 Residents"
        },
        "xaxis": {
         "anchor": "y2",
         "domain": [
          0,
          1
         ],
         "title": {
          "text": "Officers per 10,000 residents"
         },
         "zeroline": false
        },
        "yaxis": {
         "anchor": "free",
         "domain": [
          0,
          1
         ],
         "gridcolor": "LightGray",
         "gridwidth": 0.5,
         "position": 0,
         "showgrid": true,
         "title": {
          "text": "Frequency"
         }
        }
       }
      }
     },
     "metadata": {},
     "output_type": "display_data"
    }
   ],
   "source": [
    "import plotly.figure_factory as ff\n",
    "\n",
    "fbi_law_enforcement_employee_data = pd.read_csv('./Data/FBI_law_enforcement_employee_data.csv')\n",
    "employee_nums_1960_2021 = pd.DataFrame(fbi_law_enforcement_employee_data)\n",
    "employee_nums_1960_2021.dropna()\n",
    "\n",
    "# Get only city data\n",
    "employee_nums_1960_2021 = employee_nums_1960_2021.loc[employee_nums_1960_2021['agency_type_name'] == 'City']\n",
    "\n",
    "# Get only data from 2016-2021\n",
    "employee_nums_2015_2021 = employee_nums_1960_2021.loc[employee_nums_1960_2021['data_year'].isin([2015, 2016, 2017, 2018, 2019, 2020, 2021])]\n",
    "\n",
    "boston_vals = []\n",
    "average_vals = []\n",
    "median_vals = []\n",
    "city_vals_each_year = [] # List of lists where the first list is the values of all cities in 2015\n",
    "boston_percentiles = []\n",
    "\n",
    "# Get Boston df\n",
    "boston_df = employee_nums_2015_2021.loc[employee_nums_2015_2021[\"pub_agency_name\"] == \"Boston\"]\n",
    "boston_df = boston_df.loc[employee_nums_2015_2021[\"state_abbr\"] == \"MA\"]\n",
    "# boston_df = boston_df.sort_values(by='data_year', ascending=True)\n",
    "\n",
    "for i in range(2015,2022):\n",
    "\n",
    "    # Get Boston values\n",
    "    row = boston_df.loc[boston_df[\"data_year\"] == i]\n",
    "    row = row.squeeze()\n",
    "    pop = row[\"population\"]\n",
    "    officer_ct = row[\"officer_ct\"]\n",
    "    # pop * factor = 10,000 so factor = 10000/pop\n",
    "    factor = 10000/pop\n",
    "    bos_offc_per_10k = officer_ct * factor\n",
    "    boston_vals.append(bos_offc_per_10k)\n",
    "\n",
    "    cities_measured = 0\n",
    "\n",
    "    # Get average values\n",
    "    i_year_rows = employee_nums_2015_2021.loc[employee_nums_2015_2021[\"data_year\"] == i]\n",
    "    all_cities_vals = []\n",
    "    for index, row in i_year_rows.iterrows():\n",
    "        pop = row[\"population\"]\n",
    "        if (pop == 0):\n",
    "            break\n",
    "        officer_ct = row[\"officer_ct\"] \n",
    "        factor = 10000/pop\n",
    "        offc_per_10k = officer_ct * factor\n",
    "        # if (officer_ct == 0):\n",
    "        #     print(str(row[\"data_year\"]) + row['pub_agency_name'])\n",
    "        # Ignore nan values\n",
    "        if np.isnan(offc_per_10k):\n",
    "            break\n",
    "        cities_measured += 1\n",
    "        all_cities_vals.append(offc_per_10k)\n",
    "\n",
    "    # Compute statistices\n",
    "    sum = np.sum(all_cities_vals)\n",
    "    avg = sum/len(all_cities_vals)\n",
    "    median = np.median(all_cities_vals)\n",
    "\n",
    "    city_vals_each_year.append(all_cities_vals)\n",
    "    median_vals.append(median)\n",
    "    average_vals.append(avg)\n",
    "\n",
    "    cities_w_less_offc_per_capita = np.where(all_cities_vals < bos_offc_per_10k)[0]\n",
    "\n",
    "    percentile = round(((len(cities_w_less_offc_per_capita)/cities_measured) * 100), 2)\n",
    "\n",
    "    print(\"Total cities measured:\" + str(cities_measured))\n",
    "    print(\"Total cities with less officers/capita than Boston: \" + str(len(cities_w_less_offc_per_capita)))\n",
    "    print(\"Boston has more officers/capita than: \" + str(percentile) + \" percent of other city PDs\")\n",
    "    boston_percentiles.append(percentile)\n",
    "\n",
    "print(boston_vals)\n",
    "print(average_vals)\n",
    "print(median_vals)\n",
    "\n",
    "# Create plots\n",
    "year = [\"2015\"] * 2 + [\"2016\"] * 2 + [\"2017\"] * 2 + [\"2018\"] * 2 + [\"2019\"] * 2 + [\"2020\"] * 2 + [\"2021\"] * 2\n",
    "values = []\n",
    "labels = []\n",
    "\n",
    "for i in range(int(len(year)/2)):\n",
    "    values.append(median_vals[i])\n",
    "    values.append(boston_vals[i])\n",
    "    labels.append(\"Median\")\n",
    "    labels.append(\"Boston\")\n",
    "\n",
    "# BAR CHART\n",
    "fig3_dict = {\n",
    "    'Year': year,\n",
    "    'Officers per 10k Residents': values,\n",
    "    'Key': labels\n",
    "}\n",
    "\n",
    "colors = ['#231F20','#EF404E']\n",
    "df3 = pd.DataFrame(fig3_dict)\n",
    "fig3 = px.bar(df3, x='Year', y='Officers per 10k Residents', color='Key', title='Officers Per 10,000 Residents (Median of other Departments vs Boston)', barmode=\"group\", color_discrete_map={\n",
    "        'Boston': '#EF404E',\n",
    "        'Median': '#231F20'\n",
    "    })\n",
    "fig3.update_layout(plot_bgcolor='rgba(0,0,0,0)')\n",
    "fig3.update_yaxes(showgrid=True, gridwidth=0.5, gridcolor='LightGray')\n",
    "fig3.show()\n",
    "\n",
    "\n",
    "# DISTRIBUTION GRAPHS\n",
    "hist_data = [city_vals_each_year[-1]]\n",
    "group_labels = ['Density Curve'] \n",
    "bos = boston_vals[-1] # Get Boston's 2021 value\n",
    "\n",
    "\n",
    "colors = ['#0055AA']\n",
    "fig4 = ff.create_distplot(hist_data, group_labels, show_rug=False, colors=colors)\n",
    "fig4.update_layout(title=\"2021 Distribution of Officers Per 10,000 Residents\", xaxis_title=\"Officers per 10,000 residents\", yaxis_title=\"Frequency\")\n",
    "fig4.add_vline(x=bos, line_width=2, line_dash=\"dash\", line_color=\"red\", annotation_text=\"Boston officers per pop > \" + str(boston_percentiles[-1]) + \"% of cities\")\n",
    "fig4.update_layout(plot_bgcolor='rgba(0,0,0,0)')\n",
    "fig4.update_yaxes(showgrid=True, gridwidth=0.5, gridcolor='LightGray')\n",
    "fig4.show()\n",
    "\n"
   ]
  },
  {
   "cell_type": "markdown",
   "metadata": {},
   "source": [
    "FIGURE 3 Analysis:\n",
    "- Boston constantly ranks higher than the median in terms of Officers per 10k residents\n",
    "- Boston's officers/10k pop, has decreased over the years, while the median has increased\n",
    "\n",
    "    ISSUES:\n",
    "    - UCR (Uniform Crime Reports) are not mandatory! This explains the variation in the # of cities which submitted UCR data each year\n",
    "    - Interestingly, the # of cities which submitted UCR datas has been steadily decreasing\n",
    "    - Upwards trend of median could potentially be explained by this\n",
    "    - POSSIBLE EXPLANATION: Larger cities (which typically have larger police forces) may continue to report UCR while smaller cities may have opted out\n",
    "\n",
    "FIGURE 4 Analysis:\n",
    "- Different way of displaying the \"Officers / 10k residents\" statistic\n",
    "- We are able to see where Boston lies compared to other cities \n",
    "- I also display a percentage\n",
    "\n",
    "    ISSUES:\n",
    "    - I only plot values for 1 year (2021)\n",
    "    - Can fix this by using: Box plot OR Ridgeline plot"
   ]
  },
  {
   "cell_type": "markdown",
   "metadata": {},
   "source": [
    "Question 4: \n",
    "BPD proposed vs adopted budget\n",
    "\n",
    "Proposed Budget --> Adopted Budget --> Appropriated Budget --> Actual Expenditure\n",
    "\n",
    "FY15 Adopted: $319700081\n",
    "FY15 Approp: $319700081\n",
    "FY15 Exp: $337310895\n",
    "\n",
    "FY16 Adopted: $323509388\n",
    "FY16 Approp: $332544971\n",
    "FY16 Exp: $348887844\n",
    "\n",
    "FY17 Adopted: $356341193\n",
    "FY17 Approp: $364321048\n",
    "FY17 Exp: $364594820\n",
    "\n",
    "FY18 Adopted: $373814105\n",
    "FY18 Approp: $385562872\n",
    "FY18 Exp: $399924493\n",
    "\n",
    "FY19 Adopted: $400425675\n",
    "FY19 Approp: $400435574\n",
    "FY19 Exp: $416762373\n",
    "\n",
    "FY20 Adopted: $414237376\n",
    "FY20 Approp: $414306876\n",
    "FY20 Exp: $425553210\n",
    "\n",
    "FY21 Adopted: $404182025\n",
    "FY21 Approp: $404182025\n",
    "FY21 Exp: $422917499\n",
    "\n",
    "FY22 Adopted: $399871218\n",
    "FY22 Approp: $400451303\n",
    " \n",
    "FY23 Adopted: $395094796\n",
    "\n",
    "Issue: We dont have a lot of data for proposed budget\n",
    "\n",
    "Question: What do we learn by comparing proposed & adopted budgets? Wouldn't it be more useful to compare adopted budget & actual expenditures, or just measure all types of budgets + expenditure?"
   ]
  },
  {
   "cell_type": "code",
   "execution_count": 8,
   "metadata": {},
   "outputs": [
    {
     "data": {
      "application/vnd.plotly.v1+json": {
       "config": {
        "plotlyServerURL": "https://plot.ly"
       },
       "data": [
        {
         "alignmentgroup": "True",
         "hovertemplate": "Key=Adopted<br>Year=%{x}<br>Budget / Expense Value=%{y}<extra></extra>",
         "legendgroup": "Adopted",
         "marker": {
          "color": "#ffe06c",
          "line": {
           "width": 0
          },
          "pattern": {
           "shape": ""
          }
         },
         "name": "Adopted",
         "offsetgroup": "Adopted",
         "orientation": "v",
         "showlegend": true,
         "textposition": "auto",
         "type": "bar",
         "x": [
          "FY15",
          "FY16",
          "FY17",
          "FY18",
          "FY19",
          "FY20",
          "FY21",
          "FY22",
          "FY23"
         ],
         "xaxis": "x",
         "y": [
          319700081,
          323509388,
          356341193,
          373814105,
          400425675,
          414237376,
          404182025,
          399871218,
          395094796
         ],
         "yaxis": "y"
        },
        {
         "alignmentgroup": "True",
         "hovertemplate": "Key=Appropriated<br>Year=%{x}<br>Budget / Expense Value=%{y}<extra></extra>",
         "legendgroup": "Appropriated",
         "marker": {
          "color": "#6c8bff",
          "line": {
           "width": 0
          },
          "pattern": {
           "shape": ""
          }
         },
         "name": "Appropriated",
         "offsetgroup": "Appropriated",
         "orientation": "v",
         "showlegend": true,
         "textposition": "auto",
         "type": "bar",
         "x": [
          "FY15",
          "FY16",
          "FY17",
          "FY18",
          "FY19",
          "FY20",
          "FY21",
          "FY22"
         ],
         "xaxis": "x",
         "y": [
          319700081,
          332544971,
          364321048,
          385562872,
          400435574,
          414306876,
          404182025,
          400451303
         ],
         "yaxis": "y"
        },
        {
         "alignmentgroup": "True",
         "hovertemplate": "Key=Expense<br>Year=%{x}<br>Budget / Expense Value=%{y}<extra></extra>",
         "legendgroup": "Expense",
         "marker": {
          "color": "#ff6c8b",
          "line": {
           "width": 0
          },
          "pattern": {
           "shape": ""
          }
         },
         "name": "Expense",
         "offsetgroup": "Expense",
         "orientation": "v",
         "showlegend": true,
         "textposition": "auto",
         "type": "bar",
         "x": [
          "FY15",
          "FY16",
          "FY17",
          "FY18",
          "FY19",
          "FY20",
          "FY21"
         ],
         "xaxis": "x",
         "y": [
          337310895,
          348887844,
          364594820,
          399924493,
          416762373,
          425553210,
          422917499
         ],
         "yaxis": "y"
        }
       ],
       "layout": {
        "barmode": "group",
        "legend": {
         "title": {
          "text": "Key"
         },
         "tracegroupgap": 0
        },
        "plot_bgcolor": "rgba(0,0,0,0)",
        "template": {
         "data": {
          "bar": [
           {
            "error_x": {
             "color": "#2a3f5f"
            },
            "error_y": {
             "color": "#2a3f5f"
            },
            "marker": {
             "line": {
              "color": "#E5ECF6",
              "width": 0.5
             },
             "pattern": {
              "fillmode": "overlay",
              "size": 10,
              "solidity": 0.2
             }
            },
            "type": "bar"
           }
          ],
          "barpolar": [
           {
            "marker": {
             "line": {
              "color": "#E5ECF6",
              "width": 0.5
             },
             "pattern": {
              "fillmode": "overlay",
              "size": 10,
              "solidity": 0.2
             }
            },
            "type": "barpolar"
           }
          ],
          "carpet": [
           {
            "aaxis": {
             "endlinecolor": "#2a3f5f",
             "gridcolor": "white",
             "linecolor": "white",
             "minorgridcolor": "white",
             "startlinecolor": "#2a3f5f"
            },
            "baxis": {
             "endlinecolor": "#2a3f5f",
             "gridcolor": "white",
             "linecolor": "white",
             "minorgridcolor": "white",
             "startlinecolor": "#2a3f5f"
            },
            "type": "carpet"
           }
          ],
          "choropleth": [
           {
            "colorbar": {
             "outlinewidth": 0,
             "ticks": ""
            },
            "type": "choropleth"
           }
          ],
          "contour": [
           {
            "colorbar": {
             "outlinewidth": 0,
             "ticks": ""
            },
            "colorscale": [
             [
              0,
              "#0d0887"
             ],
             [
              0.1111111111111111,
              "#46039f"
             ],
             [
              0.2222222222222222,
              "#7201a8"
             ],
             [
              0.3333333333333333,
              "#9c179e"
             ],
             [
              0.4444444444444444,
              "#bd3786"
             ],
             [
              0.5555555555555556,
              "#d8576b"
             ],
             [
              0.6666666666666666,
              "#ed7953"
             ],
             [
              0.7777777777777778,
              "#fb9f3a"
             ],
             [
              0.8888888888888888,
              "#fdca26"
             ],
             [
              1,
              "#f0f921"
             ]
            ],
            "type": "contour"
           }
          ],
          "contourcarpet": [
           {
            "colorbar": {
             "outlinewidth": 0,
             "ticks": ""
            },
            "type": "contourcarpet"
           }
          ],
          "heatmap": [
           {
            "colorbar": {
             "outlinewidth": 0,
             "ticks": ""
            },
            "colorscale": [
             [
              0,
              "#0d0887"
             ],
             [
              0.1111111111111111,
              "#46039f"
             ],
             [
              0.2222222222222222,
              "#7201a8"
             ],
             [
              0.3333333333333333,
              "#9c179e"
             ],
             [
              0.4444444444444444,
              "#bd3786"
             ],
             [
              0.5555555555555556,
              "#d8576b"
             ],
             [
              0.6666666666666666,
              "#ed7953"
             ],
             [
              0.7777777777777778,
              "#fb9f3a"
             ],
             [
              0.8888888888888888,
              "#fdca26"
             ],
             [
              1,
              "#f0f921"
             ]
            ],
            "type": "heatmap"
           }
          ],
          "heatmapgl": [
           {
            "colorbar": {
             "outlinewidth": 0,
             "ticks": ""
            },
            "colorscale": [
             [
              0,
              "#0d0887"
             ],
             [
              0.1111111111111111,
              "#46039f"
             ],
             [
              0.2222222222222222,
              "#7201a8"
             ],
             [
              0.3333333333333333,
              "#9c179e"
             ],
             [
              0.4444444444444444,
              "#bd3786"
             ],
             [
              0.5555555555555556,
              "#d8576b"
             ],
             [
              0.6666666666666666,
              "#ed7953"
             ],
             [
              0.7777777777777778,
              "#fb9f3a"
             ],
             [
              0.8888888888888888,
              "#fdca26"
             ],
             [
              1,
              "#f0f921"
             ]
            ],
            "type": "heatmapgl"
           }
          ],
          "histogram": [
           {
            "marker": {
             "pattern": {
              "fillmode": "overlay",
              "size": 10,
              "solidity": 0.2
             }
            },
            "type": "histogram"
           }
          ],
          "histogram2d": [
           {
            "colorbar": {
             "outlinewidth": 0,
             "ticks": ""
            },
            "colorscale": [
             [
              0,
              "#0d0887"
             ],
             [
              0.1111111111111111,
              "#46039f"
             ],
             [
              0.2222222222222222,
              "#7201a8"
             ],
             [
              0.3333333333333333,
              "#9c179e"
             ],
             [
              0.4444444444444444,
              "#bd3786"
             ],
             [
              0.5555555555555556,
              "#d8576b"
             ],
             [
              0.6666666666666666,
              "#ed7953"
             ],
             [
              0.7777777777777778,
              "#fb9f3a"
             ],
             [
              0.8888888888888888,
              "#fdca26"
             ],
             [
              1,
              "#f0f921"
             ]
            ],
            "type": "histogram2d"
           }
          ],
          "histogram2dcontour": [
           {
            "colorbar": {
             "outlinewidth": 0,
             "ticks": ""
            },
            "colorscale": [
             [
              0,
              "#0d0887"
             ],
             [
              0.1111111111111111,
              "#46039f"
             ],
             [
              0.2222222222222222,
              "#7201a8"
             ],
             [
              0.3333333333333333,
              "#9c179e"
             ],
             [
              0.4444444444444444,
              "#bd3786"
             ],
             [
              0.5555555555555556,
              "#d8576b"
             ],
             [
              0.6666666666666666,
              "#ed7953"
             ],
             [
              0.7777777777777778,
              "#fb9f3a"
             ],
             [
              0.8888888888888888,
              "#fdca26"
             ],
             [
              1,
              "#f0f921"
             ]
            ],
            "type": "histogram2dcontour"
           }
          ],
          "mesh3d": [
           {
            "colorbar": {
             "outlinewidth": 0,
             "ticks": ""
            },
            "type": "mesh3d"
           }
          ],
          "parcoords": [
           {
            "line": {
             "colorbar": {
              "outlinewidth": 0,
              "ticks": ""
             }
            },
            "type": "parcoords"
           }
          ],
          "pie": [
           {
            "automargin": true,
            "type": "pie"
           }
          ],
          "scatter": [
           {
            "fillpattern": {
             "fillmode": "overlay",
             "size": 10,
             "solidity": 0.2
            },
            "type": "scatter"
           }
          ],
          "scatter3d": [
           {
            "line": {
             "colorbar": {
              "outlinewidth": 0,
              "ticks": ""
             }
            },
            "marker": {
             "colorbar": {
              "outlinewidth": 0,
              "ticks": ""
             }
            },
            "type": "scatter3d"
           }
          ],
          "scattercarpet": [
           {
            "marker": {
             "colorbar": {
              "outlinewidth": 0,
              "ticks": ""
             }
            },
            "type": "scattercarpet"
           }
          ],
          "scattergeo": [
           {
            "marker": {
             "colorbar": {
              "outlinewidth": 0,
              "ticks": ""
             }
            },
            "type": "scattergeo"
           }
          ],
          "scattergl": [
           {
            "marker": {
             "colorbar": {
              "outlinewidth": 0,
              "ticks": ""
             }
            },
            "type": "scattergl"
           }
          ],
          "scattermapbox": [
           {
            "marker": {
             "colorbar": {
              "outlinewidth": 0,
              "ticks": ""
             }
            },
            "type": "scattermapbox"
           }
          ],
          "scatterpolar": [
           {
            "marker": {
             "colorbar": {
              "outlinewidth": 0,
              "ticks": ""
             }
            },
            "type": "scatterpolar"
           }
          ],
          "scatterpolargl": [
           {
            "marker": {
             "colorbar": {
              "outlinewidth": 0,
              "ticks": ""
             }
            },
            "type": "scatterpolargl"
           }
          ],
          "scatterternary": [
           {
            "marker": {
             "colorbar": {
              "outlinewidth": 0,
              "ticks": ""
             }
            },
            "type": "scatterternary"
           }
          ],
          "surface": [
           {
            "colorbar": {
             "outlinewidth": 0,
             "ticks": ""
            },
            "colorscale": [
             [
              0,
              "#0d0887"
             ],
             [
              0.1111111111111111,
              "#46039f"
             ],
             [
              0.2222222222222222,
              "#7201a8"
             ],
             [
              0.3333333333333333,
              "#9c179e"
             ],
             [
              0.4444444444444444,
              "#bd3786"
             ],
             [
              0.5555555555555556,
              "#d8576b"
             ],
             [
              0.6666666666666666,
              "#ed7953"
             ],
             [
              0.7777777777777778,
              "#fb9f3a"
             ],
             [
              0.8888888888888888,
              "#fdca26"
             ],
             [
              1,
              "#f0f921"
             ]
            ],
            "type": "surface"
           }
          ],
          "table": [
           {
            "cells": {
             "fill": {
              "color": "#EBF0F8"
             },
             "line": {
              "color": "white"
             }
            },
            "header": {
             "fill": {
              "color": "#C8D4E3"
             },
             "line": {
              "color": "white"
             }
            },
            "type": "table"
           }
          ]
         },
         "layout": {
          "annotationdefaults": {
           "arrowcolor": "#2a3f5f",
           "arrowhead": 0,
           "arrowwidth": 1
          },
          "autotypenumbers": "strict",
          "coloraxis": {
           "colorbar": {
            "outlinewidth": 0,
            "ticks": ""
           }
          },
          "colorscale": {
           "diverging": [
            [
             0,
             "#8e0152"
            ],
            [
             0.1,
             "#c51b7d"
            ],
            [
             0.2,
             "#de77ae"
            ],
            [
             0.3,
             "#f1b6da"
            ],
            [
             0.4,
             "#fde0ef"
            ],
            [
             0.5,
             "#f7f7f7"
            ],
            [
             0.6,
             "#e6f5d0"
            ],
            [
             0.7,
             "#b8e186"
            ],
            [
             0.8,
             "#7fbc41"
            ],
            [
             0.9,
             "#4d9221"
            ],
            [
             1,
             "#276419"
            ]
           ],
           "sequential": [
            [
             0,
             "#0d0887"
            ],
            [
             0.1111111111111111,
             "#46039f"
            ],
            [
             0.2222222222222222,
             "#7201a8"
            ],
            [
             0.3333333333333333,
             "#9c179e"
            ],
            [
             0.4444444444444444,
             "#bd3786"
            ],
            [
             0.5555555555555556,
             "#d8576b"
            ],
            [
             0.6666666666666666,
             "#ed7953"
            ],
            [
             0.7777777777777778,
             "#fb9f3a"
            ],
            [
             0.8888888888888888,
             "#fdca26"
            ],
            [
             1,
             "#f0f921"
            ]
           ],
           "sequentialminus": [
            [
             0,
             "#0d0887"
            ],
            [
             0.1111111111111111,
             "#46039f"
            ],
            [
             0.2222222222222222,
             "#7201a8"
            ],
            [
             0.3333333333333333,
             "#9c179e"
            ],
            [
             0.4444444444444444,
             "#bd3786"
            ],
            [
             0.5555555555555556,
             "#d8576b"
            ],
            [
             0.6666666666666666,
             "#ed7953"
            ],
            [
             0.7777777777777778,
             "#fb9f3a"
            ],
            [
             0.8888888888888888,
             "#fdca26"
            ],
            [
             1,
             "#f0f921"
            ]
           ]
          },
          "colorway": [
           "#636efa",
           "#EF553B",
           "#00cc96",
           "#ab63fa",
           "#FFA15A",
           "#19d3f3",
           "#FF6692",
           "#B6E880",
           "#FF97FF",
           "#FECB52"
          ],
          "font": {
           "color": "#2a3f5f"
          },
          "geo": {
           "bgcolor": "white",
           "lakecolor": "white",
           "landcolor": "#E5ECF6",
           "showlakes": true,
           "showland": true,
           "subunitcolor": "white"
          },
          "hoverlabel": {
           "align": "left"
          },
          "hovermode": "closest",
          "mapbox": {
           "style": "light"
          },
          "paper_bgcolor": "white",
          "plot_bgcolor": "#E5ECF6",
          "polar": {
           "angularaxis": {
            "gridcolor": "white",
            "linecolor": "white",
            "ticks": ""
           },
           "bgcolor": "#E5ECF6",
           "radialaxis": {
            "gridcolor": "white",
            "linecolor": "white",
            "ticks": ""
           }
          },
          "scene": {
           "xaxis": {
            "backgroundcolor": "#E5ECF6",
            "gridcolor": "white",
            "gridwidth": 2,
            "linecolor": "white",
            "showbackground": true,
            "ticks": "",
            "zerolinecolor": "white"
           },
           "yaxis": {
            "backgroundcolor": "#E5ECF6",
            "gridcolor": "white",
            "gridwidth": 2,
            "linecolor": "white",
            "showbackground": true,
            "ticks": "",
            "zerolinecolor": "white"
           },
           "zaxis": {
            "backgroundcolor": "#E5ECF6",
            "gridcolor": "white",
            "gridwidth": 2,
            "linecolor": "white",
            "showbackground": true,
            "ticks": "",
            "zerolinecolor": "white"
           }
          },
          "shapedefaults": {
           "line": {
            "color": "#2a3f5f"
           }
          },
          "ternary": {
           "aaxis": {
            "gridcolor": "white",
            "linecolor": "white",
            "ticks": ""
           },
           "baxis": {
            "gridcolor": "white",
            "linecolor": "white",
            "ticks": ""
           },
           "bgcolor": "#E5ECF6",
           "caxis": {
            "gridcolor": "white",
            "linecolor": "white",
            "ticks": ""
           }
          },
          "title": {
           "x": 0.05
          },
          "xaxis": {
           "automargin": true,
           "gridcolor": "white",
           "linecolor": "white",
           "ticks": "",
           "title": {
            "standoff": 15
           },
           "zerolinecolor": "white",
           "zerolinewidth": 2
          },
          "yaxis": {
           "automargin": true,
           "gridcolor": "white",
           "linecolor": "white",
           "ticks": "",
           "title": {
            "standoff": 15
           },
           "zerolinecolor": "white",
           "zerolinewidth": 2
          }
         }
        },
        "title": {
         "text": "BPDs Adopted Budget, Appropriated Budget, and Actual Expenses"
        },
        "xaxis": {
         "anchor": "y",
         "domain": [
          0,
          1
         ],
         "title": {
          "text": "Year"
         }
        },
        "yaxis": {
         "anchor": "x",
         "domain": [
          0,
          1
         ],
         "gridcolor": "LightGray",
         "gridwidth": 0.5,
         "showgrid": true,
         "title": {
          "text": "Budget / Expense Value"
         }
        }
       }
      }
     },
     "metadata": {},
     "output_type": "display_data"
    }
   ],
   "source": [
    "# BAR CHART\n",
    "from plotly.graph_objs import *\n",
    "\n",
    "year = ['FY15'] * 3 + ['FY16'] * 3 + ['FY17'] * 3 + ['FY18'] * 3 + ['FY19'] * 3 + ['FY20'] * 3 + ['FY21'] * 3 + ['FY22'] * 2 + ['FY23']\n",
    "labels = ['Adopted', 'Appropriated', 'Expense'] * 7 + ['Adopted', 'Appropriated', 'Adopted']\n",
    "values = [319700081, 319700081, 337310895, 323509388, 332544971, 348887844, 356341193, 364321048, 364594820, 373814105, 385562872, 399924493, 400425675, 400435574, 416762373, 414237376, 414306876, 425553210, 404182025, 404182025, 422917499, 399871218, 400451303, 395094796]\n",
    "\n",
    "layout = Layout(\n",
    "    paper_bgcolor='rgba(0,0,0,0)',\n",
    "    plot_bgcolor='rgba(0,0,0,0)'\n",
    ")\n",
    "\n",
    "fig5_dict = {\n",
    "    'Year': year,\n",
    "    'Key': labels,\n",
    "    'Budget / Expense Value': values\n",
    "}\n",
    "\n",
    "df5 = pd.DataFrame(fig5_dict)\n",
    "fig5 = px.bar(df5, x='Year', y='Budget / Expense Value', color='Key', title='BPDs Adopted Budget, Appropriated Budget, and Actual Expenses', barmode=\"group\", color_discrete_sequence=['#ffe06c','#6c8bff','#ff6c8b'])\n",
    "fig5.update_layout(plot_bgcolor='rgba(0,0,0,0)')\n",
    "fig5.update_yaxes(showgrid=True, gridwidth=0.5, gridcolor='LightGray')\n",
    "fig5.update_traces(marker_line_width = 0)\n",
    "fig5.show()"
   ]
  }
 ],
 "metadata": {
  "kernelspec": {
   "display_name": "Python 3.10.7 64-bit",
   "language": "python",
   "name": "python3"
  },
  "language_info": {
   "codemirror_mode": {
    "name": "ipython",
    "version": 3
   },
   "file_extension": ".py",
   "mimetype": "text/x-python",
   "name": "python",
   "nbconvert_exporter": "python",
   "pygments_lexer": "ipython3",
   "version": "3.10.7"
  },
  "orig_nbformat": 4,
  "vscode": {
   "interpreter": {
    "hash": "b0fa6594d8f4cbf19f97940f81e996739fb7646882a419484c72d19e05852a7e"
   }
  }
 },
 "nbformat": 4,
 "nbformat_minor": 2
}
